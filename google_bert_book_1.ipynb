{
  "nbformat": 4,
  "nbformat_minor": 0,
  "metadata": {
    "colab": {
      "name": "google_bert_book_1.ipynb",
      "provenance": [],
      "authorship_tag": "ABX9TyNUFlyausBo1p05Jsq+6M5J",
      "include_colab_link": true
    },
    "kernelspec": {
      "name": "python3",
      "display_name": "Python 3"
    },
    "language_info": {
      "name": "python"
    },
    "accelerator": "GPU",
    "widgets": {
      "application/vnd.jupyter.widget-state+json": {
        "66fdd4e3ab1c4fbf877ba2ef590e8b3b": {
          "model_module": "@jupyter-widgets/controls",
          "model_name": "HBoxModel",
          "state": {
            "_view_name": "HBoxView",
            "_dom_classes": [],
            "_model_name": "HBoxModel",
            "_view_module": "@jupyter-widgets/controls",
            "_model_module_version": "1.5.0",
            "_view_count": null,
            "_view_module_version": "1.5.0",
            "box_style": "",
            "layout": "IPY_MODEL_2b7aded8a6d44a269dba801f943fa6a7",
            "_model_module": "@jupyter-widgets/controls",
            "children": [
              "IPY_MODEL_13a3ff1f171b44e4bc8654c76a41c243",
              "IPY_MODEL_9ba7c277ce094b2a99c5c82b89ea5a0a"
            ]
          }
        },
        "2b7aded8a6d44a269dba801f943fa6a7": {
          "model_module": "@jupyter-widgets/base",
          "model_name": "LayoutModel",
          "state": {
            "_view_name": "LayoutView",
            "grid_template_rows": null,
            "right": null,
            "justify_content": null,
            "_view_module": "@jupyter-widgets/base",
            "overflow": null,
            "_model_module_version": "1.2.0",
            "_view_count": null,
            "flex_flow": null,
            "width": null,
            "min_width": null,
            "border": null,
            "align_items": null,
            "bottom": null,
            "_model_module": "@jupyter-widgets/base",
            "top": null,
            "grid_column": null,
            "overflow_y": null,
            "overflow_x": null,
            "grid_auto_flow": null,
            "grid_area": null,
            "grid_template_columns": null,
            "flex": null,
            "_model_name": "LayoutModel",
            "justify_items": null,
            "grid_row": null,
            "max_height": null,
            "align_content": null,
            "visibility": null,
            "align_self": null,
            "height": null,
            "min_height": null,
            "padding": null,
            "grid_auto_rows": null,
            "grid_gap": null,
            "max_width": null,
            "order": null,
            "_view_module_version": "1.2.0",
            "grid_template_areas": null,
            "object_position": null,
            "object_fit": null,
            "grid_auto_columns": null,
            "margin": null,
            "display": null,
            "left": null
          }
        },
        "13a3ff1f171b44e4bc8654c76a41c243": {
          "model_module": "@jupyter-widgets/controls",
          "model_name": "FloatProgressModel",
          "state": {
            "_view_name": "ProgressView",
            "style": "IPY_MODEL_0da7bff73ef744828e037c33eb790f51",
            "_dom_classes": [],
            "description": "Downloading: 100%",
            "_model_name": "FloatProgressModel",
            "bar_style": "success",
            "max": 570,
            "_view_module": "@jupyter-widgets/controls",
            "_model_module_version": "1.5.0",
            "value": 570,
            "_view_count": null,
            "_view_module_version": "1.5.0",
            "orientation": "horizontal",
            "min": 0,
            "description_tooltip": null,
            "_model_module": "@jupyter-widgets/controls",
            "layout": "IPY_MODEL_aa1ecfd6983f49e8a2e095e2f2d55e76"
          }
        },
        "9ba7c277ce094b2a99c5c82b89ea5a0a": {
          "model_module": "@jupyter-widgets/controls",
          "model_name": "HTMLModel",
          "state": {
            "_view_name": "HTMLView",
            "style": "IPY_MODEL_b9fe88457b69402fa202ce27aaa2c143",
            "_dom_classes": [],
            "description": "",
            "_model_name": "HTMLModel",
            "placeholder": "​",
            "_view_module": "@jupyter-widgets/controls",
            "_model_module_version": "1.5.0",
            "value": " 570/570 [00:09&lt;00:00, 59.7B/s]",
            "_view_count": null,
            "_view_module_version": "1.5.0",
            "description_tooltip": null,
            "_model_module": "@jupyter-widgets/controls",
            "layout": "IPY_MODEL_1e631b10558e4b168b22742ef8413b9e"
          }
        },
        "0da7bff73ef744828e037c33eb790f51": {
          "model_module": "@jupyter-widgets/controls",
          "model_name": "ProgressStyleModel",
          "state": {
            "_view_name": "StyleView",
            "_model_name": "ProgressStyleModel",
            "description_width": "initial",
            "_view_module": "@jupyter-widgets/base",
            "_model_module_version": "1.5.0",
            "_view_count": null,
            "_view_module_version": "1.2.0",
            "bar_color": null,
            "_model_module": "@jupyter-widgets/controls"
          }
        },
        "aa1ecfd6983f49e8a2e095e2f2d55e76": {
          "model_module": "@jupyter-widgets/base",
          "model_name": "LayoutModel",
          "state": {
            "_view_name": "LayoutView",
            "grid_template_rows": null,
            "right": null,
            "justify_content": null,
            "_view_module": "@jupyter-widgets/base",
            "overflow": null,
            "_model_module_version": "1.2.0",
            "_view_count": null,
            "flex_flow": null,
            "width": null,
            "min_width": null,
            "border": null,
            "align_items": null,
            "bottom": null,
            "_model_module": "@jupyter-widgets/base",
            "top": null,
            "grid_column": null,
            "overflow_y": null,
            "overflow_x": null,
            "grid_auto_flow": null,
            "grid_area": null,
            "grid_template_columns": null,
            "flex": null,
            "_model_name": "LayoutModel",
            "justify_items": null,
            "grid_row": null,
            "max_height": null,
            "align_content": null,
            "visibility": null,
            "align_self": null,
            "height": null,
            "min_height": null,
            "padding": null,
            "grid_auto_rows": null,
            "grid_gap": null,
            "max_width": null,
            "order": null,
            "_view_module_version": "1.2.0",
            "grid_template_areas": null,
            "object_position": null,
            "object_fit": null,
            "grid_auto_columns": null,
            "margin": null,
            "display": null,
            "left": null
          }
        },
        "b9fe88457b69402fa202ce27aaa2c143": {
          "model_module": "@jupyter-widgets/controls",
          "model_name": "DescriptionStyleModel",
          "state": {
            "_view_name": "StyleView",
            "_model_name": "DescriptionStyleModel",
            "description_width": "",
            "_view_module": "@jupyter-widgets/base",
            "_model_module_version": "1.5.0",
            "_view_count": null,
            "_view_module_version": "1.2.0",
            "_model_module": "@jupyter-widgets/controls"
          }
        },
        "1e631b10558e4b168b22742ef8413b9e": {
          "model_module": "@jupyter-widgets/base",
          "model_name": "LayoutModel",
          "state": {
            "_view_name": "LayoutView",
            "grid_template_rows": null,
            "right": null,
            "justify_content": null,
            "_view_module": "@jupyter-widgets/base",
            "overflow": null,
            "_model_module_version": "1.2.0",
            "_view_count": null,
            "flex_flow": null,
            "width": null,
            "min_width": null,
            "border": null,
            "align_items": null,
            "bottom": null,
            "_model_module": "@jupyter-widgets/base",
            "top": null,
            "grid_column": null,
            "overflow_y": null,
            "overflow_x": null,
            "grid_auto_flow": null,
            "grid_area": null,
            "grid_template_columns": null,
            "flex": null,
            "_model_name": "LayoutModel",
            "justify_items": null,
            "grid_row": null,
            "max_height": null,
            "align_content": null,
            "visibility": null,
            "align_self": null,
            "height": null,
            "min_height": null,
            "padding": null,
            "grid_auto_rows": null,
            "grid_gap": null,
            "max_width": null,
            "order": null,
            "_view_module_version": "1.2.0",
            "grid_template_areas": null,
            "object_position": null,
            "object_fit": null,
            "grid_auto_columns": null,
            "margin": null,
            "display": null,
            "left": null
          }
        },
        "fa39b3aac942424ab44de7d1414dbf13": {
          "model_module": "@jupyter-widgets/controls",
          "model_name": "HBoxModel",
          "state": {
            "_view_name": "HBoxView",
            "_dom_classes": [],
            "_model_name": "HBoxModel",
            "_view_module": "@jupyter-widgets/controls",
            "_model_module_version": "1.5.0",
            "_view_count": null,
            "_view_module_version": "1.5.0",
            "box_style": "",
            "layout": "IPY_MODEL_e5e5beb6e7904bf998fab4837951c661",
            "_model_module": "@jupyter-widgets/controls",
            "children": [
              "IPY_MODEL_c200fb363a9b4cc09a96f085a9eec053",
              "IPY_MODEL_cbff881867104f90b0ff5b3c19fa64bc"
            ]
          }
        },
        "e5e5beb6e7904bf998fab4837951c661": {
          "model_module": "@jupyter-widgets/base",
          "model_name": "LayoutModel",
          "state": {
            "_view_name": "LayoutView",
            "grid_template_rows": null,
            "right": null,
            "justify_content": null,
            "_view_module": "@jupyter-widgets/base",
            "overflow": null,
            "_model_module_version": "1.2.0",
            "_view_count": null,
            "flex_flow": null,
            "width": null,
            "min_width": null,
            "border": null,
            "align_items": null,
            "bottom": null,
            "_model_module": "@jupyter-widgets/base",
            "top": null,
            "grid_column": null,
            "overflow_y": null,
            "overflow_x": null,
            "grid_auto_flow": null,
            "grid_area": null,
            "grid_template_columns": null,
            "flex": null,
            "_model_name": "LayoutModel",
            "justify_items": null,
            "grid_row": null,
            "max_height": null,
            "align_content": null,
            "visibility": null,
            "align_self": null,
            "height": null,
            "min_height": null,
            "padding": null,
            "grid_auto_rows": null,
            "grid_gap": null,
            "max_width": null,
            "order": null,
            "_view_module_version": "1.2.0",
            "grid_template_areas": null,
            "object_position": null,
            "object_fit": null,
            "grid_auto_columns": null,
            "margin": null,
            "display": null,
            "left": null
          }
        },
        "c200fb363a9b4cc09a96f085a9eec053": {
          "model_module": "@jupyter-widgets/controls",
          "model_name": "FloatProgressModel",
          "state": {
            "_view_name": "ProgressView",
            "style": "IPY_MODEL_ea5217de816b4b82b3a52eb6cff5033a",
            "_dom_classes": [],
            "description": "Downloading: 100%",
            "_model_name": "FloatProgressModel",
            "bar_style": "success",
            "max": 440473133,
            "_view_module": "@jupyter-widgets/controls",
            "_model_module_version": "1.5.0",
            "value": 440473133,
            "_view_count": null,
            "_view_module_version": "1.5.0",
            "orientation": "horizontal",
            "min": 0,
            "description_tooltip": null,
            "_model_module": "@jupyter-widgets/controls",
            "layout": "IPY_MODEL_5e3f289bccc04321ac0b7a1706afa87b"
          }
        },
        "cbff881867104f90b0ff5b3c19fa64bc": {
          "model_module": "@jupyter-widgets/controls",
          "model_name": "HTMLModel",
          "state": {
            "_view_name": "HTMLView",
            "style": "IPY_MODEL_8d771c9928ef4a7bb182325d129f3199",
            "_dom_classes": [],
            "description": "",
            "_model_name": "HTMLModel",
            "placeholder": "​",
            "_view_module": "@jupyter-widgets/controls",
            "_model_module_version": "1.5.0",
            "value": " 440M/440M [00:09&lt;00:00, 47.2MB/s]",
            "_view_count": null,
            "_view_module_version": "1.5.0",
            "description_tooltip": null,
            "_model_module": "@jupyter-widgets/controls",
            "layout": "IPY_MODEL_a4b8fd20b8c24afa9d71fb6edbcdd56a"
          }
        },
        "ea5217de816b4b82b3a52eb6cff5033a": {
          "model_module": "@jupyter-widgets/controls",
          "model_name": "ProgressStyleModel",
          "state": {
            "_view_name": "StyleView",
            "_model_name": "ProgressStyleModel",
            "description_width": "initial",
            "_view_module": "@jupyter-widgets/base",
            "_model_module_version": "1.5.0",
            "_view_count": null,
            "_view_module_version": "1.2.0",
            "bar_color": null,
            "_model_module": "@jupyter-widgets/controls"
          }
        },
        "5e3f289bccc04321ac0b7a1706afa87b": {
          "model_module": "@jupyter-widgets/base",
          "model_name": "LayoutModel",
          "state": {
            "_view_name": "LayoutView",
            "grid_template_rows": null,
            "right": null,
            "justify_content": null,
            "_view_module": "@jupyter-widgets/base",
            "overflow": null,
            "_model_module_version": "1.2.0",
            "_view_count": null,
            "flex_flow": null,
            "width": null,
            "min_width": null,
            "border": null,
            "align_items": null,
            "bottom": null,
            "_model_module": "@jupyter-widgets/base",
            "top": null,
            "grid_column": null,
            "overflow_y": null,
            "overflow_x": null,
            "grid_auto_flow": null,
            "grid_area": null,
            "grid_template_columns": null,
            "flex": null,
            "_model_name": "LayoutModel",
            "justify_items": null,
            "grid_row": null,
            "max_height": null,
            "align_content": null,
            "visibility": null,
            "align_self": null,
            "height": null,
            "min_height": null,
            "padding": null,
            "grid_auto_rows": null,
            "grid_gap": null,
            "max_width": null,
            "order": null,
            "_view_module_version": "1.2.0",
            "grid_template_areas": null,
            "object_position": null,
            "object_fit": null,
            "grid_auto_columns": null,
            "margin": null,
            "display": null,
            "left": null
          }
        },
        "8d771c9928ef4a7bb182325d129f3199": {
          "model_module": "@jupyter-widgets/controls",
          "model_name": "DescriptionStyleModel",
          "state": {
            "_view_name": "StyleView",
            "_model_name": "DescriptionStyleModel",
            "description_width": "",
            "_view_module": "@jupyter-widgets/base",
            "_model_module_version": "1.5.0",
            "_view_count": null,
            "_view_module_version": "1.2.0",
            "_model_module": "@jupyter-widgets/controls"
          }
        },
        "a4b8fd20b8c24afa9d71fb6edbcdd56a": {
          "model_module": "@jupyter-widgets/base",
          "model_name": "LayoutModel",
          "state": {
            "_view_name": "LayoutView",
            "grid_template_rows": null,
            "right": null,
            "justify_content": null,
            "_view_module": "@jupyter-widgets/base",
            "overflow": null,
            "_model_module_version": "1.2.0",
            "_view_count": null,
            "flex_flow": null,
            "width": null,
            "min_width": null,
            "border": null,
            "align_items": null,
            "bottom": null,
            "_model_module": "@jupyter-widgets/base",
            "top": null,
            "grid_column": null,
            "overflow_y": null,
            "overflow_x": null,
            "grid_auto_flow": null,
            "grid_area": null,
            "grid_template_columns": null,
            "flex": null,
            "_model_name": "LayoutModel",
            "justify_items": null,
            "grid_row": null,
            "max_height": null,
            "align_content": null,
            "visibility": null,
            "align_self": null,
            "height": null,
            "min_height": null,
            "padding": null,
            "grid_auto_rows": null,
            "grid_gap": null,
            "max_width": null,
            "order": null,
            "_view_module_version": "1.2.0",
            "grid_template_areas": null,
            "object_position": null,
            "object_fit": null,
            "grid_auto_columns": null,
            "margin": null,
            "display": null,
            "left": null
          }
        },
        "14c606cc497e4b28b7d6152cc0d99660": {
          "model_module": "@jupyter-widgets/controls",
          "model_name": "HBoxModel",
          "state": {
            "_view_name": "HBoxView",
            "_dom_classes": [],
            "_model_name": "HBoxModel",
            "_view_module": "@jupyter-widgets/controls",
            "_model_module_version": "1.5.0",
            "_view_count": null,
            "_view_module_version": "1.5.0",
            "box_style": "",
            "layout": "IPY_MODEL_4b133a14e7944b94be162b83464d15bc",
            "_model_module": "@jupyter-widgets/controls",
            "children": [
              "IPY_MODEL_bf7a03b0545c4abaa1905d633540c942",
              "IPY_MODEL_baaaf7c2440f402babb6c693199a977f"
            ]
          }
        },
        "4b133a14e7944b94be162b83464d15bc": {
          "model_module": "@jupyter-widgets/base",
          "model_name": "LayoutModel",
          "state": {
            "_view_name": "LayoutView",
            "grid_template_rows": null,
            "right": null,
            "justify_content": null,
            "_view_module": "@jupyter-widgets/base",
            "overflow": null,
            "_model_module_version": "1.2.0",
            "_view_count": null,
            "flex_flow": null,
            "width": null,
            "min_width": null,
            "border": null,
            "align_items": null,
            "bottom": null,
            "_model_module": "@jupyter-widgets/base",
            "top": null,
            "grid_column": null,
            "overflow_y": null,
            "overflow_x": null,
            "grid_auto_flow": null,
            "grid_area": null,
            "grid_template_columns": null,
            "flex": null,
            "_model_name": "LayoutModel",
            "justify_items": null,
            "grid_row": null,
            "max_height": null,
            "align_content": null,
            "visibility": null,
            "align_self": null,
            "height": null,
            "min_height": null,
            "padding": null,
            "grid_auto_rows": null,
            "grid_gap": null,
            "max_width": null,
            "order": null,
            "_view_module_version": "1.2.0",
            "grid_template_areas": null,
            "object_position": null,
            "object_fit": null,
            "grid_auto_columns": null,
            "margin": null,
            "display": null,
            "left": null
          }
        },
        "bf7a03b0545c4abaa1905d633540c942": {
          "model_module": "@jupyter-widgets/controls",
          "model_name": "FloatProgressModel",
          "state": {
            "_view_name": "ProgressView",
            "style": "IPY_MODEL_00116c9ce9ec4e2d98509039e4eb4af2",
            "_dom_classes": [],
            "description": "Downloading: 100%",
            "_model_name": "FloatProgressModel",
            "bar_style": "success",
            "max": 231508,
            "_view_module": "@jupyter-widgets/controls",
            "_model_module_version": "1.5.0",
            "value": 231508,
            "_view_count": null,
            "_view_module_version": "1.5.0",
            "orientation": "horizontal",
            "min": 0,
            "description_tooltip": null,
            "_model_module": "@jupyter-widgets/controls",
            "layout": "IPY_MODEL_af7f171d76864ab080c9d8137ec243df"
          }
        },
        "baaaf7c2440f402babb6c693199a977f": {
          "model_module": "@jupyter-widgets/controls",
          "model_name": "HTMLModel",
          "state": {
            "_view_name": "HTMLView",
            "style": "IPY_MODEL_93e3832c6fad4a7f86bae2967aa76996",
            "_dom_classes": [],
            "description": "",
            "_model_name": "HTMLModel",
            "placeholder": "​",
            "_view_module": "@jupyter-widgets/controls",
            "_model_module_version": "1.5.0",
            "value": " 232k/232k [00:00&lt;00:00, 650kB/s]",
            "_view_count": null,
            "_view_module_version": "1.5.0",
            "description_tooltip": null,
            "_model_module": "@jupyter-widgets/controls",
            "layout": "IPY_MODEL_0d1e0580209e46439f8620aaca2d73cc"
          }
        },
        "00116c9ce9ec4e2d98509039e4eb4af2": {
          "model_module": "@jupyter-widgets/controls",
          "model_name": "ProgressStyleModel",
          "state": {
            "_view_name": "StyleView",
            "_model_name": "ProgressStyleModel",
            "description_width": "initial",
            "_view_module": "@jupyter-widgets/base",
            "_model_module_version": "1.5.0",
            "_view_count": null,
            "_view_module_version": "1.2.0",
            "bar_color": null,
            "_model_module": "@jupyter-widgets/controls"
          }
        },
        "af7f171d76864ab080c9d8137ec243df": {
          "model_module": "@jupyter-widgets/base",
          "model_name": "LayoutModel",
          "state": {
            "_view_name": "LayoutView",
            "grid_template_rows": null,
            "right": null,
            "justify_content": null,
            "_view_module": "@jupyter-widgets/base",
            "overflow": null,
            "_model_module_version": "1.2.0",
            "_view_count": null,
            "flex_flow": null,
            "width": null,
            "min_width": null,
            "border": null,
            "align_items": null,
            "bottom": null,
            "_model_module": "@jupyter-widgets/base",
            "top": null,
            "grid_column": null,
            "overflow_y": null,
            "overflow_x": null,
            "grid_auto_flow": null,
            "grid_area": null,
            "grid_template_columns": null,
            "flex": null,
            "_model_name": "LayoutModel",
            "justify_items": null,
            "grid_row": null,
            "max_height": null,
            "align_content": null,
            "visibility": null,
            "align_self": null,
            "height": null,
            "min_height": null,
            "padding": null,
            "grid_auto_rows": null,
            "grid_gap": null,
            "max_width": null,
            "order": null,
            "_view_module_version": "1.2.0",
            "grid_template_areas": null,
            "object_position": null,
            "object_fit": null,
            "grid_auto_columns": null,
            "margin": null,
            "display": null,
            "left": null
          }
        },
        "93e3832c6fad4a7f86bae2967aa76996": {
          "model_module": "@jupyter-widgets/controls",
          "model_name": "DescriptionStyleModel",
          "state": {
            "_view_name": "StyleView",
            "_model_name": "DescriptionStyleModel",
            "description_width": "",
            "_view_module": "@jupyter-widgets/base",
            "_model_module_version": "1.5.0",
            "_view_count": null,
            "_view_module_version": "1.2.0",
            "_model_module": "@jupyter-widgets/controls"
          }
        },
        "0d1e0580209e46439f8620aaca2d73cc": {
          "model_module": "@jupyter-widgets/base",
          "model_name": "LayoutModel",
          "state": {
            "_view_name": "LayoutView",
            "grid_template_rows": null,
            "right": null,
            "justify_content": null,
            "_view_module": "@jupyter-widgets/base",
            "overflow": null,
            "_model_module_version": "1.2.0",
            "_view_count": null,
            "flex_flow": null,
            "width": null,
            "min_width": null,
            "border": null,
            "align_items": null,
            "bottom": null,
            "_model_module": "@jupyter-widgets/base",
            "top": null,
            "grid_column": null,
            "overflow_y": null,
            "overflow_x": null,
            "grid_auto_flow": null,
            "grid_area": null,
            "grid_template_columns": null,
            "flex": null,
            "_model_name": "LayoutModel",
            "justify_items": null,
            "grid_row": null,
            "max_height": null,
            "align_content": null,
            "visibility": null,
            "align_self": null,
            "height": null,
            "min_height": null,
            "padding": null,
            "grid_auto_rows": null,
            "grid_gap": null,
            "max_width": null,
            "order": null,
            "_view_module_version": "1.2.0",
            "grid_template_areas": null,
            "object_position": null,
            "object_fit": null,
            "grid_auto_columns": null,
            "margin": null,
            "display": null,
            "left": null
          }
        },
        "f833aebdc53643e59a3cc113214fac49": {
          "model_module": "@jupyter-widgets/controls",
          "model_name": "HBoxModel",
          "state": {
            "_view_name": "HBoxView",
            "_dom_classes": [],
            "_model_name": "HBoxModel",
            "_view_module": "@jupyter-widgets/controls",
            "_model_module_version": "1.5.0",
            "_view_count": null,
            "_view_module_version": "1.5.0",
            "box_style": "",
            "layout": "IPY_MODEL_991df3140e5c42899b0411026fcb58d4",
            "_model_module": "@jupyter-widgets/controls",
            "children": [
              "IPY_MODEL_c6c7c3d1033a42fb92ef8c984caa3918",
              "IPY_MODEL_b852c220b9494bb7852080252bd3e492"
            ]
          }
        },
        "991df3140e5c42899b0411026fcb58d4": {
          "model_module": "@jupyter-widgets/base",
          "model_name": "LayoutModel",
          "state": {
            "_view_name": "LayoutView",
            "grid_template_rows": null,
            "right": null,
            "justify_content": null,
            "_view_module": "@jupyter-widgets/base",
            "overflow": null,
            "_model_module_version": "1.2.0",
            "_view_count": null,
            "flex_flow": null,
            "width": null,
            "min_width": null,
            "border": null,
            "align_items": null,
            "bottom": null,
            "_model_module": "@jupyter-widgets/base",
            "top": null,
            "grid_column": null,
            "overflow_y": null,
            "overflow_x": null,
            "grid_auto_flow": null,
            "grid_area": null,
            "grid_template_columns": null,
            "flex": null,
            "_model_name": "LayoutModel",
            "justify_items": null,
            "grid_row": null,
            "max_height": null,
            "align_content": null,
            "visibility": null,
            "align_self": null,
            "height": null,
            "min_height": null,
            "padding": null,
            "grid_auto_rows": null,
            "grid_gap": null,
            "max_width": null,
            "order": null,
            "_view_module_version": "1.2.0",
            "grid_template_areas": null,
            "object_position": null,
            "object_fit": null,
            "grid_auto_columns": null,
            "margin": null,
            "display": null,
            "left": null
          }
        },
        "c6c7c3d1033a42fb92ef8c984caa3918": {
          "model_module": "@jupyter-widgets/controls",
          "model_name": "FloatProgressModel",
          "state": {
            "_view_name": "ProgressView",
            "style": "IPY_MODEL_f0dce92fefd74f57886f5ae0607f5814",
            "_dom_classes": [],
            "description": "Downloading: 100%",
            "_model_name": "FloatProgressModel",
            "bar_style": "success",
            "max": 28,
            "_view_module": "@jupyter-widgets/controls",
            "_model_module_version": "1.5.0",
            "value": 28,
            "_view_count": null,
            "_view_module_version": "1.5.0",
            "orientation": "horizontal",
            "min": 0,
            "description_tooltip": null,
            "_model_module": "@jupyter-widgets/controls",
            "layout": "IPY_MODEL_e210e3f60e4f4c41b9bc8ba6a162d156"
          }
        },
        "b852c220b9494bb7852080252bd3e492": {
          "model_module": "@jupyter-widgets/controls",
          "model_name": "HTMLModel",
          "state": {
            "_view_name": "HTMLView",
            "style": "IPY_MODEL_beaa5f7bf8074a489dd1ad09c75d0179",
            "_dom_classes": [],
            "description": "",
            "_model_name": "HTMLModel",
            "placeholder": "​",
            "_view_module": "@jupyter-widgets/controls",
            "_model_module_version": "1.5.0",
            "value": " 28.0/28.0 [00:00&lt;00:00, 139B/s]",
            "_view_count": null,
            "_view_module_version": "1.5.0",
            "description_tooltip": null,
            "_model_module": "@jupyter-widgets/controls",
            "layout": "IPY_MODEL_eec399e7c108475c9c571e20af2f7a60"
          }
        },
        "f0dce92fefd74f57886f5ae0607f5814": {
          "model_module": "@jupyter-widgets/controls",
          "model_name": "ProgressStyleModel",
          "state": {
            "_view_name": "StyleView",
            "_model_name": "ProgressStyleModel",
            "description_width": "initial",
            "_view_module": "@jupyter-widgets/base",
            "_model_module_version": "1.5.0",
            "_view_count": null,
            "_view_module_version": "1.2.0",
            "bar_color": null,
            "_model_module": "@jupyter-widgets/controls"
          }
        },
        "e210e3f60e4f4c41b9bc8ba6a162d156": {
          "model_module": "@jupyter-widgets/base",
          "model_name": "LayoutModel",
          "state": {
            "_view_name": "LayoutView",
            "grid_template_rows": null,
            "right": null,
            "justify_content": null,
            "_view_module": "@jupyter-widgets/base",
            "overflow": null,
            "_model_module_version": "1.2.0",
            "_view_count": null,
            "flex_flow": null,
            "width": null,
            "min_width": null,
            "border": null,
            "align_items": null,
            "bottom": null,
            "_model_module": "@jupyter-widgets/base",
            "top": null,
            "grid_column": null,
            "overflow_y": null,
            "overflow_x": null,
            "grid_auto_flow": null,
            "grid_area": null,
            "grid_template_columns": null,
            "flex": null,
            "_model_name": "LayoutModel",
            "justify_items": null,
            "grid_row": null,
            "max_height": null,
            "align_content": null,
            "visibility": null,
            "align_self": null,
            "height": null,
            "min_height": null,
            "padding": null,
            "grid_auto_rows": null,
            "grid_gap": null,
            "max_width": null,
            "order": null,
            "_view_module_version": "1.2.0",
            "grid_template_areas": null,
            "object_position": null,
            "object_fit": null,
            "grid_auto_columns": null,
            "margin": null,
            "display": null,
            "left": null
          }
        },
        "beaa5f7bf8074a489dd1ad09c75d0179": {
          "model_module": "@jupyter-widgets/controls",
          "model_name": "DescriptionStyleModel",
          "state": {
            "_view_name": "StyleView",
            "_model_name": "DescriptionStyleModel",
            "description_width": "",
            "_view_module": "@jupyter-widgets/base",
            "_model_module_version": "1.5.0",
            "_view_count": null,
            "_view_module_version": "1.2.0",
            "_model_module": "@jupyter-widgets/controls"
          }
        },
        "eec399e7c108475c9c571e20af2f7a60": {
          "model_module": "@jupyter-widgets/base",
          "model_name": "LayoutModel",
          "state": {
            "_view_name": "LayoutView",
            "grid_template_rows": null,
            "right": null,
            "justify_content": null,
            "_view_module": "@jupyter-widgets/base",
            "overflow": null,
            "_model_module_version": "1.2.0",
            "_view_count": null,
            "flex_flow": null,
            "width": null,
            "min_width": null,
            "border": null,
            "align_items": null,
            "bottom": null,
            "_model_module": "@jupyter-widgets/base",
            "top": null,
            "grid_column": null,
            "overflow_y": null,
            "overflow_x": null,
            "grid_auto_flow": null,
            "grid_area": null,
            "grid_template_columns": null,
            "flex": null,
            "_model_name": "LayoutModel",
            "justify_items": null,
            "grid_row": null,
            "max_height": null,
            "align_content": null,
            "visibility": null,
            "align_self": null,
            "height": null,
            "min_height": null,
            "padding": null,
            "grid_auto_rows": null,
            "grid_gap": null,
            "max_width": null,
            "order": null,
            "_view_module_version": "1.2.0",
            "grid_template_areas": null,
            "object_position": null,
            "object_fit": null,
            "grid_auto_columns": null,
            "margin": null,
            "display": null,
            "left": null
          }
        },
        "988d1d28b9b045a5914a37735145bd7c": {
          "model_module": "@jupyter-widgets/controls",
          "model_name": "HBoxModel",
          "state": {
            "_view_name": "HBoxView",
            "_dom_classes": [],
            "_model_name": "HBoxModel",
            "_view_module": "@jupyter-widgets/controls",
            "_model_module_version": "1.5.0",
            "_view_count": null,
            "_view_module_version": "1.5.0",
            "box_style": "",
            "layout": "IPY_MODEL_c522457a6f3c43bc8605aa1b3cc2b049",
            "_model_module": "@jupyter-widgets/controls",
            "children": [
              "IPY_MODEL_017fa63c97fb49038e6df3259dfdaaed",
              "IPY_MODEL_5196e73604124ac68f838b94b8bd5dd7"
            ]
          }
        },
        "c522457a6f3c43bc8605aa1b3cc2b049": {
          "model_module": "@jupyter-widgets/base",
          "model_name": "LayoutModel",
          "state": {
            "_view_name": "LayoutView",
            "grid_template_rows": null,
            "right": null,
            "justify_content": null,
            "_view_module": "@jupyter-widgets/base",
            "overflow": null,
            "_model_module_version": "1.2.0",
            "_view_count": null,
            "flex_flow": null,
            "width": null,
            "min_width": null,
            "border": null,
            "align_items": null,
            "bottom": null,
            "_model_module": "@jupyter-widgets/base",
            "top": null,
            "grid_column": null,
            "overflow_y": null,
            "overflow_x": null,
            "grid_auto_flow": null,
            "grid_area": null,
            "grid_template_columns": null,
            "flex": null,
            "_model_name": "LayoutModel",
            "justify_items": null,
            "grid_row": null,
            "max_height": null,
            "align_content": null,
            "visibility": null,
            "align_self": null,
            "height": null,
            "min_height": null,
            "padding": null,
            "grid_auto_rows": null,
            "grid_gap": null,
            "max_width": null,
            "order": null,
            "_view_module_version": "1.2.0",
            "grid_template_areas": null,
            "object_position": null,
            "object_fit": null,
            "grid_auto_columns": null,
            "margin": null,
            "display": null,
            "left": null
          }
        },
        "017fa63c97fb49038e6df3259dfdaaed": {
          "model_module": "@jupyter-widgets/controls",
          "model_name": "FloatProgressModel",
          "state": {
            "_view_name": "ProgressView",
            "style": "IPY_MODEL_6a9a5ac619874fd88e2b183ec92719b8",
            "_dom_classes": [],
            "description": "Downloading: 100%",
            "_model_name": "FloatProgressModel",
            "bar_style": "success",
            "max": 466062,
            "_view_module": "@jupyter-widgets/controls",
            "_model_module_version": "1.5.0",
            "value": 466062,
            "_view_count": null,
            "_view_module_version": "1.5.0",
            "orientation": "horizontal",
            "min": 0,
            "description_tooltip": null,
            "_model_module": "@jupyter-widgets/controls",
            "layout": "IPY_MODEL_325272d398fe4371b5c6a7a0d1830ed3"
          }
        },
        "5196e73604124ac68f838b94b8bd5dd7": {
          "model_module": "@jupyter-widgets/controls",
          "model_name": "HTMLModel",
          "state": {
            "_view_name": "HTMLView",
            "style": "IPY_MODEL_788458453af64c3e901ae4d293a0e3e1",
            "_dom_classes": [],
            "description": "",
            "_model_name": "HTMLModel",
            "placeholder": "​",
            "_view_module": "@jupyter-widgets/controls",
            "_model_module_version": "1.5.0",
            "value": " 466k/466k [00:00&lt;00:00, 4.57MB/s]",
            "_view_count": null,
            "_view_module_version": "1.5.0",
            "description_tooltip": null,
            "_model_module": "@jupyter-widgets/controls",
            "layout": "IPY_MODEL_aab8fbe5aaa342b1b10fd2a9aae43dbd"
          }
        },
        "6a9a5ac619874fd88e2b183ec92719b8": {
          "model_module": "@jupyter-widgets/controls",
          "model_name": "ProgressStyleModel",
          "state": {
            "_view_name": "StyleView",
            "_model_name": "ProgressStyleModel",
            "description_width": "initial",
            "_view_module": "@jupyter-widgets/base",
            "_model_module_version": "1.5.0",
            "_view_count": null,
            "_view_module_version": "1.2.0",
            "bar_color": null,
            "_model_module": "@jupyter-widgets/controls"
          }
        },
        "325272d398fe4371b5c6a7a0d1830ed3": {
          "model_module": "@jupyter-widgets/base",
          "model_name": "LayoutModel",
          "state": {
            "_view_name": "LayoutView",
            "grid_template_rows": null,
            "right": null,
            "justify_content": null,
            "_view_module": "@jupyter-widgets/base",
            "overflow": null,
            "_model_module_version": "1.2.0",
            "_view_count": null,
            "flex_flow": null,
            "width": null,
            "min_width": null,
            "border": null,
            "align_items": null,
            "bottom": null,
            "_model_module": "@jupyter-widgets/base",
            "top": null,
            "grid_column": null,
            "overflow_y": null,
            "overflow_x": null,
            "grid_auto_flow": null,
            "grid_area": null,
            "grid_template_columns": null,
            "flex": null,
            "_model_name": "LayoutModel",
            "justify_items": null,
            "grid_row": null,
            "max_height": null,
            "align_content": null,
            "visibility": null,
            "align_self": null,
            "height": null,
            "min_height": null,
            "padding": null,
            "grid_auto_rows": null,
            "grid_gap": null,
            "max_width": null,
            "order": null,
            "_view_module_version": "1.2.0",
            "grid_template_areas": null,
            "object_position": null,
            "object_fit": null,
            "grid_auto_columns": null,
            "margin": null,
            "display": null,
            "left": null
          }
        },
        "788458453af64c3e901ae4d293a0e3e1": {
          "model_module": "@jupyter-widgets/controls",
          "model_name": "DescriptionStyleModel",
          "state": {
            "_view_name": "StyleView",
            "_model_name": "DescriptionStyleModel",
            "description_width": "",
            "_view_module": "@jupyter-widgets/base",
            "_model_module_version": "1.5.0",
            "_view_count": null,
            "_view_module_version": "1.2.0",
            "_model_module": "@jupyter-widgets/controls"
          }
        },
        "aab8fbe5aaa342b1b10fd2a9aae43dbd": {
          "model_module": "@jupyter-widgets/base",
          "model_name": "LayoutModel",
          "state": {
            "_view_name": "LayoutView",
            "grid_template_rows": null,
            "right": null,
            "justify_content": null,
            "_view_module": "@jupyter-widgets/base",
            "overflow": null,
            "_model_module_version": "1.2.0",
            "_view_count": null,
            "flex_flow": null,
            "width": null,
            "min_width": null,
            "border": null,
            "align_items": null,
            "bottom": null,
            "_model_module": "@jupyter-widgets/base",
            "top": null,
            "grid_column": null,
            "overflow_y": null,
            "overflow_x": null,
            "grid_auto_flow": null,
            "grid_area": null,
            "grid_template_columns": null,
            "flex": null,
            "_model_name": "LayoutModel",
            "justify_items": null,
            "grid_row": null,
            "max_height": null,
            "align_content": null,
            "visibility": null,
            "align_self": null,
            "height": null,
            "min_height": null,
            "padding": null,
            "grid_auto_rows": null,
            "grid_gap": null,
            "max_width": null,
            "order": null,
            "_view_module_version": "1.2.0",
            "grid_template_areas": null,
            "object_position": null,
            "object_fit": null,
            "grid_auto_columns": null,
            "margin": null,
            "display": null,
            "left": null
          }
        },
        "cca3fe6a74b74aedb5f55f293c64c2f8": {
          "model_module": "@jupyter-widgets/controls",
          "model_name": "HBoxModel",
          "state": {
            "_view_name": "HBoxView",
            "_dom_classes": [],
            "_model_name": "HBoxModel",
            "_view_module": "@jupyter-widgets/controls",
            "_model_module_version": "1.5.0",
            "_view_count": null,
            "_view_module_version": "1.5.0",
            "box_style": "",
            "layout": "IPY_MODEL_171f43c6b38840cc9d695d40ba0364d7",
            "_model_module": "@jupyter-widgets/controls",
            "children": [
              "IPY_MODEL_88766ff10e9446cebd1b47c9fe15f4f7",
              "IPY_MODEL_9681245740914890b7f8048e4dfa9509"
            ]
          }
        },
        "171f43c6b38840cc9d695d40ba0364d7": {
          "model_module": "@jupyter-widgets/base",
          "model_name": "LayoutModel",
          "state": {
            "_view_name": "LayoutView",
            "grid_template_rows": null,
            "right": null,
            "justify_content": null,
            "_view_module": "@jupyter-widgets/base",
            "overflow": null,
            "_model_module_version": "1.2.0",
            "_view_count": null,
            "flex_flow": null,
            "width": null,
            "min_width": null,
            "border": null,
            "align_items": null,
            "bottom": null,
            "_model_module": "@jupyter-widgets/base",
            "top": null,
            "grid_column": null,
            "overflow_y": null,
            "overflow_x": null,
            "grid_auto_flow": null,
            "grid_area": null,
            "grid_template_columns": null,
            "flex": null,
            "_model_name": "LayoutModel",
            "justify_items": null,
            "grid_row": null,
            "max_height": null,
            "align_content": null,
            "visibility": null,
            "align_self": null,
            "height": null,
            "min_height": null,
            "padding": null,
            "grid_auto_rows": null,
            "grid_gap": null,
            "max_width": null,
            "order": null,
            "_view_module_version": "1.2.0",
            "grid_template_areas": null,
            "object_position": null,
            "object_fit": null,
            "grid_auto_columns": null,
            "margin": null,
            "display": null,
            "left": null
          }
        },
        "88766ff10e9446cebd1b47c9fe15f4f7": {
          "model_module": "@jupyter-widgets/controls",
          "model_name": "FloatProgressModel",
          "state": {
            "_view_name": "ProgressView",
            "style": "IPY_MODEL_ec32f9bb5c13448d9b6071b29e67b87e",
            "_dom_classes": [],
            "description": "100%",
            "_model_name": "FloatProgressModel",
            "bar_style": "success",
            "max": 1,
            "_view_module": "@jupyter-widgets/controls",
            "_model_module_version": "1.5.0",
            "value": 1,
            "_view_count": null,
            "_view_module_version": "1.5.0",
            "orientation": "horizontal",
            "min": 0,
            "description_tooltip": null,
            "_model_module": "@jupyter-widgets/controls",
            "layout": "IPY_MODEL_9818a81d70e64df8bcb3112af55aacc8"
          }
        },
        "9681245740914890b7f8048e4dfa9509": {
          "model_module": "@jupyter-widgets/controls",
          "model_name": "HTMLModel",
          "state": {
            "_view_name": "HTMLView",
            "style": "IPY_MODEL_80fedfc0c1544bf287a355dff072d363",
            "_dom_classes": [],
            "description": "",
            "_model_name": "HTMLModel",
            "placeholder": "​",
            "_view_module": "@jupyter-widgets/controls",
            "_model_module_version": "1.5.0",
            "value": " 1/1 [00:04&lt;00:00,  4.73s/it]",
            "_view_count": null,
            "_view_module_version": "1.5.0",
            "description_tooltip": null,
            "_model_module": "@jupyter-widgets/controls",
            "layout": "IPY_MODEL_5b1c17166be4407297ecb903c3826c9a"
          }
        },
        "ec32f9bb5c13448d9b6071b29e67b87e": {
          "model_module": "@jupyter-widgets/controls",
          "model_name": "ProgressStyleModel",
          "state": {
            "_view_name": "StyleView",
            "_model_name": "ProgressStyleModel",
            "description_width": "initial",
            "_view_module": "@jupyter-widgets/base",
            "_model_module_version": "1.5.0",
            "_view_count": null,
            "_view_module_version": "1.2.0",
            "bar_color": null,
            "_model_module": "@jupyter-widgets/controls"
          }
        },
        "9818a81d70e64df8bcb3112af55aacc8": {
          "model_module": "@jupyter-widgets/base",
          "model_name": "LayoutModel",
          "state": {
            "_view_name": "LayoutView",
            "grid_template_rows": null,
            "right": null,
            "justify_content": null,
            "_view_module": "@jupyter-widgets/base",
            "overflow": null,
            "_model_module_version": "1.2.0",
            "_view_count": null,
            "flex_flow": null,
            "width": null,
            "min_width": null,
            "border": null,
            "align_items": null,
            "bottom": null,
            "_model_module": "@jupyter-widgets/base",
            "top": null,
            "grid_column": null,
            "overflow_y": null,
            "overflow_x": null,
            "grid_auto_flow": null,
            "grid_area": null,
            "grid_template_columns": null,
            "flex": null,
            "_model_name": "LayoutModel",
            "justify_items": null,
            "grid_row": null,
            "max_height": null,
            "align_content": null,
            "visibility": null,
            "align_self": null,
            "height": null,
            "min_height": null,
            "padding": null,
            "grid_auto_rows": null,
            "grid_gap": null,
            "max_width": null,
            "order": null,
            "_view_module_version": "1.2.0",
            "grid_template_areas": null,
            "object_position": null,
            "object_fit": null,
            "grid_auto_columns": null,
            "margin": null,
            "display": null,
            "left": null
          }
        },
        "80fedfc0c1544bf287a355dff072d363": {
          "model_module": "@jupyter-widgets/controls",
          "model_name": "DescriptionStyleModel",
          "state": {
            "_view_name": "StyleView",
            "_model_name": "DescriptionStyleModel",
            "description_width": "",
            "_view_module": "@jupyter-widgets/base",
            "_model_module_version": "1.5.0",
            "_view_count": null,
            "_view_module_version": "1.2.0",
            "_model_module": "@jupyter-widgets/controls"
          }
        },
        "5b1c17166be4407297ecb903c3826c9a": {
          "model_module": "@jupyter-widgets/base",
          "model_name": "LayoutModel",
          "state": {
            "_view_name": "LayoutView",
            "grid_template_rows": null,
            "right": null,
            "justify_content": null,
            "_view_module": "@jupyter-widgets/base",
            "overflow": null,
            "_model_module_version": "1.2.0",
            "_view_count": null,
            "flex_flow": null,
            "width": null,
            "min_width": null,
            "border": null,
            "align_items": null,
            "bottom": null,
            "_model_module": "@jupyter-widgets/base",
            "top": null,
            "grid_column": null,
            "overflow_y": null,
            "overflow_x": null,
            "grid_auto_flow": null,
            "grid_area": null,
            "grid_template_columns": null,
            "flex": null,
            "_model_name": "LayoutModel",
            "justify_items": null,
            "grid_row": null,
            "max_height": null,
            "align_content": null,
            "visibility": null,
            "align_self": null,
            "height": null,
            "min_height": null,
            "padding": null,
            "grid_auto_rows": null,
            "grid_gap": null,
            "max_width": null,
            "order": null,
            "_view_module_version": "1.2.0",
            "grid_template_areas": null,
            "object_position": null,
            "object_fit": null,
            "grid_auto_columns": null,
            "margin": null,
            "display": null,
            "left": null
          }
        },
        "c94fbb9c07bb489e96178620d3d207c2": {
          "model_module": "@jupyter-widgets/controls",
          "model_name": "HBoxModel",
          "state": {
            "_view_name": "HBoxView",
            "_dom_classes": [],
            "_model_name": "HBoxModel",
            "_view_module": "@jupyter-widgets/controls",
            "_model_module_version": "1.5.0",
            "_view_count": null,
            "_view_module_version": "1.5.0",
            "box_style": "",
            "layout": "IPY_MODEL_ea3335603fa043a5ad9f8e069a3486ec",
            "_model_module": "@jupyter-widgets/controls",
            "children": [
              "IPY_MODEL_ab3fa4fafe81499a89616217b7a23050",
              "IPY_MODEL_05dd3a568d5b41c8942811e2112bf0ba"
            ]
          }
        },
        "ea3335603fa043a5ad9f8e069a3486ec": {
          "model_module": "@jupyter-widgets/base",
          "model_name": "LayoutModel",
          "state": {
            "_view_name": "LayoutView",
            "grid_template_rows": null,
            "right": null,
            "justify_content": null,
            "_view_module": "@jupyter-widgets/base",
            "overflow": null,
            "_model_module_version": "1.2.0",
            "_view_count": null,
            "flex_flow": null,
            "width": null,
            "min_width": null,
            "border": null,
            "align_items": null,
            "bottom": null,
            "_model_module": "@jupyter-widgets/base",
            "top": null,
            "grid_column": null,
            "overflow_y": null,
            "overflow_x": null,
            "grid_auto_flow": null,
            "grid_area": null,
            "grid_template_columns": null,
            "flex": null,
            "_model_name": "LayoutModel",
            "justify_items": null,
            "grid_row": null,
            "max_height": null,
            "align_content": null,
            "visibility": null,
            "align_self": null,
            "height": null,
            "min_height": null,
            "padding": null,
            "grid_auto_rows": null,
            "grid_gap": null,
            "max_width": null,
            "order": null,
            "_view_module_version": "1.2.0",
            "grid_template_areas": null,
            "object_position": null,
            "object_fit": null,
            "grid_auto_columns": null,
            "margin": null,
            "display": null,
            "left": null
          }
        },
        "ab3fa4fafe81499a89616217b7a23050": {
          "model_module": "@jupyter-widgets/controls",
          "model_name": "FloatProgressModel",
          "state": {
            "_view_name": "ProgressView",
            "style": "IPY_MODEL_d2524794a2b74ba7ab44982b760900ae",
            "_dom_classes": [],
            "description": "100%",
            "_model_name": "FloatProgressModel",
            "bar_style": "success",
            "max": 1,
            "_view_module": "@jupyter-widgets/controls",
            "_model_module_version": "1.5.0",
            "value": 1,
            "_view_count": null,
            "_view_module_version": "1.5.0",
            "orientation": "horizontal",
            "min": 0,
            "description_tooltip": null,
            "_model_module": "@jupyter-widgets/controls",
            "layout": "IPY_MODEL_6a7ccc78ae4941b1ba557f4476150b97"
          }
        },
        "05dd3a568d5b41c8942811e2112bf0ba": {
          "model_module": "@jupyter-widgets/controls",
          "model_name": "HTMLModel",
          "state": {
            "_view_name": "HTMLView",
            "style": "IPY_MODEL_228e929a8f004f60a2ebff1a2d5eb8d4",
            "_dom_classes": [],
            "description": "",
            "_model_name": "HTMLModel",
            "placeholder": "​",
            "_view_module": "@jupyter-widgets/controls",
            "_model_module_version": "1.5.0",
            "value": " 1/1 [00:04&lt;00:00,  4.68s/it]",
            "_view_count": null,
            "_view_module_version": "1.5.0",
            "description_tooltip": null,
            "_model_module": "@jupyter-widgets/controls",
            "layout": "IPY_MODEL_11361abae845405c8618dca419a6b5de"
          }
        },
        "d2524794a2b74ba7ab44982b760900ae": {
          "model_module": "@jupyter-widgets/controls",
          "model_name": "ProgressStyleModel",
          "state": {
            "_view_name": "StyleView",
            "_model_name": "ProgressStyleModel",
            "description_width": "initial",
            "_view_module": "@jupyter-widgets/base",
            "_model_module_version": "1.5.0",
            "_view_count": null,
            "_view_module_version": "1.2.0",
            "bar_color": null,
            "_model_module": "@jupyter-widgets/controls"
          }
        },
        "6a7ccc78ae4941b1ba557f4476150b97": {
          "model_module": "@jupyter-widgets/base",
          "model_name": "LayoutModel",
          "state": {
            "_view_name": "LayoutView",
            "grid_template_rows": null,
            "right": null,
            "justify_content": null,
            "_view_module": "@jupyter-widgets/base",
            "overflow": null,
            "_model_module_version": "1.2.0",
            "_view_count": null,
            "flex_flow": null,
            "width": null,
            "min_width": null,
            "border": null,
            "align_items": null,
            "bottom": null,
            "_model_module": "@jupyter-widgets/base",
            "top": null,
            "grid_column": null,
            "overflow_y": null,
            "overflow_x": null,
            "grid_auto_flow": null,
            "grid_area": null,
            "grid_template_columns": null,
            "flex": null,
            "_model_name": "LayoutModel",
            "justify_items": null,
            "grid_row": null,
            "max_height": null,
            "align_content": null,
            "visibility": null,
            "align_self": null,
            "height": null,
            "min_height": null,
            "padding": null,
            "grid_auto_rows": null,
            "grid_gap": null,
            "max_width": null,
            "order": null,
            "_view_module_version": "1.2.0",
            "grid_template_areas": null,
            "object_position": null,
            "object_fit": null,
            "grid_auto_columns": null,
            "margin": null,
            "display": null,
            "left": null
          }
        },
        "228e929a8f004f60a2ebff1a2d5eb8d4": {
          "model_module": "@jupyter-widgets/controls",
          "model_name": "DescriptionStyleModel",
          "state": {
            "_view_name": "StyleView",
            "_model_name": "DescriptionStyleModel",
            "description_width": "",
            "_view_module": "@jupyter-widgets/base",
            "_model_module_version": "1.5.0",
            "_view_count": null,
            "_view_module_version": "1.2.0",
            "_model_module": "@jupyter-widgets/controls"
          }
        },
        "11361abae845405c8618dca419a6b5de": {
          "model_module": "@jupyter-widgets/base",
          "model_name": "LayoutModel",
          "state": {
            "_view_name": "LayoutView",
            "grid_template_rows": null,
            "right": null,
            "justify_content": null,
            "_view_module": "@jupyter-widgets/base",
            "overflow": null,
            "_model_module_version": "1.2.0",
            "_view_count": null,
            "flex_flow": null,
            "width": null,
            "min_width": null,
            "border": null,
            "align_items": null,
            "bottom": null,
            "_model_module": "@jupyter-widgets/base",
            "top": null,
            "grid_column": null,
            "overflow_y": null,
            "overflow_x": null,
            "grid_auto_flow": null,
            "grid_area": null,
            "grid_template_columns": null,
            "flex": null,
            "_model_name": "LayoutModel",
            "justify_items": null,
            "grid_row": null,
            "max_height": null,
            "align_content": null,
            "visibility": null,
            "align_self": null,
            "height": null,
            "min_height": null,
            "padding": null,
            "grid_auto_rows": null,
            "grid_gap": null,
            "max_width": null,
            "order": null,
            "_view_module_version": "1.2.0",
            "grid_template_areas": null,
            "object_position": null,
            "object_fit": null,
            "grid_auto_columns": null,
            "margin": null,
            "display": null,
            "left": null
          }
        },
        "9ff9a323bbea4ce8addb5d7710c27919": {
          "model_module": "@jupyter-widgets/controls",
          "model_name": "HBoxModel",
          "state": {
            "_view_name": "HBoxView",
            "_dom_classes": [],
            "_model_name": "HBoxModel",
            "_view_module": "@jupyter-widgets/controls",
            "_model_module_version": "1.5.0",
            "_view_count": null,
            "_view_module_version": "1.5.0",
            "box_style": "",
            "layout": "IPY_MODEL_2e59534ea190445f8a369402a71079c0",
            "_model_module": "@jupyter-widgets/controls",
            "children": [
              "IPY_MODEL_5ce8688004344ad4ac12f81a628279f9",
              "IPY_MODEL_c9756153192a4bb8979f73ff04d0a488"
            ]
          }
        },
        "2e59534ea190445f8a369402a71079c0": {
          "model_module": "@jupyter-widgets/base",
          "model_name": "LayoutModel",
          "state": {
            "_view_name": "LayoutView",
            "grid_template_rows": null,
            "right": null,
            "justify_content": null,
            "_view_module": "@jupyter-widgets/base",
            "overflow": null,
            "_model_module_version": "1.2.0",
            "_view_count": null,
            "flex_flow": null,
            "width": null,
            "min_width": null,
            "border": null,
            "align_items": null,
            "bottom": null,
            "_model_module": "@jupyter-widgets/base",
            "top": null,
            "grid_column": null,
            "overflow_y": null,
            "overflow_x": null,
            "grid_auto_flow": null,
            "grid_area": null,
            "grid_template_columns": null,
            "flex": null,
            "_model_name": "LayoutModel",
            "justify_items": null,
            "grid_row": null,
            "max_height": null,
            "align_content": null,
            "visibility": null,
            "align_self": null,
            "height": null,
            "min_height": null,
            "padding": null,
            "grid_auto_rows": null,
            "grid_gap": null,
            "max_width": null,
            "order": null,
            "_view_module_version": "1.2.0",
            "grid_template_areas": null,
            "object_position": null,
            "object_fit": null,
            "grid_auto_columns": null,
            "margin": null,
            "display": null,
            "left": null
          }
        },
        "5ce8688004344ad4ac12f81a628279f9": {
          "model_module": "@jupyter-widgets/controls",
          "model_name": "FloatProgressModel",
          "state": {
            "_view_name": "ProgressView",
            "style": "IPY_MODEL_40577e8921804d53956181cc37dbc70d",
            "_dom_classes": [],
            "description": "Downloading: 100%",
            "_model_name": "FloatProgressModel",
            "bar_style": "success",
            "max": 570,
            "_view_module": "@jupyter-widgets/controls",
            "_model_module_version": "1.5.0",
            "value": 570,
            "_view_count": null,
            "_view_module_version": "1.5.0",
            "orientation": "horizontal",
            "min": 0,
            "description_tooltip": null,
            "_model_module": "@jupyter-widgets/controls",
            "layout": "IPY_MODEL_3503f7b6da9e4c0883eb4488852f3691"
          }
        },
        "c9756153192a4bb8979f73ff04d0a488": {
          "model_module": "@jupyter-widgets/controls",
          "model_name": "HTMLModel",
          "state": {
            "_view_name": "HTMLView",
            "style": "IPY_MODEL_e2a54736a5d744d89939ee225d4f7432",
            "_dom_classes": [],
            "description": "",
            "_model_name": "HTMLModel",
            "placeholder": "​",
            "_view_module": "@jupyter-widgets/controls",
            "_model_module_version": "1.5.0",
            "value": " 570/570 [00:00&lt;00:00, 1.04kB/s]",
            "_view_count": null,
            "_view_module_version": "1.5.0",
            "description_tooltip": null,
            "_model_module": "@jupyter-widgets/controls",
            "layout": "IPY_MODEL_fda6ca6291bf48e9b56353e8f215ea41"
          }
        },
        "40577e8921804d53956181cc37dbc70d": {
          "model_module": "@jupyter-widgets/controls",
          "model_name": "ProgressStyleModel",
          "state": {
            "_view_name": "StyleView",
            "_model_name": "ProgressStyleModel",
            "description_width": "initial",
            "_view_module": "@jupyter-widgets/base",
            "_model_module_version": "1.5.0",
            "_view_count": null,
            "_view_module_version": "1.2.0",
            "bar_color": null,
            "_model_module": "@jupyter-widgets/controls"
          }
        },
        "3503f7b6da9e4c0883eb4488852f3691": {
          "model_module": "@jupyter-widgets/base",
          "model_name": "LayoutModel",
          "state": {
            "_view_name": "LayoutView",
            "grid_template_rows": null,
            "right": null,
            "justify_content": null,
            "_view_module": "@jupyter-widgets/base",
            "overflow": null,
            "_model_module_version": "1.2.0",
            "_view_count": null,
            "flex_flow": null,
            "width": null,
            "min_width": null,
            "border": null,
            "align_items": null,
            "bottom": null,
            "_model_module": "@jupyter-widgets/base",
            "top": null,
            "grid_column": null,
            "overflow_y": null,
            "overflow_x": null,
            "grid_auto_flow": null,
            "grid_area": null,
            "grid_template_columns": null,
            "flex": null,
            "_model_name": "LayoutModel",
            "justify_items": null,
            "grid_row": null,
            "max_height": null,
            "align_content": null,
            "visibility": null,
            "align_self": null,
            "height": null,
            "min_height": null,
            "padding": null,
            "grid_auto_rows": null,
            "grid_gap": null,
            "max_width": null,
            "order": null,
            "_view_module_version": "1.2.0",
            "grid_template_areas": null,
            "object_position": null,
            "object_fit": null,
            "grid_auto_columns": null,
            "margin": null,
            "display": null,
            "left": null
          }
        },
        "e2a54736a5d744d89939ee225d4f7432": {
          "model_module": "@jupyter-widgets/controls",
          "model_name": "DescriptionStyleModel",
          "state": {
            "_view_name": "StyleView",
            "_model_name": "DescriptionStyleModel",
            "description_width": "",
            "_view_module": "@jupyter-widgets/base",
            "_model_module_version": "1.5.0",
            "_view_count": null,
            "_view_module_version": "1.2.0",
            "_model_module": "@jupyter-widgets/controls"
          }
        },
        "fda6ca6291bf48e9b56353e8f215ea41": {
          "model_module": "@jupyter-widgets/base",
          "model_name": "LayoutModel",
          "state": {
            "_view_name": "LayoutView",
            "grid_template_rows": null,
            "right": null,
            "justify_content": null,
            "_view_module": "@jupyter-widgets/base",
            "overflow": null,
            "_model_module_version": "1.2.0",
            "_view_count": null,
            "flex_flow": null,
            "width": null,
            "min_width": null,
            "border": null,
            "align_items": null,
            "bottom": null,
            "_model_module": "@jupyter-widgets/base",
            "top": null,
            "grid_column": null,
            "overflow_y": null,
            "overflow_x": null,
            "grid_auto_flow": null,
            "grid_area": null,
            "grid_template_columns": null,
            "flex": null,
            "_model_name": "LayoutModel",
            "justify_items": null,
            "grid_row": null,
            "max_height": null,
            "align_content": null,
            "visibility": null,
            "align_self": null,
            "height": null,
            "min_height": null,
            "padding": null,
            "grid_auto_rows": null,
            "grid_gap": null,
            "max_width": null,
            "order": null,
            "_view_module_version": "1.2.0",
            "grid_template_areas": null,
            "object_position": null,
            "object_fit": null,
            "grid_auto_columns": null,
            "margin": null,
            "display": null,
            "left": null
          }
        },
        "b5567c0bbfa346c1a8a6c3c13591e634": {
          "model_module": "@jupyter-widgets/controls",
          "model_name": "HBoxModel",
          "state": {
            "_view_name": "HBoxView",
            "_dom_classes": [],
            "_model_name": "HBoxModel",
            "_view_module": "@jupyter-widgets/controls",
            "_model_module_version": "1.5.0",
            "_view_count": null,
            "_view_module_version": "1.5.0",
            "box_style": "",
            "layout": "IPY_MODEL_c309ff2f54aa42ca8a4d07c38b711b6a",
            "_model_module": "@jupyter-widgets/controls",
            "children": [
              "IPY_MODEL_c05749853d4a41b28338a8cff6797dcd",
              "IPY_MODEL_79f117a00e8345c6b67b27cafcb9fcd2"
            ]
          }
        },
        "c309ff2f54aa42ca8a4d07c38b711b6a": {
          "model_module": "@jupyter-widgets/base",
          "model_name": "LayoutModel",
          "state": {
            "_view_name": "LayoutView",
            "grid_template_rows": null,
            "right": null,
            "justify_content": null,
            "_view_module": "@jupyter-widgets/base",
            "overflow": null,
            "_model_module_version": "1.2.0",
            "_view_count": null,
            "flex_flow": null,
            "width": null,
            "min_width": null,
            "border": null,
            "align_items": null,
            "bottom": null,
            "_model_module": "@jupyter-widgets/base",
            "top": null,
            "grid_column": null,
            "overflow_y": null,
            "overflow_x": null,
            "grid_auto_flow": null,
            "grid_area": null,
            "grid_template_columns": null,
            "flex": null,
            "_model_name": "LayoutModel",
            "justify_items": null,
            "grid_row": null,
            "max_height": null,
            "align_content": null,
            "visibility": null,
            "align_self": null,
            "height": null,
            "min_height": null,
            "padding": null,
            "grid_auto_rows": null,
            "grid_gap": null,
            "max_width": null,
            "order": null,
            "_view_module_version": "1.2.0",
            "grid_template_areas": null,
            "object_position": null,
            "object_fit": null,
            "grid_auto_columns": null,
            "margin": null,
            "display": null,
            "left": null
          }
        },
        "c05749853d4a41b28338a8cff6797dcd": {
          "model_module": "@jupyter-widgets/controls",
          "model_name": "FloatProgressModel",
          "state": {
            "_view_name": "ProgressView",
            "style": "IPY_MODEL_878d517cd4554887a3ec301cdbc29b05",
            "_dom_classes": [],
            "description": "Downloading: 100%",
            "_model_name": "FloatProgressModel",
            "bar_style": "success",
            "max": 440473133,
            "_view_module": "@jupyter-widgets/controls",
            "_model_module_version": "1.5.0",
            "value": 440473133,
            "_view_count": null,
            "_view_module_version": "1.5.0",
            "orientation": "horizontal",
            "min": 0,
            "description_tooltip": null,
            "_model_module": "@jupyter-widgets/controls",
            "layout": "IPY_MODEL_9fa0d7b786764c7bb0049f826839ec91"
          }
        },
        "79f117a00e8345c6b67b27cafcb9fcd2": {
          "model_module": "@jupyter-widgets/controls",
          "model_name": "HTMLModel",
          "state": {
            "_view_name": "HTMLView",
            "style": "IPY_MODEL_1e3a0ba3ff6f40e089c5e011b389541c",
            "_dom_classes": [],
            "description": "",
            "_model_name": "HTMLModel",
            "placeholder": "​",
            "_view_module": "@jupyter-widgets/controls",
            "_model_module_version": "1.5.0",
            "value": " 440M/440M [00:23&lt;00:00, 18.5MB/s]",
            "_view_count": null,
            "_view_module_version": "1.5.0",
            "description_tooltip": null,
            "_model_module": "@jupyter-widgets/controls",
            "layout": "IPY_MODEL_270ff84b89244e68b15c4ff90f2c69b2"
          }
        },
        "878d517cd4554887a3ec301cdbc29b05": {
          "model_module": "@jupyter-widgets/controls",
          "model_name": "ProgressStyleModel",
          "state": {
            "_view_name": "StyleView",
            "_model_name": "ProgressStyleModel",
            "description_width": "initial",
            "_view_module": "@jupyter-widgets/base",
            "_model_module_version": "1.5.0",
            "_view_count": null,
            "_view_module_version": "1.2.0",
            "bar_color": null,
            "_model_module": "@jupyter-widgets/controls"
          }
        },
        "9fa0d7b786764c7bb0049f826839ec91": {
          "model_module": "@jupyter-widgets/base",
          "model_name": "LayoutModel",
          "state": {
            "_view_name": "LayoutView",
            "grid_template_rows": null,
            "right": null,
            "justify_content": null,
            "_view_module": "@jupyter-widgets/base",
            "overflow": null,
            "_model_module_version": "1.2.0",
            "_view_count": null,
            "flex_flow": null,
            "width": null,
            "min_width": null,
            "border": null,
            "align_items": null,
            "bottom": null,
            "_model_module": "@jupyter-widgets/base",
            "top": null,
            "grid_column": null,
            "overflow_y": null,
            "overflow_x": null,
            "grid_auto_flow": null,
            "grid_area": null,
            "grid_template_columns": null,
            "flex": null,
            "_model_name": "LayoutModel",
            "justify_items": null,
            "grid_row": null,
            "max_height": null,
            "align_content": null,
            "visibility": null,
            "align_self": null,
            "height": null,
            "min_height": null,
            "padding": null,
            "grid_auto_rows": null,
            "grid_gap": null,
            "max_width": null,
            "order": null,
            "_view_module_version": "1.2.0",
            "grid_template_areas": null,
            "object_position": null,
            "object_fit": null,
            "grid_auto_columns": null,
            "margin": null,
            "display": null,
            "left": null
          }
        },
        "1e3a0ba3ff6f40e089c5e011b389541c": {
          "model_module": "@jupyter-widgets/controls",
          "model_name": "DescriptionStyleModel",
          "state": {
            "_view_name": "StyleView",
            "_model_name": "DescriptionStyleModel",
            "description_width": "",
            "_view_module": "@jupyter-widgets/base",
            "_model_module_version": "1.5.0",
            "_view_count": null,
            "_view_module_version": "1.2.0",
            "_model_module": "@jupyter-widgets/controls"
          }
        },
        "270ff84b89244e68b15c4ff90f2c69b2": {
          "model_module": "@jupyter-widgets/base",
          "model_name": "LayoutModel",
          "state": {
            "_view_name": "LayoutView",
            "grid_template_rows": null,
            "right": null,
            "justify_content": null,
            "_view_module": "@jupyter-widgets/base",
            "overflow": null,
            "_model_module_version": "1.2.0",
            "_view_count": null,
            "flex_flow": null,
            "width": null,
            "min_width": null,
            "border": null,
            "align_items": null,
            "bottom": null,
            "_model_module": "@jupyter-widgets/base",
            "top": null,
            "grid_column": null,
            "overflow_y": null,
            "overflow_x": null,
            "grid_auto_flow": null,
            "grid_area": null,
            "grid_template_columns": null,
            "flex": null,
            "_model_name": "LayoutModel",
            "justify_items": null,
            "grid_row": null,
            "max_height": null,
            "align_content": null,
            "visibility": null,
            "align_self": null,
            "height": null,
            "min_height": null,
            "padding": null,
            "grid_auto_rows": null,
            "grid_gap": null,
            "max_width": null,
            "order": null,
            "_view_module_version": "1.2.0",
            "grid_template_areas": null,
            "object_position": null,
            "object_fit": null,
            "grid_auto_columns": null,
            "margin": null,
            "display": null,
            "left": null
          }
        },
        "30c130e589654135805e62cce088c82b": {
          "model_module": "@jupyter-widgets/controls",
          "model_name": "HBoxModel",
          "state": {
            "_view_name": "HBoxView",
            "_dom_classes": [],
            "_model_name": "HBoxModel",
            "_view_module": "@jupyter-widgets/controls",
            "_model_module_version": "1.5.0",
            "_view_count": null,
            "_view_module_version": "1.5.0",
            "box_style": "",
            "layout": "IPY_MODEL_4fb61c8c5e7e4d089d3387a83d5036ba",
            "_model_module": "@jupyter-widgets/controls",
            "children": [
              "IPY_MODEL_7118f4d9f1574c92a522ce5d360626ce",
              "IPY_MODEL_66d3478d09c64798a03b2d131a87b9d7"
            ]
          }
        },
        "4fb61c8c5e7e4d089d3387a83d5036ba": {
          "model_module": "@jupyter-widgets/base",
          "model_name": "LayoutModel",
          "state": {
            "_view_name": "LayoutView",
            "grid_template_rows": null,
            "right": null,
            "justify_content": null,
            "_view_module": "@jupyter-widgets/base",
            "overflow": null,
            "_model_module_version": "1.2.0",
            "_view_count": null,
            "flex_flow": null,
            "width": null,
            "min_width": null,
            "border": null,
            "align_items": null,
            "bottom": null,
            "_model_module": "@jupyter-widgets/base",
            "top": null,
            "grid_column": null,
            "overflow_y": null,
            "overflow_x": null,
            "grid_auto_flow": null,
            "grid_area": null,
            "grid_template_columns": null,
            "flex": null,
            "_model_name": "LayoutModel",
            "justify_items": null,
            "grid_row": null,
            "max_height": null,
            "align_content": null,
            "visibility": null,
            "align_self": null,
            "height": null,
            "min_height": null,
            "padding": null,
            "grid_auto_rows": null,
            "grid_gap": null,
            "max_width": null,
            "order": null,
            "_view_module_version": "1.2.0",
            "grid_template_areas": null,
            "object_position": null,
            "object_fit": null,
            "grid_auto_columns": null,
            "margin": null,
            "display": null,
            "left": null
          }
        },
        "7118f4d9f1574c92a522ce5d360626ce": {
          "model_module": "@jupyter-widgets/controls",
          "model_name": "FloatProgressModel",
          "state": {
            "_view_name": "ProgressView",
            "style": "IPY_MODEL_60dd61cf7b194bd3a87009b058a5aa03",
            "_dom_classes": [],
            "description": "Downloading: 100%",
            "_model_name": "FloatProgressModel",
            "bar_style": "success",
            "max": 231508,
            "_view_module": "@jupyter-widgets/controls",
            "_model_module_version": "1.5.0",
            "value": 231508,
            "_view_count": null,
            "_view_module_version": "1.5.0",
            "orientation": "horizontal",
            "min": 0,
            "description_tooltip": null,
            "_model_module": "@jupyter-widgets/controls",
            "layout": "IPY_MODEL_f283f451ed5d42458b0eef64ce95400b"
          }
        },
        "66d3478d09c64798a03b2d131a87b9d7": {
          "model_module": "@jupyter-widgets/controls",
          "model_name": "HTMLModel",
          "state": {
            "_view_name": "HTMLView",
            "style": "IPY_MODEL_0185055f0ed24968aec6cabff5a058c3",
            "_dom_classes": [],
            "description": "",
            "_model_name": "HTMLModel",
            "placeholder": "​",
            "_view_module": "@jupyter-widgets/controls",
            "_model_module_version": "1.5.0",
            "value": " 232k/232k [00:12&lt;00:00, 18.6kB/s]",
            "_view_count": null,
            "_view_module_version": "1.5.0",
            "description_tooltip": null,
            "_model_module": "@jupyter-widgets/controls",
            "layout": "IPY_MODEL_8949528c61634415ba782b693bb7c143"
          }
        },
        "60dd61cf7b194bd3a87009b058a5aa03": {
          "model_module": "@jupyter-widgets/controls",
          "model_name": "ProgressStyleModel",
          "state": {
            "_view_name": "StyleView",
            "_model_name": "ProgressStyleModel",
            "description_width": "initial",
            "_view_module": "@jupyter-widgets/base",
            "_model_module_version": "1.5.0",
            "_view_count": null,
            "_view_module_version": "1.2.0",
            "bar_color": null,
            "_model_module": "@jupyter-widgets/controls"
          }
        },
        "f283f451ed5d42458b0eef64ce95400b": {
          "model_module": "@jupyter-widgets/base",
          "model_name": "LayoutModel",
          "state": {
            "_view_name": "LayoutView",
            "grid_template_rows": null,
            "right": null,
            "justify_content": null,
            "_view_module": "@jupyter-widgets/base",
            "overflow": null,
            "_model_module_version": "1.2.0",
            "_view_count": null,
            "flex_flow": null,
            "width": null,
            "min_width": null,
            "border": null,
            "align_items": null,
            "bottom": null,
            "_model_module": "@jupyter-widgets/base",
            "top": null,
            "grid_column": null,
            "overflow_y": null,
            "overflow_x": null,
            "grid_auto_flow": null,
            "grid_area": null,
            "grid_template_columns": null,
            "flex": null,
            "_model_name": "LayoutModel",
            "justify_items": null,
            "grid_row": null,
            "max_height": null,
            "align_content": null,
            "visibility": null,
            "align_self": null,
            "height": null,
            "min_height": null,
            "padding": null,
            "grid_auto_rows": null,
            "grid_gap": null,
            "max_width": null,
            "order": null,
            "_view_module_version": "1.2.0",
            "grid_template_areas": null,
            "object_position": null,
            "object_fit": null,
            "grid_auto_columns": null,
            "margin": null,
            "display": null,
            "left": null
          }
        },
        "0185055f0ed24968aec6cabff5a058c3": {
          "model_module": "@jupyter-widgets/controls",
          "model_name": "DescriptionStyleModel",
          "state": {
            "_view_name": "StyleView",
            "_model_name": "DescriptionStyleModel",
            "description_width": "",
            "_view_module": "@jupyter-widgets/base",
            "_model_module_version": "1.5.0",
            "_view_count": null,
            "_view_module_version": "1.2.0",
            "_model_module": "@jupyter-widgets/controls"
          }
        },
        "8949528c61634415ba782b693bb7c143": {
          "model_module": "@jupyter-widgets/base",
          "model_name": "LayoutModel",
          "state": {
            "_view_name": "LayoutView",
            "grid_template_rows": null,
            "right": null,
            "justify_content": null,
            "_view_module": "@jupyter-widgets/base",
            "overflow": null,
            "_model_module_version": "1.2.0",
            "_view_count": null,
            "flex_flow": null,
            "width": null,
            "min_width": null,
            "border": null,
            "align_items": null,
            "bottom": null,
            "_model_module": "@jupyter-widgets/base",
            "top": null,
            "grid_column": null,
            "overflow_y": null,
            "overflow_x": null,
            "grid_auto_flow": null,
            "grid_area": null,
            "grid_template_columns": null,
            "flex": null,
            "_model_name": "LayoutModel",
            "justify_items": null,
            "grid_row": null,
            "max_height": null,
            "align_content": null,
            "visibility": null,
            "align_self": null,
            "height": null,
            "min_height": null,
            "padding": null,
            "grid_auto_rows": null,
            "grid_gap": null,
            "max_width": null,
            "order": null,
            "_view_module_version": "1.2.0",
            "grid_template_areas": null,
            "object_position": null,
            "object_fit": null,
            "grid_auto_columns": null,
            "margin": null,
            "display": null,
            "left": null
          }
        },
        "63f55c6d80594fc093909064ba4a68f7": {
          "model_module": "@jupyter-widgets/controls",
          "model_name": "HBoxModel",
          "state": {
            "_view_name": "HBoxView",
            "_dom_classes": [],
            "_model_name": "HBoxModel",
            "_view_module": "@jupyter-widgets/controls",
            "_model_module_version": "1.5.0",
            "_view_count": null,
            "_view_module_version": "1.5.0",
            "box_style": "",
            "layout": "IPY_MODEL_7386c88220724d469537fd69090e9c5a",
            "_model_module": "@jupyter-widgets/controls",
            "children": [
              "IPY_MODEL_9294ae6bdb1a421ea0da012e79e9aaea",
              "IPY_MODEL_a7ed8e55c8cf43539a10b08462e408a1"
            ]
          }
        },
        "7386c88220724d469537fd69090e9c5a": {
          "model_module": "@jupyter-widgets/base",
          "model_name": "LayoutModel",
          "state": {
            "_view_name": "LayoutView",
            "grid_template_rows": null,
            "right": null,
            "justify_content": null,
            "_view_module": "@jupyter-widgets/base",
            "overflow": null,
            "_model_module_version": "1.2.0",
            "_view_count": null,
            "flex_flow": null,
            "width": null,
            "min_width": null,
            "border": null,
            "align_items": null,
            "bottom": null,
            "_model_module": "@jupyter-widgets/base",
            "top": null,
            "grid_column": null,
            "overflow_y": null,
            "overflow_x": null,
            "grid_auto_flow": null,
            "grid_area": null,
            "grid_template_columns": null,
            "flex": null,
            "_model_name": "LayoutModel",
            "justify_items": null,
            "grid_row": null,
            "max_height": null,
            "align_content": null,
            "visibility": null,
            "align_self": null,
            "height": null,
            "min_height": null,
            "padding": null,
            "grid_auto_rows": null,
            "grid_gap": null,
            "max_width": null,
            "order": null,
            "_view_module_version": "1.2.0",
            "grid_template_areas": null,
            "object_position": null,
            "object_fit": null,
            "grid_auto_columns": null,
            "margin": null,
            "display": null,
            "left": null
          }
        },
        "9294ae6bdb1a421ea0da012e79e9aaea": {
          "model_module": "@jupyter-widgets/controls",
          "model_name": "FloatProgressModel",
          "state": {
            "_view_name": "ProgressView",
            "style": "IPY_MODEL_86abc4767a2243a292e9c2fe2a53e7bc",
            "_dom_classes": [],
            "description": "Downloading: 100%",
            "_model_name": "FloatProgressModel",
            "bar_style": "success",
            "max": 466062,
            "_view_module": "@jupyter-widgets/controls",
            "_model_module_version": "1.5.0",
            "value": 466062,
            "_view_count": null,
            "_view_module_version": "1.5.0",
            "orientation": "horizontal",
            "min": 0,
            "description_tooltip": null,
            "_model_module": "@jupyter-widgets/controls",
            "layout": "IPY_MODEL_52dc07f1638a471ab048d20182bd4e0e"
          }
        },
        "a7ed8e55c8cf43539a10b08462e408a1": {
          "model_module": "@jupyter-widgets/controls",
          "model_name": "HTMLModel",
          "state": {
            "_view_name": "HTMLView",
            "style": "IPY_MODEL_0da92bc4be3f4004810a87b94bc9d822",
            "_dom_classes": [],
            "description": "",
            "_model_name": "HTMLModel",
            "placeholder": "​",
            "_view_module": "@jupyter-widgets/controls",
            "_model_module_version": "1.5.0",
            "value": " 466k/466k [00:05&lt;00:00, 90.6kB/s]",
            "_view_count": null,
            "_view_module_version": "1.5.0",
            "description_tooltip": null,
            "_model_module": "@jupyter-widgets/controls",
            "layout": "IPY_MODEL_a022777326a3401caacaa73b08ad3cca"
          }
        },
        "86abc4767a2243a292e9c2fe2a53e7bc": {
          "model_module": "@jupyter-widgets/controls",
          "model_name": "ProgressStyleModel",
          "state": {
            "_view_name": "StyleView",
            "_model_name": "ProgressStyleModel",
            "description_width": "initial",
            "_view_module": "@jupyter-widgets/base",
            "_model_module_version": "1.5.0",
            "_view_count": null,
            "_view_module_version": "1.2.0",
            "bar_color": null,
            "_model_module": "@jupyter-widgets/controls"
          }
        },
        "52dc07f1638a471ab048d20182bd4e0e": {
          "model_module": "@jupyter-widgets/base",
          "model_name": "LayoutModel",
          "state": {
            "_view_name": "LayoutView",
            "grid_template_rows": null,
            "right": null,
            "justify_content": null,
            "_view_module": "@jupyter-widgets/base",
            "overflow": null,
            "_model_module_version": "1.2.0",
            "_view_count": null,
            "flex_flow": null,
            "width": null,
            "min_width": null,
            "border": null,
            "align_items": null,
            "bottom": null,
            "_model_module": "@jupyter-widgets/base",
            "top": null,
            "grid_column": null,
            "overflow_y": null,
            "overflow_x": null,
            "grid_auto_flow": null,
            "grid_area": null,
            "grid_template_columns": null,
            "flex": null,
            "_model_name": "LayoutModel",
            "justify_items": null,
            "grid_row": null,
            "max_height": null,
            "align_content": null,
            "visibility": null,
            "align_self": null,
            "height": null,
            "min_height": null,
            "padding": null,
            "grid_auto_rows": null,
            "grid_gap": null,
            "max_width": null,
            "order": null,
            "_view_module_version": "1.2.0",
            "grid_template_areas": null,
            "object_position": null,
            "object_fit": null,
            "grid_auto_columns": null,
            "margin": null,
            "display": null,
            "left": null
          }
        },
        "0da92bc4be3f4004810a87b94bc9d822": {
          "model_module": "@jupyter-widgets/controls",
          "model_name": "DescriptionStyleModel",
          "state": {
            "_view_name": "StyleView",
            "_model_name": "DescriptionStyleModel",
            "description_width": "",
            "_view_module": "@jupyter-widgets/base",
            "_model_module_version": "1.5.0",
            "_view_count": null,
            "_view_module_version": "1.2.0",
            "_model_module": "@jupyter-widgets/controls"
          }
        },
        "a022777326a3401caacaa73b08ad3cca": {
          "model_module": "@jupyter-widgets/base",
          "model_name": "LayoutModel",
          "state": {
            "_view_name": "LayoutView",
            "grid_template_rows": null,
            "right": null,
            "justify_content": null,
            "_view_module": "@jupyter-widgets/base",
            "overflow": null,
            "_model_module_version": "1.2.0",
            "_view_count": null,
            "flex_flow": null,
            "width": null,
            "min_width": null,
            "border": null,
            "align_items": null,
            "bottom": null,
            "_model_module": "@jupyter-widgets/base",
            "top": null,
            "grid_column": null,
            "overflow_y": null,
            "overflow_x": null,
            "grid_auto_flow": null,
            "grid_area": null,
            "grid_template_columns": null,
            "flex": null,
            "_model_name": "LayoutModel",
            "justify_items": null,
            "grid_row": null,
            "max_height": null,
            "align_content": null,
            "visibility": null,
            "align_self": null,
            "height": null,
            "min_height": null,
            "padding": null,
            "grid_auto_rows": null,
            "grid_gap": null,
            "max_width": null,
            "order": null,
            "_view_module_version": "1.2.0",
            "grid_template_areas": null,
            "object_position": null,
            "object_fit": null,
            "grid_auto_columns": null,
            "margin": null,
            "display": null,
            "left": null
          }
        },
        "d6dc16e2948a42f2b566360e663d132d": {
          "model_module": "@jupyter-widgets/controls",
          "model_name": "HBoxModel",
          "state": {
            "_view_name": "HBoxView",
            "_dom_classes": [],
            "_model_name": "HBoxModel",
            "_view_module": "@jupyter-widgets/controls",
            "_model_module_version": "1.5.0",
            "_view_count": null,
            "_view_module_version": "1.5.0",
            "box_style": "",
            "layout": "IPY_MODEL_0a5cb4c0f3664974babdc867d09137c9",
            "_model_module": "@jupyter-widgets/controls",
            "children": [
              "IPY_MODEL_9ffb97567c6d4ef3838a17ab0e149984",
              "IPY_MODEL_8053c747b48a4146ae600aa14b091571"
            ]
          }
        },
        "0a5cb4c0f3664974babdc867d09137c9": {
          "model_module": "@jupyter-widgets/base",
          "model_name": "LayoutModel",
          "state": {
            "_view_name": "LayoutView",
            "grid_template_rows": null,
            "right": null,
            "justify_content": null,
            "_view_module": "@jupyter-widgets/base",
            "overflow": null,
            "_model_module_version": "1.2.0",
            "_view_count": null,
            "flex_flow": null,
            "width": null,
            "min_width": null,
            "border": null,
            "align_items": null,
            "bottom": null,
            "_model_module": "@jupyter-widgets/base",
            "top": null,
            "grid_column": null,
            "overflow_y": null,
            "overflow_x": null,
            "grid_auto_flow": null,
            "grid_area": null,
            "grid_template_columns": null,
            "flex": null,
            "_model_name": "LayoutModel",
            "justify_items": null,
            "grid_row": null,
            "max_height": null,
            "align_content": null,
            "visibility": null,
            "align_self": null,
            "height": null,
            "min_height": null,
            "padding": null,
            "grid_auto_rows": null,
            "grid_gap": null,
            "max_width": null,
            "order": null,
            "_view_module_version": "1.2.0",
            "grid_template_areas": null,
            "object_position": null,
            "object_fit": null,
            "grid_auto_columns": null,
            "margin": null,
            "display": null,
            "left": null
          }
        },
        "9ffb97567c6d4ef3838a17ab0e149984": {
          "model_module": "@jupyter-widgets/controls",
          "model_name": "FloatProgressModel",
          "state": {
            "_view_name": "ProgressView",
            "style": "IPY_MODEL_1b6726fd92224828988854eb775cef6f",
            "_dom_classes": [],
            "description": "Downloading: 100%",
            "_model_name": "FloatProgressModel",
            "bar_style": "success",
            "max": 28,
            "_view_module": "@jupyter-widgets/controls",
            "_model_module_version": "1.5.0",
            "value": 28,
            "_view_count": null,
            "_view_module_version": "1.5.0",
            "orientation": "horizontal",
            "min": 0,
            "description_tooltip": null,
            "_model_module": "@jupyter-widgets/controls",
            "layout": "IPY_MODEL_193808968c414bc89e338f7a11d2aa8a"
          }
        },
        "8053c747b48a4146ae600aa14b091571": {
          "model_module": "@jupyter-widgets/controls",
          "model_name": "HTMLModel",
          "state": {
            "_view_name": "HTMLView",
            "style": "IPY_MODEL_ae555d32b6ab4bf1961e6549ac9707a6",
            "_dom_classes": [],
            "description": "",
            "_model_name": "HTMLModel",
            "placeholder": "​",
            "_view_module": "@jupyter-widgets/controls",
            "_model_module_version": "1.5.0",
            "value": " 28.0/28.0 [00:03&lt;00:00, 7.24B/s]",
            "_view_count": null,
            "_view_module_version": "1.5.0",
            "description_tooltip": null,
            "_model_module": "@jupyter-widgets/controls",
            "layout": "IPY_MODEL_40f359a7befd43a6b9a2fe8d33c6f754"
          }
        },
        "1b6726fd92224828988854eb775cef6f": {
          "model_module": "@jupyter-widgets/controls",
          "model_name": "ProgressStyleModel",
          "state": {
            "_view_name": "StyleView",
            "_model_name": "ProgressStyleModel",
            "description_width": "initial",
            "_view_module": "@jupyter-widgets/base",
            "_model_module_version": "1.5.0",
            "_view_count": null,
            "_view_module_version": "1.2.0",
            "bar_color": null,
            "_model_module": "@jupyter-widgets/controls"
          }
        },
        "193808968c414bc89e338f7a11d2aa8a": {
          "model_module": "@jupyter-widgets/base",
          "model_name": "LayoutModel",
          "state": {
            "_view_name": "LayoutView",
            "grid_template_rows": null,
            "right": null,
            "justify_content": null,
            "_view_module": "@jupyter-widgets/base",
            "overflow": null,
            "_model_module_version": "1.2.0",
            "_view_count": null,
            "flex_flow": null,
            "width": null,
            "min_width": null,
            "border": null,
            "align_items": null,
            "bottom": null,
            "_model_module": "@jupyter-widgets/base",
            "top": null,
            "grid_column": null,
            "overflow_y": null,
            "overflow_x": null,
            "grid_auto_flow": null,
            "grid_area": null,
            "grid_template_columns": null,
            "flex": null,
            "_model_name": "LayoutModel",
            "justify_items": null,
            "grid_row": null,
            "max_height": null,
            "align_content": null,
            "visibility": null,
            "align_self": null,
            "height": null,
            "min_height": null,
            "padding": null,
            "grid_auto_rows": null,
            "grid_gap": null,
            "max_width": null,
            "order": null,
            "_view_module_version": "1.2.0",
            "grid_template_areas": null,
            "object_position": null,
            "object_fit": null,
            "grid_auto_columns": null,
            "margin": null,
            "display": null,
            "left": null
          }
        },
        "ae555d32b6ab4bf1961e6549ac9707a6": {
          "model_module": "@jupyter-widgets/controls",
          "model_name": "DescriptionStyleModel",
          "state": {
            "_view_name": "StyleView",
            "_model_name": "DescriptionStyleModel",
            "description_width": "",
            "_view_module": "@jupyter-widgets/base",
            "_model_module_version": "1.5.0",
            "_view_count": null,
            "_view_module_version": "1.2.0",
            "_model_module": "@jupyter-widgets/controls"
          }
        },
        "40f359a7befd43a6b9a2fe8d33c6f754": {
          "model_module": "@jupyter-widgets/base",
          "model_name": "LayoutModel",
          "state": {
            "_view_name": "LayoutView",
            "grid_template_rows": null,
            "right": null,
            "justify_content": null,
            "_view_module": "@jupyter-widgets/base",
            "overflow": null,
            "_model_module_version": "1.2.0",
            "_view_count": null,
            "flex_flow": null,
            "width": null,
            "min_width": null,
            "border": null,
            "align_items": null,
            "bottom": null,
            "_model_module": "@jupyter-widgets/base",
            "top": null,
            "grid_column": null,
            "overflow_y": null,
            "overflow_x": null,
            "grid_auto_flow": null,
            "grid_area": null,
            "grid_template_columns": null,
            "flex": null,
            "_model_name": "LayoutModel",
            "justify_items": null,
            "grid_row": null,
            "max_height": null,
            "align_content": null,
            "visibility": null,
            "align_self": null,
            "height": null,
            "min_height": null,
            "padding": null,
            "grid_auto_rows": null,
            "grid_gap": null,
            "max_width": null,
            "order": null,
            "_view_module_version": "1.2.0",
            "grid_template_areas": null,
            "object_position": null,
            "object_fit": null,
            "grid_auto_columns": null,
            "margin": null,
            "display": null,
            "left": null
          }
        },
        "0d466d6221364bc0a001943c772b46ab": {
          "model_module": "@jupyter-widgets/controls",
          "model_name": "HBoxModel",
          "state": {
            "_view_name": "HBoxView",
            "_dom_classes": [],
            "_model_name": "HBoxModel",
            "_view_module": "@jupyter-widgets/controls",
            "_model_module_version": "1.5.0",
            "_view_count": null,
            "_view_module_version": "1.5.0",
            "box_style": "",
            "layout": "IPY_MODEL_b21d63188fec4923aa268a3100b41e5b",
            "_model_module": "@jupyter-widgets/controls",
            "children": [
              "IPY_MODEL_64a6bb554c264515b22ee4766b8fde06",
              "IPY_MODEL_5a61b36763394ae99b8972b4a0f3eb83"
            ]
          }
        },
        "b21d63188fec4923aa268a3100b41e5b": {
          "model_module": "@jupyter-widgets/base",
          "model_name": "LayoutModel",
          "state": {
            "_view_name": "LayoutView",
            "grid_template_rows": null,
            "right": null,
            "justify_content": null,
            "_view_module": "@jupyter-widgets/base",
            "overflow": null,
            "_model_module_version": "1.2.0",
            "_view_count": null,
            "flex_flow": null,
            "width": null,
            "min_width": null,
            "border": null,
            "align_items": null,
            "bottom": null,
            "_model_module": "@jupyter-widgets/base",
            "top": null,
            "grid_column": null,
            "overflow_y": null,
            "overflow_x": null,
            "grid_auto_flow": null,
            "grid_area": null,
            "grid_template_columns": null,
            "flex": null,
            "_model_name": "LayoutModel",
            "justify_items": null,
            "grid_row": null,
            "max_height": null,
            "align_content": null,
            "visibility": null,
            "align_self": null,
            "height": null,
            "min_height": null,
            "padding": null,
            "grid_auto_rows": null,
            "grid_gap": null,
            "max_width": null,
            "order": null,
            "_view_module_version": "1.2.0",
            "grid_template_areas": null,
            "object_position": null,
            "object_fit": null,
            "grid_auto_columns": null,
            "margin": null,
            "display": null,
            "left": null
          }
        },
        "64a6bb554c264515b22ee4766b8fde06": {
          "model_module": "@jupyter-widgets/controls",
          "model_name": "FloatProgressModel",
          "state": {
            "_view_name": "ProgressView",
            "style": "IPY_MODEL_b629fe6541bd43698829bbf36ed1e2de",
            "_dom_classes": [],
            "description": "100%",
            "_model_name": "FloatProgressModel",
            "bar_style": "success",
            "max": 1,
            "_view_module": "@jupyter-widgets/controls",
            "_model_module_version": "1.5.0",
            "value": 1,
            "_view_count": null,
            "_view_module_version": "1.5.0",
            "orientation": "horizontal",
            "min": 0,
            "description_tooltip": null,
            "_model_module": "@jupyter-widgets/controls",
            "layout": "IPY_MODEL_81aa853c0588463298d8fd5eafd6e2c2"
          }
        },
        "5a61b36763394ae99b8972b4a0f3eb83": {
          "model_module": "@jupyter-widgets/controls",
          "model_name": "HTMLModel",
          "state": {
            "_view_name": "HTMLView",
            "style": "IPY_MODEL_76f15478a86242a6ac6e662d76a59fae",
            "_dom_classes": [],
            "description": "",
            "_model_name": "HTMLModel",
            "placeholder": "​",
            "_view_module": "@jupyter-widgets/controls",
            "_model_module_version": "1.5.0",
            "value": " 1/1 [00:06&lt;00:00,  6.56s/it]",
            "_view_count": null,
            "_view_module_version": "1.5.0",
            "description_tooltip": null,
            "_model_module": "@jupyter-widgets/controls",
            "layout": "IPY_MODEL_53c2ef6970db478191e955d1b79eefde"
          }
        },
        "b629fe6541bd43698829bbf36ed1e2de": {
          "model_module": "@jupyter-widgets/controls",
          "model_name": "ProgressStyleModel",
          "state": {
            "_view_name": "StyleView",
            "_model_name": "ProgressStyleModel",
            "description_width": "initial",
            "_view_module": "@jupyter-widgets/base",
            "_model_module_version": "1.5.0",
            "_view_count": null,
            "_view_module_version": "1.2.0",
            "bar_color": null,
            "_model_module": "@jupyter-widgets/controls"
          }
        },
        "81aa853c0588463298d8fd5eafd6e2c2": {
          "model_module": "@jupyter-widgets/base",
          "model_name": "LayoutModel",
          "state": {
            "_view_name": "LayoutView",
            "grid_template_rows": null,
            "right": null,
            "justify_content": null,
            "_view_module": "@jupyter-widgets/base",
            "overflow": null,
            "_model_module_version": "1.2.0",
            "_view_count": null,
            "flex_flow": null,
            "width": null,
            "min_width": null,
            "border": null,
            "align_items": null,
            "bottom": null,
            "_model_module": "@jupyter-widgets/base",
            "top": null,
            "grid_column": null,
            "overflow_y": null,
            "overflow_x": null,
            "grid_auto_flow": null,
            "grid_area": null,
            "grid_template_columns": null,
            "flex": null,
            "_model_name": "LayoutModel",
            "justify_items": null,
            "grid_row": null,
            "max_height": null,
            "align_content": null,
            "visibility": null,
            "align_self": null,
            "height": null,
            "min_height": null,
            "padding": null,
            "grid_auto_rows": null,
            "grid_gap": null,
            "max_width": null,
            "order": null,
            "_view_module_version": "1.2.0",
            "grid_template_areas": null,
            "object_position": null,
            "object_fit": null,
            "grid_auto_columns": null,
            "margin": null,
            "display": null,
            "left": null
          }
        },
        "76f15478a86242a6ac6e662d76a59fae": {
          "model_module": "@jupyter-widgets/controls",
          "model_name": "DescriptionStyleModel",
          "state": {
            "_view_name": "StyleView",
            "_model_name": "DescriptionStyleModel",
            "description_width": "",
            "_view_module": "@jupyter-widgets/base",
            "_model_module_version": "1.5.0",
            "_view_count": null,
            "_view_module_version": "1.2.0",
            "_model_module": "@jupyter-widgets/controls"
          }
        },
        "53c2ef6970db478191e955d1b79eefde": {
          "model_module": "@jupyter-widgets/base",
          "model_name": "LayoutModel",
          "state": {
            "_view_name": "LayoutView",
            "grid_template_rows": null,
            "right": null,
            "justify_content": null,
            "_view_module": "@jupyter-widgets/base",
            "overflow": null,
            "_model_module_version": "1.2.0",
            "_view_count": null,
            "flex_flow": null,
            "width": null,
            "min_width": null,
            "border": null,
            "align_items": null,
            "bottom": null,
            "_model_module": "@jupyter-widgets/base",
            "top": null,
            "grid_column": null,
            "overflow_y": null,
            "overflow_x": null,
            "grid_auto_flow": null,
            "grid_area": null,
            "grid_template_columns": null,
            "flex": null,
            "_model_name": "LayoutModel",
            "justify_items": null,
            "grid_row": null,
            "max_height": null,
            "align_content": null,
            "visibility": null,
            "align_self": null,
            "height": null,
            "min_height": null,
            "padding": null,
            "grid_auto_rows": null,
            "grid_gap": null,
            "max_width": null,
            "order": null,
            "_view_module_version": "1.2.0",
            "grid_template_areas": null,
            "object_position": null,
            "object_fit": null,
            "grid_auto_columns": null,
            "margin": null,
            "display": null,
            "left": null
          }
        },
        "5fc18c376d684752b2cbad3935266c61": {
          "model_module": "@jupyter-widgets/controls",
          "model_name": "HBoxModel",
          "state": {
            "_view_name": "HBoxView",
            "_dom_classes": [],
            "_model_name": "HBoxModel",
            "_view_module": "@jupyter-widgets/controls",
            "_model_module_version": "1.5.0",
            "_view_count": null,
            "_view_module_version": "1.5.0",
            "box_style": "",
            "layout": "IPY_MODEL_35d8041400ab43a99e19a043bc05f439",
            "_model_module": "@jupyter-widgets/controls",
            "children": [
              "IPY_MODEL_f30bfc014d8b41d1811c4d27e849d5bb",
              "IPY_MODEL_01fff9c68c70477392260e99315d529c"
            ]
          }
        },
        "35d8041400ab43a99e19a043bc05f439": {
          "model_module": "@jupyter-widgets/base",
          "model_name": "LayoutModel",
          "state": {
            "_view_name": "LayoutView",
            "grid_template_rows": null,
            "right": null,
            "justify_content": null,
            "_view_module": "@jupyter-widgets/base",
            "overflow": null,
            "_model_module_version": "1.2.0",
            "_view_count": null,
            "flex_flow": null,
            "width": null,
            "min_width": null,
            "border": null,
            "align_items": null,
            "bottom": null,
            "_model_module": "@jupyter-widgets/base",
            "top": null,
            "grid_column": null,
            "overflow_y": null,
            "overflow_x": null,
            "grid_auto_flow": null,
            "grid_area": null,
            "grid_template_columns": null,
            "flex": null,
            "_model_name": "LayoutModel",
            "justify_items": null,
            "grid_row": null,
            "max_height": null,
            "align_content": null,
            "visibility": null,
            "align_self": null,
            "height": null,
            "min_height": null,
            "padding": null,
            "grid_auto_rows": null,
            "grid_gap": null,
            "max_width": null,
            "order": null,
            "_view_module_version": "1.2.0",
            "grid_template_areas": null,
            "object_position": null,
            "object_fit": null,
            "grid_auto_columns": null,
            "margin": null,
            "display": null,
            "left": null
          }
        },
        "f30bfc014d8b41d1811c4d27e849d5bb": {
          "model_module": "@jupyter-widgets/controls",
          "model_name": "FloatProgressModel",
          "state": {
            "_view_name": "ProgressView",
            "style": "IPY_MODEL_4ba4638f75f0419fb54255904af750b8",
            "_dom_classes": [],
            "description": "100%",
            "_model_name": "FloatProgressModel",
            "bar_style": "success",
            "max": 1,
            "_view_module": "@jupyter-widgets/controls",
            "_model_module_version": "1.5.0",
            "value": 1,
            "_view_count": null,
            "_view_module_version": "1.5.0",
            "orientation": "horizontal",
            "min": 0,
            "description_tooltip": null,
            "_model_module": "@jupyter-widgets/controls",
            "layout": "IPY_MODEL_a4e3f625c57f43439cc66dcfa29e0592"
          }
        },
        "01fff9c68c70477392260e99315d529c": {
          "model_module": "@jupyter-widgets/controls",
          "model_name": "HTMLModel",
          "state": {
            "_view_name": "HTMLView",
            "style": "IPY_MODEL_ca5056b1dfff47af84e6ede1357b0cae",
            "_dom_classes": [],
            "description": "",
            "_model_name": "HTMLModel",
            "placeholder": "​",
            "_view_module": "@jupyter-widgets/controls",
            "_model_module_version": "1.5.0",
            "value": " 1/1 [00:06&lt;00:00,  6.33s/it]",
            "_view_count": null,
            "_view_module_version": "1.5.0",
            "description_tooltip": null,
            "_model_module": "@jupyter-widgets/controls",
            "layout": "IPY_MODEL_c8833e9df8484fef8c33c098106a8b52"
          }
        },
        "4ba4638f75f0419fb54255904af750b8": {
          "model_module": "@jupyter-widgets/controls",
          "model_name": "ProgressStyleModel",
          "state": {
            "_view_name": "StyleView",
            "_model_name": "ProgressStyleModel",
            "description_width": "initial",
            "_view_module": "@jupyter-widgets/base",
            "_model_module_version": "1.5.0",
            "_view_count": null,
            "_view_module_version": "1.2.0",
            "bar_color": null,
            "_model_module": "@jupyter-widgets/controls"
          }
        },
        "a4e3f625c57f43439cc66dcfa29e0592": {
          "model_module": "@jupyter-widgets/base",
          "model_name": "LayoutModel",
          "state": {
            "_view_name": "LayoutView",
            "grid_template_rows": null,
            "right": null,
            "justify_content": null,
            "_view_module": "@jupyter-widgets/base",
            "overflow": null,
            "_model_module_version": "1.2.0",
            "_view_count": null,
            "flex_flow": null,
            "width": null,
            "min_width": null,
            "border": null,
            "align_items": null,
            "bottom": null,
            "_model_module": "@jupyter-widgets/base",
            "top": null,
            "grid_column": null,
            "overflow_y": null,
            "overflow_x": null,
            "grid_auto_flow": null,
            "grid_area": null,
            "grid_template_columns": null,
            "flex": null,
            "_model_name": "LayoutModel",
            "justify_items": null,
            "grid_row": null,
            "max_height": null,
            "align_content": null,
            "visibility": null,
            "align_self": null,
            "height": null,
            "min_height": null,
            "padding": null,
            "grid_auto_rows": null,
            "grid_gap": null,
            "max_width": null,
            "order": null,
            "_view_module_version": "1.2.0",
            "grid_template_areas": null,
            "object_position": null,
            "object_fit": null,
            "grid_auto_columns": null,
            "margin": null,
            "display": null,
            "left": null
          }
        },
        "ca5056b1dfff47af84e6ede1357b0cae": {
          "model_module": "@jupyter-widgets/controls",
          "model_name": "DescriptionStyleModel",
          "state": {
            "_view_name": "StyleView",
            "_model_name": "DescriptionStyleModel",
            "description_width": "",
            "_view_module": "@jupyter-widgets/base",
            "_model_module_version": "1.5.0",
            "_view_count": null,
            "_view_module_version": "1.2.0",
            "_model_module": "@jupyter-widgets/controls"
          }
        },
        "c8833e9df8484fef8c33c098106a8b52": {
          "model_module": "@jupyter-widgets/base",
          "model_name": "LayoutModel",
          "state": {
            "_view_name": "LayoutView",
            "grid_template_rows": null,
            "right": null,
            "justify_content": null,
            "_view_module": "@jupyter-widgets/base",
            "overflow": null,
            "_model_module_version": "1.2.0",
            "_view_count": null,
            "flex_flow": null,
            "width": null,
            "min_width": null,
            "border": null,
            "align_items": null,
            "bottom": null,
            "_model_module": "@jupyter-widgets/base",
            "top": null,
            "grid_column": null,
            "overflow_y": null,
            "overflow_x": null,
            "grid_auto_flow": null,
            "grid_area": null,
            "grid_template_columns": null,
            "flex": null,
            "_model_name": "LayoutModel",
            "justify_items": null,
            "grid_row": null,
            "max_height": null,
            "align_content": null,
            "visibility": null,
            "align_self": null,
            "height": null,
            "min_height": null,
            "padding": null,
            "grid_auto_rows": null,
            "grid_gap": null,
            "max_width": null,
            "order": null,
            "_view_module_version": "1.2.0",
            "grid_template_areas": null,
            "object_position": null,
            "object_fit": null,
            "grid_auto_columns": null,
            "margin": null,
            "display": null,
            "left": null
          }
        },
        "91404840dc924c5abc496d6a98931462": {
          "model_module": "@jupyter-widgets/controls",
          "model_name": "HBoxModel",
          "state": {
            "_view_name": "HBoxView",
            "_dom_classes": [],
            "_model_name": "HBoxModel",
            "_view_module": "@jupyter-widgets/controls",
            "_model_module_version": "1.5.0",
            "_view_count": null,
            "_view_module_version": "1.5.0",
            "box_style": "",
            "layout": "IPY_MODEL_084e77f62b284f2e8a4ba9adac72eab5",
            "_model_module": "@jupyter-widgets/controls",
            "children": [
              "IPY_MODEL_337f675776f9496aa682bfdd79cfc968",
              "IPY_MODEL_73cf2ee04e274d07a36ef42d91855e2f"
            ]
          }
        },
        "084e77f62b284f2e8a4ba9adac72eab5": {
          "model_module": "@jupyter-widgets/base",
          "model_name": "LayoutModel",
          "state": {
            "_view_name": "LayoutView",
            "grid_template_rows": null,
            "right": null,
            "justify_content": null,
            "_view_module": "@jupyter-widgets/base",
            "overflow": null,
            "_model_module_version": "1.2.0",
            "_view_count": null,
            "flex_flow": null,
            "width": null,
            "min_width": null,
            "border": null,
            "align_items": null,
            "bottom": null,
            "_model_module": "@jupyter-widgets/base",
            "top": null,
            "grid_column": null,
            "overflow_y": null,
            "overflow_x": null,
            "grid_auto_flow": null,
            "grid_area": null,
            "grid_template_columns": null,
            "flex": null,
            "_model_name": "LayoutModel",
            "justify_items": null,
            "grid_row": null,
            "max_height": null,
            "align_content": null,
            "visibility": null,
            "align_self": null,
            "height": null,
            "min_height": null,
            "padding": null,
            "grid_auto_rows": null,
            "grid_gap": null,
            "max_width": null,
            "order": null,
            "_view_module_version": "1.2.0",
            "grid_template_areas": null,
            "object_position": null,
            "object_fit": null,
            "grid_auto_columns": null,
            "margin": null,
            "display": null,
            "left": null
          }
        },
        "337f675776f9496aa682bfdd79cfc968": {
          "model_module": "@jupyter-widgets/controls",
          "model_name": "FloatProgressModel",
          "state": {
            "_view_name": "ProgressView",
            "style": "IPY_MODEL_c5f867c4e74049c2b255f309376c685c",
            "_dom_classes": [],
            "description": "Downloading: 100%",
            "_model_name": "FloatProgressModel",
            "bar_style": "success",
            "max": 443,
            "_view_module": "@jupyter-widgets/controls",
            "_model_module_version": "1.5.0",
            "value": 443,
            "_view_count": null,
            "_view_module_version": "1.5.0",
            "orientation": "horizontal",
            "min": 0,
            "description_tooltip": null,
            "_model_module": "@jupyter-widgets/controls",
            "layout": "IPY_MODEL_3e0e7eaea00545ce88ca899600716c0d"
          }
        },
        "73cf2ee04e274d07a36ef42d91855e2f": {
          "model_module": "@jupyter-widgets/controls",
          "model_name": "HTMLModel",
          "state": {
            "_view_name": "HTMLView",
            "style": "IPY_MODEL_32f73d5c78ac4c4499afba17369819a6",
            "_dom_classes": [],
            "description": "",
            "_model_name": "HTMLModel",
            "placeholder": "​",
            "_view_module": "@jupyter-widgets/controls",
            "_model_module_version": "1.5.0",
            "value": " 443/443 [00:00&lt;00:00, 2.22kB/s]",
            "_view_count": null,
            "_view_module_version": "1.5.0",
            "description_tooltip": null,
            "_model_module": "@jupyter-widgets/controls",
            "layout": "IPY_MODEL_a24c881b5baa475cb8091edef25addef"
          }
        },
        "c5f867c4e74049c2b255f309376c685c": {
          "model_module": "@jupyter-widgets/controls",
          "model_name": "ProgressStyleModel",
          "state": {
            "_view_name": "StyleView",
            "_model_name": "ProgressStyleModel",
            "description_width": "initial",
            "_view_module": "@jupyter-widgets/base",
            "_model_module_version": "1.5.0",
            "_view_count": null,
            "_view_module_version": "1.2.0",
            "bar_color": null,
            "_model_module": "@jupyter-widgets/controls"
          }
        },
        "3e0e7eaea00545ce88ca899600716c0d": {
          "model_module": "@jupyter-widgets/base",
          "model_name": "LayoutModel",
          "state": {
            "_view_name": "LayoutView",
            "grid_template_rows": null,
            "right": null,
            "justify_content": null,
            "_view_module": "@jupyter-widgets/base",
            "overflow": null,
            "_model_module_version": "1.2.0",
            "_view_count": null,
            "flex_flow": null,
            "width": null,
            "min_width": null,
            "border": null,
            "align_items": null,
            "bottom": null,
            "_model_module": "@jupyter-widgets/base",
            "top": null,
            "grid_column": null,
            "overflow_y": null,
            "overflow_x": null,
            "grid_auto_flow": null,
            "grid_area": null,
            "grid_template_columns": null,
            "flex": null,
            "_model_name": "LayoutModel",
            "justify_items": null,
            "grid_row": null,
            "max_height": null,
            "align_content": null,
            "visibility": null,
            "align_self": null,
            "height": null,
            "min_height": null,
            "padding": null,
            "grid_auto_rows": null,
            "grid_gap": null,
            "max_width": null,
            "order": null,
            "_view_module_version": "1.2.0",
            "grid_template_areas": null,
            "object_position": null,
            "object_fit": null,
            "grid_auto_columns": null,
            "margin": null,
            "display": null,
            "left": null
          }
        },
        "32f73d5c78ac4c4499afba17369819a6": {
          "model_module": "@jupyter-widgets/controls",
          "model_name": "DescriptionStyleModel",
          "state": {
            "_view_name": "StyleView",
            "_model_name": "DescriptionStyleModel",
            "description_width": "",
            "_view_module": "@jupyter-widgets/base",
            "_model_module_version": "1.5.0",
            "_view_count": null,
            "_view_module_version": "1.2.0",
            "_model_module": "@jupyter-widgets/controls"
          }
        },
        "a24c881b5baa475cb8091edef25addef": {
          "model_module": "@jupyter-widgets/base",
          "model_name": "LayoutModel",
          "state": {
            "_view_name": "LayoutView",
            "grid_template_rows": null,
            "right": null,
            "justify_content": null,
            "_view_module": "@jupyter-widgets/base",
            "overflow": null,
            "_model_module_version": "1.2.0",
            "_view_count": null,
            "flex_flow": null,
            "width": null,
            "min_width": null,
            "border": null,
            "align_items": null,
            "bottom": null,
            "_model_module": "@jupyter-widgets/base",
            "top": null,
            "grid_column": null,
            "overflow_y": null,
            "overflow_x": null,
            "grid_auto_flow": null,
            "grid_area": null,
            "grid_template_columns": null,
            "flex": null,
            "_model_name": "LayoutModel",
            "justify_items": null,
            "grid_row": null,
            "max_height": null,
            "align_content": null,
            "visibility": null,
            "align_self": null,
            "height": null,
            "min_height": null,
            "padding": null,
            "grid_auto_rows": null,
            "grid_gap": null,
            "max_width": null,
            "order": null,
            "_view_module_version": "1.2.0",
            "grid_template_areas": null,
            "object_position": null,
            "object_fit": null,
            "grid_auto_columns": null,
            "margin": null,
            "display": null,
            "left": null
          }
        },
        "4ebca7f46c6548d78c2fbd0d90a7ba92": {
          "model_module": "@jupyter-widgets/controls",
          "model_name": "HBoxModel",
          "state": {
            "_view_name": "HBoxView",
            "_dom_classes": [],
            "_model_name": "HBoxModel",
            "_view_module": "@jupyter-widgets/controls",
            "_model_module_version": "1.5.0",
            "_view_count": null,
            "_view_module_version": "1.5.0",
            "box_style": "",
            "layout": "IPY_MODEL_491064e45bda4f0b9ab452b0792ed982",
            "_model_module": "@jupyter-widgets/controls",
            "children": [
              "IPY_MODEL_727b291bb5c145f5bef1100893ced218",
              "IPY_MODEL_ba8153a75dda41feb3b1bba564acc943"
            ]
          }
        },
        "491064e45bda4f0b9ab452b0792ed982": {
          "model_module": "@jupyter-widgets/base",
          "model_name": "LayoutModel",
          "state": {
            "_view_name": "LayoutView",
            "grid_template_rows": null,
            "right": null,
            "justify_content": null,
            "_view_module": "@jupyter-widgets/base",
            "overflow": null,
            "_model_module_version": "1.2.0",
            "_view_count": null,
            "flex_flow": null,
            "width": null,
            "min_width": null,
            "border": null,
            "align_items": null,
            "bottom": null,
            "_model_module": "@jupyter-widgets/base",
            "top": null,
            "grid_column": null,
            "overflow_y": null,
            "overflow_x": null,
            "grid_auto_flow": null,
            "grid_area": null,
            "grid_template_columns": null,
            "flex": null,
            "_model_name": "LayoutModel",
            "justify_items": null,
            "grid_row": null,
            "max_height": null,
            "align_content": null,
            "visibility": null,
            "align_self": null,
            "height": null,
            "min_height": null,
            "padding": null,
            "grid_auto_rows": null,
            "grid_gap": null,
            "max_width": null,
            "order": null,
            "_view_module_version": "1.2.0",
            "grid_template_areas": null,
            "object_position": null,
            "object_fit": null,
            "grid_auto_columns": null,
            "margin": null,
            "display": null,
            "left": null
          }
        },
        "727b291bb5c145f5bef1100893ced218": {
          "model_module": "@jupyter-widgets/controls",
          "model_name": "FloatProgressModel",
          "state": {
            "_view_name": "ProgressView",
            "style": "IPY_MODEL_36f2b2a5091e409f96d84018eba02c32",
            "_dom_classes": [],
            "description": "Downloading: 100%",
            "_model_name": "FloatProgressModel",
            "bar_style": "success",
            "max": 1340675298,
            "_view_module": "@jupyter-widgets/controls",
            "_model_module_version": "1.5.0",
            "value": 1340675298,
            "_view_count": null,
            "_view_module_version": "1.5.0",
            "orientation": "horizontal",
            "min": 0,
            "description_tooltip": null,
            "_model_module": "@jupyter-widgets/controls",
            "layout": "IPY_MODEL_d96218e2f6ae44f2893347cc1a6230a6"
          }
        },
        "ba8153a75dda41feb3b1bba564acc943": {
          "model_module": "@jupyter-widgets/controls",
          "model_name": "HTMLModel",
          "state": {
            "_view_name": "HTMLView",
            "style": "IPY_MODEL_8071cb79d2c14c379a98fd7805d9b8ab",
            "_dom_classes": [],
            "description": "",
            "_model_name": "HTMLModel",
            "placeholder": "​",
            "_view_module": "@jupyter-widgets/controls",
            "_model_module_version": "1.5.0",
            "value": " 1.34G/1.34G [00:27&lt;00:00, 49.4MB/s]",
            "_view_count": null,
            "_view_module_version": "1.5.0",
            "description_tooltip": null,
            "_model_module": "@jupyter-widgets/controls",
            "layout": "IPY_MODEL_a1d613954fc548f39b0595a2eef1a457"
          }
        },
        "36f2b2a5091e409f96d84018eba02c32": {
          "model_module": "@jupyter-widgets/controls",
          "model_name": "ProgressStyleModel",
          "state": {
            "_view_name": "StyleView",
            "_model_name": "ProgressStyleModel",
            "description_width": "initial",
            "_view_module": "@jupyter-widgets/base",
            "_model_module_version": "1.5.0",
            "_view_count": null,
            "_view_module_version": "1.2.0",
            "bar_color": null,
            "_model_module": "@jupyter-widgets/controls"
          }
        },
        "d96218e2f6ae44f2893347cc1a6230a6": {
          "model_module": "@jupyter-widgets/base",
          "model_name": "LayoutModel",
          "state": {
            "_view_name": "LayoutView",
            "grid_template_rows": null,
            "right": null,
            "justify_content": null,
            "_view_module": "@jupyter-widgets/base",
            "overflow": null,
            "_model_module_version": "1.2.0",
            "_view_count": null,
            "flex_flow": null,
            "width": null,
            "min_width": null,
            "border": null,
            "align_items": null,
            "bottom": null,
            "_model_module": "@jupyter-widgets/base",
            "top": null,
            "grid_column": null,
            "overflow_y": null,
            "overflow_x": null,
            "grid_auto_flow": null,
            "grid_area": null,
            "grid_template_columns": null,
            "flex": null,
            "_model_name": "LayoutModel",
            "justify_items": null,
            "grid_row": null,
            "max_height": null,
            "align_content": null,
            "visibility": null,
            "align_self": null,
            "height": null,
            "min_height": null,
            "padding": null,
            "grid_auto_rows": null,
            "grid_gap": null,
            "max_width": null,
            "order": null,
            "_view_module_version": "1.2.0",
            "grid_template_areas": null,
            "object_position": null,
            "object_fit": null,
            "grid_auto_columns": null,
            "margin": null,
            "display": null,
            "left": null
          }
        },
        "8071cb79d2c14c379a98fd7805d9b8ab": {
          "model_module": "@jupyter-widgets/controls",
          "model_name": "DescriptionStyleModel",
          "state": {
            "_view_name": "StyleView",
            "_model_name": "DescriptionStyleModel",
            "description_width": "",
            "_view_module": "@jupyter-widgets/base",
            "_model_module_version": "1.5.0",
            "_view_count": null,
            "_view_module_version": "1.2.0",
            "_model_module": "@jupyter-widgets/controls"
          }
        },
        "a1d613954fc548f39b0595a2eef1a457": {
          "model_module": "@jupyter-widgets/base",
          "model_name": "LayoutModel",
          "state": {
            "_view_name": "LayoutView",
            "grid_template_rows": null,
            "right": null,
            "justify_content": null,
            "_view_module": "@jupyter-widgets/base",
            "overflow": null,
            "_model_module_version": "1.2.0",
            "_view_count": null,
            "flex_flow": null,
            "width": null,
            "min_width": null,
            "border": null,
            "align_items": null,
            "bottom": null,
            "_model_module": "@jupyter-widgets/base",
            "top": null,
            "grid_column": null,
            "overflow_y": null,
            "overflow_x": null,
            "grid_auto_flow": null,
            "grid_area": null,
            "grid_template_columns": null,
            "flex": null,
            "_model_name": "LayoutModel",
            "justify_items": null,
            "grid_row": null,
            "max_height": null,
            "align_content": null,
            "visibility": null,
            "align_self": null,
            "height": null,
            "min_height": null,
            "padding": null,
            "grid_auto_rows": null,
            "grid_gap": null,
            "max_width": null,
            "order": null,
            "_view_module_version": "1.2.0",
            "grid_template_areas": null,
            "object_position": null,
            "object_fit": null,
            "grid_auto_columns": null,
            "margin": null,
            "display": null,
            "left": null
          }
        }
      }
    }
  },
  "cells": [
    {
      "cell_type": "markdown",
      "metadata": {
        "id": "view-in-github",
        "colab_type": "text"
      },
      "source": [
        "<a href=\"https://colab.research.google.com/github/willardhong/Spoon-Knife/blob/master/google_bert_book_1.ipynb\" target=\"_parent\"><img src=\"https://colab.research.google.com/assets/colab-badge.svg\" alt=\"Open In Colab\"/></a>"
      ]
    },
    {
      "cell_type": "code",
      "metadata": {
        "colab": {
          "base_uri": "https://localhost:8080/"
        },
        "id": "7Bh4hKaIEa20",
        "outputId": "b301ccd2-a328-4c4d-b62d-9c1e1f3e1b7f"
      },
      "source": [
        "pip install transformers"
      ],
      "execution_count": 1,
      "outputs": [
        {
          "output_type": "stream",
          "text": [
            "Collecting transformers\n",
            "\u001b[?25l  Downloading https://files.pythonhosted.org/packages/b5/d5/c6c23ad75491467a9a84e526ef2364e523d45e2b0fae28a7cbe8689e7e84/transformers-4.8.1-py3-none-any.whl (2.5MB)\n",
            "\r\u001b[K     |▏                               | 10kB 20.4MB/s eta 0:00:01\r\u001b[K     |▎                               | 20kB 27.8MB/s eta 0:00:01\r\u001b[K     |▍                               | 30kB 32.8MB/s eta 0:00:01\r\u001b[K     |▌                               | 40kB 31.6MB/s eta 0:00:01\r\u001b[K     |▋                               | 51kB 27.8MB/s eta 0:00:01\r\u001b[K     |▉                               | 61kB 30.1MB/s eta 0:00:01\r\u001b[K     |█                               | 71kB 26.7MB/s eta 0:00:01\r\u001b[K     |█                               | 81kB 27.5MB/s eta 0:00:01\r\u001b[K     |█▏                              | 92kB 28.9MB/s eta 0:00:01\r\u001b[K     |█▎                              | 102kB 27.7MB/s eta 0:00:01\r\u001b[K     |█▌                              | 112kB 27.7MB/s eta 0:00:01\r\u001b[K     |█▋                              | 122kB 27.7MB/s eta 0:00:01\r\u001b[K     |█▊                              | 133kB 27.7MB/s eta 0:00:01\r\u001b[K     |█▉                              | 143kB 27.7MB/s eta 0:00:01\r\u001b[K     |██                              | 153kB 27.7MB/s eta 0:00:01\r\u001b[K     |██                              | 163kB 27.7MB/s eta 0:00:01\r\u001b[K     |██▎                             | 174kB 27.7MB/s eta 0:00:01\r\u001b[K     |██▍                             | 184kB 27.7MB/s eta 0:00:01\r\u001b[K     |██▌                             | 194kB 27.7MB/s eta 0:00:01\r\u001b[K     |██▋                             | 204kB 27.7MB/s eta 0:00:01\r\u001b[K     |██▊                             | 215kB 27.7MB/s eta 0:00:01\r\u001b[K     |███                             | 225kB 27.7MB/s eta 0:00:01\r\u001b[K     |███                             | 235kB 27.7MB/s eta 0:00:01\r\u001b[K     |███▏                            | 245kB 27.7MB/s eta 0:00:01\r\u001b[K     |███▎                            | 256kB 27.7MB/s eta 0:00:01\r\u001b[K     |███▍                            | 266kB 27.7MB/s eta 0:00:01\r\u001b[K     |███▌                            | 276kB 27.7MB/s eta 0:00:01\r\u001b[K     |███▊                            | 286kB 27.7MB/s eta 0:00:01\r\u001b[K     |███▉                            | 296kB 27.7MB/s eta 0:00:01\r\u001b[K     |████                            | 307kB 27.7MB/s eta 0:00:01\r\u001b[K     |████                            | 317kB 27.7MB/s eta 0:00:01\r\u001b[K     |████▏                           | 327kB 27.7MB/s eta 0:00:01\r\u001b[K     |████▍                           | 337kB 27.7MB/s eta 0:00:01\r\u001b[K     |████▌                           | 348kB 27.7MB/s eta 0:00:01\r\u001b[K     |████▋                           | 358kB 27.7MB/s eta 0:00:01\r\u001b[K     |████▊                           | 368kB 27.7MB/s eta 0:00:01\r\u001b[K     |████▉                           | 378kB 27.7MB/s eta 0:00:01\r\u001b[K     |█████                           | 389kB 27.7MB/s eta 0:00:01\r\u001b[K     |█████▏                          | 399kB 27.7MB/s eta 0:00:01\r\u001b[K     |█████▎                          | 409kB 27.7MB/s eta 0:00:01\r\u001b[K     |█████▍                          | 419kB 27.7MB/s eta 0:00:01\r\u001b[K     |█████▌                          | 430kB 27.7MB/s eta 0:00:01\r\u001b[K     |█████▋                          | 440kB 27.7MB/s eta 0:00:01\r\u001b[K     |█████▉                          | 450kB 27.7MB/s eta 0:00:01\r\u001b[K     |██████                          | 460kB 27.7MB/s eta 0:00:01\r\u001b[K     |██████                          | 471kB 27.7MB/s eta 0:00:01\r\u001b[K     |██████▏                         | 481kB 27.7MB/s eta 0:00:01\r\u001b[K     |██████▎                         | 491kB 27.7MB/s eta 0:00:01\r\u001b[K     |██████▍                         | 501kB 27.7MB/s eta 0:00:01\r\u001b[K     |██████▋                         | 512kB 27.7MB/s eta 0:00:01\r\u001b[K     |██████▊                         | 522kB 27.7MB/s eta 0:00:01\r\u001b[K     |██████▉                         | 532kB 27.7MB/s eta 0:00:01\r\u001b[K     |███████                         | 542kB 27.7MB/s eta 0:00:01\r\u001b[K     |███████                         | 552kB 27.7MB/s eta 0:00:01\r\u001b[K     |███████▎                        | 563kB 27.7MB/s eta 0:00:01\r\u001b[K     |███████▍                        | 573kB 27.7MB/s eta 0:00:01\r\u001b[K     |███████▌                        | 583kB 27.7MB/s eta 0:00:01\r\u001b[K     |███████▋                        | 593kB 27.7MB/s eta 0:00:01\r\u001b[K     |███████▊                        | 604kB 27.7MB/s eta 0:00:01\r\u001b[K     |███████▉                        | 614kB 27.7MB/s eta 0:00:01\r\u001b[K     |████████                        | 624kB 27.7MB/s eta 0:00:01\r\u001b[K     |████████▏                       | 634kB 27.7MB/s eta 0:00:01\r\u001b[K     |████████▎                       | 645kB 27.7MB/s eta 0:00:01\r\u001b[K     |████████▍                       | 655kB 27.7MB/s eta 0:00:01\r\u001b[K     |████████▌                       | 665kB 27.7MB/s eta 0:00:01\r\u001b[K     |████████▊                       | 675kB 27.7MB/s eta 0:00:01\r\u001b[K     |████████▉                       | 686kB 27.7MB/s eta 0:00:01\r\u001b[K     |█████████                       | 696kB 27.7MB/s eta 0:00:01\r\u001b[K     |█████████                       | 706kB 27.7MB/s eta 0:00:01\r\u001b[K     |█████████▏                      | 716kB 27.7MB/s eta 0:00:01\r\u001b[K     |█████████▎                      | 727kB 27.7MB/s eta 0:00:01\r\u001b[K     |█████████▌                      | 737kB 27.7MB/s eta 0:00:01\r\u001b[K     |█████████▋                      | 747kB 27.7MB/s eta 0:00:01\r\u001b[K     |█████████▊                      | 757kB 27.7MB/s eta 0:00:01\r\u001b[K     |█████████▉                      | 768kB 27.7MB/s eta 0:00:01\r\u001b[K     |██████████                      | 778kB 27.7MB/s eta 0:00:01\r\u001b[K     |██████████▏                     | 788kB 27.7MB/s eta 0:00:01\r\u001b[K     |██████████▎                     | 798kB 27.7MB/s eta 0:00:01\r\u001b[K     |██████████▍                     | 808kB 27.7MB/s eta 0:00:01\r\u001b[K     |██████████▌                     | 819kB 27.7MB/s eta 0:00:01\r\u001b[K     |██████████▋                     | 829kB 27.7MB/s eta 0:00:01\r\u001b[K     |██████████▊                     | 839kB 27.7MB/s eta 0:00:01\r\u001b[K     |███████████                     | 849kB 27.7MB/s eta 0:00:01\r\u001b[K     |███████████                     | 860kB 27.7MB/s eta 0:00:01\r\u001b[K     |███████████▏                    | 870kB 27.7MB/s eta 0:00:01\r\u001b[K     |███████████▎                    | 880kB 27.7MB/s eta 0:00:01\r\u001b[K     |███████████▍                    | 890kB 27.7MB/s eta 0:00:01\r\u001b[K     |███████████▋                    | 901kB 27.7MB/s eta 0:00:01\r\u001b[K     |███████████▊                    | 911kB 27.7MB/s eta 0:00:01\r\u001b[K     |███████████▉                    | 921kB 27.7MB/s eta 0:00:01\r\u001b[K     |████████████                    | 931kB 27.7MB/s eta 0:00:01\r\u001b[K     |████████████                    | 942kB 27.7MB/s eta 0:00:01\r\u001b[K     |████████████▏                   | 952kB 27.7MB/s eta 0:00:01\r\u001b[K     |████████████▍                   | 962kB 27.7MB/s eta 0:00:01\r\u001b[K     |████████████▌                   | 972kB 27.7MB/s eta 0:00:01\r\u001b[K     |████████████▋                   | 983kB 27.7MB/s eta 0:00:01\r\u001b[K     |████████████▊                   | 993kB 27.7MB/s eta 0:00:01\r\u001b[K     |████████████▉                   | 1.0MB 27.7MB/s eta 0:00:01\r\u001b[K     |█████████████                   | 1.0MB 27.7MB/s eta 0:00:01\r\u001b[K     |█████████████▏                  | 1.0MB 27.7MB/s eta 0:00:01\r\u001b[K     |█████████████▎                  | 1.0MB 27.7MB/s eta 0:00:01\r\u001b[K     |█████████████▍                  | 1.0MB 27.7MB/s eta 0:00:01\r\u001b[K     |█████████████▌                  | 1.1MB 27.7MB/s eta 0:00:01\r\u001b[K     |█████████████▋                  | 1.1MB 27.7MB/s eta 0:00:01\r\u001b[K     |█████████████▉                  | 1.1MB 27.7MB/s eta 0:00:01\r\u001b[K     |██████████████                  | 1.1MB 27.7MB/s eta 0:00:01\r\u001b[K     |██████████████                  | 1.1MB 27.7MB/s eta 0:00:01\r\u001b[K     |██████████████▏                 | 1.1MB 27.7MB/s eta 0:00:01\r\u001b[K     |██████████████▎                 | 1.1MB 27.7MB/s eta 0:00:01\r\u001b[K     |██████████████▌                 | 1.1MB 27.7MB/s eta 0:00:01\r\u001b[K     |██████████████▋                 | 1.1MB 27.7MB/s eta 0:00:01\r\u001b[K     |██████████████▊                 | 1.1MB 27.7MB/s eta 0:00:01\r\u001b[K     |██████████████▉                 | 1.2MB 27.7MB/s eta 0:00:01\r\u001b[K     |███████████████                 | 1.2MB 27.7MB/s eta 0:00:01\r\u001b[K     |███████████████                 | 1.2MB 27.7MB/s eta 0:00:01\r\u001b[K     |███████████████▎                | 1.2MB 27.7MB/s eta 0:00:01\r\u001b[K     |███████████████▍                | 1.2MB 27.7MB/s eta 0:00:01\r\u001b[K     |███████████████▌                | 1.2MB 27.7MB/s eta 0:00:01\r\u001b[K     |███████████████▋                | 1.2MB 27.7MB/s eta 0:00:01\r\u001b[K     |███████████████▊                | 1.2MB 27.7MB/s eta 0:00:01\r\u001b[K     |████████████████                | 1.2MB 27.7MB/s eta 0:00:01\r\u001b[K     |████████████████                | 1.2MB 27.7MB/s eta 0:00:01\r\u001b[K     |████████████████▏               | 1.3MB 27.7MB/s eta 0:00:01\r\u001b[K     |████████████████▎               | 1.3MB 27.7MB/s eta 0:00:01\r\u001b[K     |████████████████▍               | 1.3MB 27.7MB/s eta 0:00:01\r\u001b[K     |████████████████▌               | 1.3MB 27.7MB/s eta 0:00:01\r\u001b[K     |████████████████▊               | 1.3MB 27.7MB/s eta 0:00:01\r\u001b[K     |████████████████▉               | 1.3MB 27.7MB/s eta 0:00:01\r\u001b[K     |█████████████████               | 1.3MB 27.7MB/s eta 0:00:01\r\u001b[K     |█████████████████               | 1.3MB 27.7MB/s eta 0:00:01\r\u001b[K     |█████████████████▏              | 1.3MB 27.7MB/s eta 0:00:01\r\u001b[K     |█████████████████▍              | 1.4MB 27.7MB/s eta 0:00:01\r\u001b[K     |█████████████████▌              | 1.4MB 27.7MB/s eta 0:00:01\r\u001b[K     |█████████████████▋              | 1.4MB 27.7MB/s eta 0:00:01\r\u001b[K     |█████████████████▊              | 1.4MB 27.7MB/s eta 0:00:01\r\u001b[K     |█████████████████▉              | 1.4MB 27.7MB/s eta 0:00:01\r\u001b[K     |██████████████████              | 1.4MB 27.7MB/s eta 0:00:01\r\u001b[K     |██████████████████▏             | 1.4MB 27.7MB/s eta 0:00:01\r\u001b[K     |██████████████████▎             | 1.4MB 27.7MB/s eta 0:00:01\r\u001b[K     |██████████████████▍             | 1.4MB 27.7MB/s eta 0:00:01\r\u001b[K     |██████████████████▌             | 1.4MB 27.7MB/s eta 0:00:01\r\u001b[K     |██████████████████▋             | 1.5MB 27.7MB/s eta 0:00:01\r\u001b[K     |██████████████████▉             | 1.5MB 27.7MB/s eta 0:00:01\r\u001b[K     |███████████████████             | 1.5MB 27.7MB/s eta 0:00:01\r\u001b[K     |███████████████████             | 1.5MB 27.7MB/s eta 0:00:01\r\u001b[K     |███████████████████▏            | 1.5MB 27.7MB/s eta 0:00:01\r\u001b[K     |███████████████████▎            | 1.5MB 27.7MB/s eta 0:00:01\r\u001b[K     |███████████████████▍            | 1.5MB 27.7MB/s eta 0:00:01\r\u001b[K     |███████████████████▋            | 1.5MB 27.7MB/s eta 0:00:01\r\u001b[K     |███████████████████▊            | 1.5MB 27.7MB/s eta 0:00:01\r\u001b[K     |███████████████████▉            | 1.5MB 27.7MB/s eta 0:00:01\r\u001b[K     |████████████████████            | 1.6MB 27.7MB/s eta 0:00:01\r\u001b[K     |████████████████████            | 1.6MB 27.7MB/s eta 0:00:01\r\u001b[K     |████████████████████▎           | 1.6MB 27.7MB/s eta 0:00:01\r\u001b[K     |████████████████████▍           | 1.6MB 27.7MB/s eta 0:00:01\r\u001b[K     |████████████████████▌           | 1.6MB 27.7MB/s eta 0:00:01\r\u001b[K     |████████████████████▋           | 1.6MB 27.7MB/s eta 0:00:01\r\u001b[K     |████████████████████▊           | 1.6MB 27.7MB/s eta 0:00:01\r\u001b[K     |████████████████████▉           | 1.6MB 27.7MB/s eta 0:00:01\r\u001b[K     |█████████████████████           | 1.6MB 27.7MB/s eta 0:00:01\r\u001b[K     |█████████████████████▏          | 1.6MB 27.7MB/s eta 0:00:01\r\u001b[K     |█████████████████████▎          | 1.7MB 27.7MB/s eta 0:00:01\r\u001b[K     |█████████████████████▍          | 1.7MB 27.7MB/s eta 0:00:01\r\u001b[K     |█████████████████████▌          | 1.7MB 27.7MB/s eta 0:00:01\r\u001b[K     |█████████████████████▊          | 1.7MB 27.7MB/s eta 0:00:01\r\u001b[K     |█████████████████████▉          | 1.7MB 27.7MB/s eta 0:00:01\r\u001b[K     |██████████████████████          | 1.7MB 27.7MB/s eta 0:00:01\r\u001b[K     |██████████████████████          | 1.7MB 27.7MB/s eta 0:00:01\r\u001b[K     |██████████████████████▏         | 1.7MB 27.7MB/s eta 0:00:01\r\u001b[K     |██████████████████████▎         | 1.7MB 27.7MB/s eta 0:00:01\r\u001b[K     |██████████████████████▌         | 1.8MB 27.7MB/s eta 0:00:01\r\u001b[K     |██████████████████████▋         | 1.8MB 27.7MB/s eta 0:00:01\r\u001b[K     |██████████████████████▊         | 1.8MB 27.7MB/s eta 0:00:01\r\u001b[K     |██████████████████████▉         | 1.8MB 27.7MB/s eta 0:00:01\r\u001b[K     |███████████████████████         | 1.8MB 27.7MB/s eta 0:00:01\r\u001b[K     |███████████████████████▏        | 1.8MB 27.7MB/s eta 0:00:01\r\u001b[K     |███████████████████████▎        | 1.8MB 27.7MB/s eta 0:00:01\r\u001b[K     |███████████████████████▍        | 1.8MB 27.7MB/s eta 0:00:01\r\u001b[K     |███████████████████████▌        | 1.8MB 27.7MB/s eta 0:00:01\r\u001b[K     |███████████████████████▋        | 1.8MB 27.7MB/s eta 0:00:01\r\u001b[K     |███████████████████████▊        | 1.9MB 27.7MB/s eta 0:00:01\r\u001b[K     |████████████████████████        | 1.9MB 27.7MB/s eta 0:00:01\r\u001b[K     |████████████████████████        | 1.9MB 27.7MB/s eta 0:00:01\r\u001b[K     |████████████████████████▏       | 1.9MB 27.7MB/s eta 0:00:01\r\u001b[K     |████████████████████████▎       | 1.9MB 27.7MB/s eta 0:00:01\r\u001b[K     |████████████████████████▍       | 1.9MB 27.7MB/s eta 0:00:01\r\u001b[K     |████████████████████████▋       | 1.9MB 27.7MB/s eta 0:00:01\r\u001b[K     |████████████████████████▊       | 1.9MB 27.7MB/s eta 0:00:01\r\u001b[K     |████████████████████████▉       | 1.9MB 27.7MB/s eta 0:00:01\r\u001b[K     |█████████████████████████       | 1.9MB 27.7MB/s eta 0:00:01\r\u001b[K     |█████████████████████████       | 2.0MB 27.7MB/s eta 0:00:01\r\u001b[K     |█████████████████████████▏      | 2.0MB 27.7MB/s eta 0:00:01\r\u001b[K     |█████████████████████████▍      | 2.0MB 27.7MB/s eta 0:00:01\r\u001b[K     |█████████████████████████▌      | 2.0MB 27.7MB/s eta 0:00:01\r\u001b[K     |█████████████████████████▋      | 2.0MB 27.7MB/s eta 0:00:01\r\u001b[K     |█████████████████████████▊      | 2.0MB 27.7MB/s eta 0:00:01\r\u001b[K     |█████████████████████████▉      | 2.0MB 27.7MB/s eta 0:00:01\r\u001b[K     |██████████████████████████      | 2.0MB 27.7MB/s eta 0:00:01\r\u001b[K     |██████████████████████████▏     | 2.0MB 27.7MB/s eta 0:00:01\r\u001b[K     |██████████████████████████▎     | 2.0MB 27.7MB/s eta 0:00:01\r\u001b[K     |██████████████████████████▍     | 2.1MB 27.7MB/s eta 0:00:01\r\u001b[K     |██████████████████████████▌     | 2.1MB 27.7MB/s eta 0:00:01\r\u001b[K     |██████████████████████████▋     | 2.1MB 27.7MB/s eta 0:00:01\r\u001b[K     |██████████████████████████▉     | 2.1MB 27.7MB/s eta 0:00:01\r\u001b[K     |███████████████████████████     | 2.1MB 27.7MB/s eta 0:00:01\r\u001b[K     |███████████████████████████     | 2.1MB 27.7MB/s eta 0:00:01\r\u001b[K     |███████████████████████████▏    | 2.1MB 27.7MB/s eta 0:00:01\r\u001b[K     |███████████████████████████▎    | 2.1MB 27.7MB/s eta 0:00:01\r\u001b[K     |███████████████████████████▌    | 2.1MB 27.7MB/s eta 0:00:01\r\u001b[K     |███████████████████████████▋    | 2.2MB 27.7MB/s eta 0:00:01\r\u001b[K     |███████████████████████████▊    | 2.2MB 27.7MB/s eta 0:00:01\r\u001b[K     |███████████████████████████▉    | 2.2MB 27.7MB/s eta 0:00:01\r\u001b[K     |████████████████████████████    | 2.2MB 27.7MB/s eta 0:00:01\r\u001b[K     |████████████████████████████    | 2.2MB 27.7MB/s eta 0:00:01\r\u001b[K     |████████████████████████████▎   | 2.2MB 27.7MB/s eta 0:00:01\r\u001b[K     |████████████████████████████▍   | 2.2MB 27.7MB/s eta 0:00:01\r\u001b[K     |████████████████████████████▌   | 2.2MB 27.7MB/s eta 0:00:01\r\u001b[K     |████████████████████████████▋   | 2.2MB 27.7MB/s eta 0:00:01\r\u001b[K     |████████████████████████████▊   | 2.2MB 27.7MB/s eta 0:00:01\r\u001b[K     |█████████████████████████████   | 2.3MB 27.7MB/s eta 0:00:01\r\u001b[K     |█████████████████████████████   | 2.3MB 27.7MB/s eta 0:00:01\r\u001b[K     |█████████████████████████████▏  | 2.3MB 27.7MB/s eta 0:00:01\r\u001b[K     |█████████████████████████████▎  | 2.3MB 27.7MB/s eta 0:00:01\r\u001b[K     |█████████████████████████████▍  | 2.3MB 27.7MB/s eta 0:00:01\r\u001b[K     |█████████████████████████████▌  | 2.3MB 27.7MB/s eta 0:00:01\r\u001b[K     |█████████████████████████████▊  | 2.3MB 27.7MB/s eta 0:00:01\r\u001b[K     |█████████████████████████████▉  | 2.3MB 27.7MB/s eta 0:00:01\r\u001b[K     |██████████████████████████████  | 2.3MB 27.7MB/s eta 0:00:01\r\u001b[K     |██████████████████████████████  | 2.3MB 27.7MB/s eta 0:00:01\r\u001b[K     |██████████████████████████████▏ | 2.4MB 27.7MB/s eta 0:00:01\r\u001b[K     |██████████████████████████████▍ | 2.4MB 27.7MB/s eta 0:00:01\r\u001b[K     |██████████████████████████████▌ | 2.4MB 27.7MB/s eta 0:00:01\r\u001b[K     |██████████████████████████████▋ | 2.4MB 27.7MB/s eta 0:00:01\r\u001b[K     |██████████████████████████████▊ | 2.4MB 27.7MB/s eta 0:00:01\r\u001b[K     |██████████████████████████████▉ | 2.4MB 27.7MB/s eta 0:00:01\r\u001b[K     |███████████████████████████████ | 2.4MB 27.7MB/s eta 0:00:01\r\u001b[K     |███████████████████████████████▏| 2.4MB 27.7MB/s eta 0:00:01\r\u001b[K     |███████████████████████████████▎| 2.4MB 27.7MB/s eta 0:00:01\r\u001b[K     |███████████████████████████████▍| 2.4MB 27.7MB/s eta 0:00:01\r\u001b[K     |███████████████████████████████▌| 2.5MB 27.7MB/s eta 0:00:01\r\u001b[K     |███████████████████████████████▋| 2.5MB 27.7MB/s eta 0:00:01\r\u001b[K     |███████████████████████████████▉| 2.5MB 27.7MB/s eta 0:00:01\r\u001b[K     |████████████████████████████████| 2.5MB 27.7MB/s eta 0:00:01\r\u001b[K     |████████████████████████████████| 2.5MB 27.7MB/s \n",
            "\u001b[?25hRequirement already satisfied: tqdm>=4.27 in /usr/local/lib/python3.7/dist-packages (from transformers) (4.41.1)\n",
            "Collecting huggingface-hub==0.0.12\n",
            "  Downloading https://files.pythonhosted.org/packages/2f/ee/97e253668fda9b17e968b3f97b2f8e53aa0127e8807d24a547687423fe0b/huggingface_hub-0.0.12-py3-none-any.whl\n",
            "Requirement already satisfied: regex!=2019.12.17 in /usr/local/lib/python3.7/dist-packages (from transformers) (2019.12.20)\n",
            "Collecting tokenizers<0.11,>=0.10.1\n",
            "\u001b[?25l  Downloading https://files.pythonhosted.org/packages/d4/e2/df3543e8ffdab68f5acc73f613de9c2b155ac47f162e725dcac87c521c11/tokenizers-0.10.3-cp37-cp37m-manylinux_2_5_x86_64.manylinux1_x86_64.manylinux_2_12_x86_64.manylinux2010_x86_64.whl (3.3MB)\n",
            "\u001b[K     |████████████████████████████████| 3.3MB 51.0MB/s \n",
            "\u001b[?25hRequirement already satisfied: filelock in /usr/local/lib/python3.7/dist-packages (from transformers) (3.0.12)\n",
            "Requirement already satisfied: requests in /usr/local/lib/python3.7/dist-packages (from transformers) (2.23.0)\n",
            "Requirement already satisfied: importlib-metadata; python_version < \"3.8\" in /usr/local/lib/python3.7/dist-packages (from transformers) (4.5.0)\n",
            "Requirement already satisfied: pyyaml in /usr/local/lib/python3.7/dist-packages (from transformers) (3.13)\n",
            "Requirement already satisfied: numpy>=1.17 in /usr/local/lib/python3.7/dist-packages (from transformers) (1.19.5)\n",
            "Requirement already satisfied: packaging in /usr/local/lib/python3.7/dist-packages (from transformers) (20.9)\n",
            "Collecting sacremoses\n",
            "\u001b[?25l  Downloading https://files.pythonhosted.org/packages/75/ee/67241dc87f266093c533a2d4d3d69438e57d7a90abb216fa076e7d475d4a/sacremoses-0.0.45-py3-none-any.whl (895kB)\n",
            "\u001b[K     |████████████████████████████████| 901kB 50.4MB/s \n",
            "\u001b[?25hRequirement already satisfied: typing-extensions in /usr/local/lib/python3.7/dist-packages (from huggingface-hub==0.0.12->transformers) (3.7.4.3)\n",
            "Requirement already satisfied: urllib3!=1.25.0,!=1.25.1,<1.26,>=1.21.1 in /usr/local/lib/python3.7/dist-packages (from requests->transformers) (1.24.3)\n",
            "Requirement already satisfied: certifi>=2017.4.17 in /usr/local/lib/python3.7/dist-packages (from requests->transformers) (2021.5.30)\n",
            "Requirement already satisfied: chardet<4,>=3.0.2 in /usr/local/lib/python3.7/dist-packages (from requests->transformers) (3.0.4)\n",
            "Requirement already satisfied: idna<3,>=2.5 in /usr/local/lib/python3.7/dist-packages (from requests->transformers) (2.10)\n",
            "Requirement already satisfied: zipp>=0.5 in /usr/local/lib/python3.7/dist-packages (from importlib-metadata; python_version < \"3.8\"->transformers) (3.4.1)\n",
            "Requirement already satisfied: pyparsing>=2.0.2 in /usr/local/lib/python3.7/dist-packages (from packaging->transformers) (2.4.7)\n",
            "Requirement already satisfied: joblib in /usr/local/lib/python3.7/dist-packages (from sacremoses->transformers) (1.0.1)\n",
            "Requirement already satisfied: click in /usr/local/lib/python3.7/dist-packages (from sacremoses->transformers) (7.1.2)\n",
            "Requirement already satisfied: six in /usr/local/lib/python3.7/dist-packages (from sacremoses->transformers) (1.15.0)\n",
            "Installing collected packages: huggingface-hub, tokenizers, sacremoses, transformers\n",
            "Successfully installed huggingface-hub-0.0.12 sacremoses-0.0.45 tokenizers-0.10.3 transformers-4.8.1\n"
          ],
          "name": "stdout"
        }
      ]
    },
    {
      "cell_type": "code",
      "metadata": {
        "colab": {
          "base_uri": "https://localhost:8080/"
        },
        "id": "jkbayZJEJW0K",
        "outputId": "bffd71de-e007-4353-9fa5-3ec3c2c7ccd6"
      },
      "source": [
        "## pip uninstall torch\n",
        "## !pip install torch==1.4.0"
      ],
      "execution_count": null,
      "outputs": [
        {
          "output_type": "stream",
          "text": [
            "Uninstalling torch-1.4.0:\n",
            "  Would remove:\n",
            "    /usr/local/bin/convert-caffe2-to-onnx\n",
            "    /usr/local/bin/convert-onnx-to-caffe2\n",
            "    /usr/local/lib/python3.7/dist-packages/caffe2/*\n",
            "    /usr/local/lib/python3.7/dist-packages/torch-1.4.0.dist-info/*\n",
            "    /usr/local/lib/python3.7/dist-packages/torch/*\n",
            "Proceed (y/n)? y\n",
            "  Successfully uninstalled torch-1.4.0\n"
          ],
          "name": "stdout"
        }
      ]
    },
    {
      "cell_type": "code",
      "metadata": {
        "id": "G0qhwaGGE6fA"
      },
      "source": [
        "from transformers import BertModel, BertTokenizer\n",
        "import torch"
      ],
      "execution_count": 2,
      "outputs": []
    },
    {
      "cell_type": "code",
      "metadata": {
        "id": "bJXTpGO8ErU6",
        "colab": {
          "base_uri": "https://localhost:8080/",
          "height": 195,
          "referenced_widgets": [
            "66fdd4e3ab1c4fbf877ba2ef590e8b3b",
            "2b7aded8a6d44a269dba801f943fa6a7",
            "13a3ff1f171b44e4bc8654c76a41c243",
            "9ba7c277ce094b2a99c5c82b89ea5a0a",
            "0da7bff73ef744828e037c33eb790f51",
            "aa1ecfd6983f49e8a2e095e2f2d55e76",
            "b9fe88457b69402fa202ce27aaa2c143",
            "1e631b10558e4b168b22742ef8413b9e",
            "fa39b3aac942424ab44de7d1414dbf13",
            "e5e5beb6e7904bf998fab4837951c661",
            "c200fb363a9b4cc09a96f085a9eec053",
            "cbff881867104f90b0ff5b3c19fa64bc",
            "ea5217de816b4b82b3a52eb6cff5033a",
            "5e3f289bccc04321ac0b7a1706afa87b",
            "8d771c9928ef4a7bb182325d129f3199",
            "a4b8fd20b8c24afa9d71fb6edbcdd56a"
          ]
        },
        "outputId": "d059ee88-2932-4ba1-ce91-764c29742c13"
      },
      "source": [
        "model = BertModel.from_pretrained('bert-base-uncased', output_hidden_states = True)"
      ],
      "execution_count": 4,
      "outputs": [
        {
          "output_type": "display_data",
          "data": {
            "application/vnd.jupyter.widget-view+json": {
              "model_id": "66fdd4e3ab1c4fbf877ba2ef590e8b3b",
              "version_minor": 0,
              "version_major": 2
            },
            "text/plain": [
              "HBox(children=(FloatProgress(value=0.0, description='Downloading', max=570.0, style=ProgressStyle(description_…"
            ]
          },
          "metadata": {
            "tags": []
          }
        },
        {
          "output_type": "stream",
          "text": [
            "\n"
          ],
          "name": "stdout"
        },
        {
          "output_type": "display_data",
          "data": {
            "application/vnd.jupyter.widget-view+json": {
              "model_id": "fa39b3aac942424ab44de7d1414dbf13",
              "version_minor": 0,
              "version_major": 2
            },
            "text/plain": [
              "HBox(children=(FloatProgress(value=0.0, description='Downloading', max=440473133.0, style=ProgressStyle(descri…"
            ]
          },
          "metadata": {
            "tags": []
          }
        },
        {
          "output_type": "stream",
          "text": [
            "\n"
          ],
          "name": "stdout"
        },
        {
          "output_type": "stream",
          "text": [
            "Some weights of the model checkpoint at bert-base-uncased were not used when initializing BertModel: ['cls.predictions.transform.dense.bias', 'cls.predictions.transform.LayerNorm.bias', 'cls.seq_relationship.bias', 'cls.predictions.transform.dense.weight', 'cls.seq_relationship.weight', 'cls.predictions.transform.LayerNorm.weight', 'cls.predictions.bias', 'cls.predictions.decoder.weight']\n",
            "- This IS expected if you are initializing BertModel from the checkpoint of a model trained on another task or with another architecture (e.g. initializing a BertForSequenceClassification model from a BertForPreTraining model).\n",
            "- This IS NOT expected if you are initializing BertModel from the checkpoint of a model that you expect to be exactly identical (initializing a BertForSequenceClassification model from a BertForSequenceClassification model).\n"
          ],
          "name": "stderr"
        }
      ]
    },
    {
      "cell_type": "code",
      "metadata": {
        "id": "7V_U-zATKhSa",
        "colab": {
          "base_uri": "https://localhost:8080/",
          "height": 169,
          "referenced_widgets": [
            "14c606cc497e4b28b7d6152cc0d99660",
            "4b133a14e7944b94be162b83464d15bc",
            "bf7a03b0545c4abaa1905d633540c942",
            "baaaf7c2440f402babb6c693199a977f",
            "00116c9ce9ec4e2d98509039e4eb4af2",
            "af7f171d76864ab080c9d8137ec243df",
            "93e3832c6fad4a7f86bae2967aa76996",
            "0d1e0580209e46439f8620aaca2d73cc",
            "f833aebdc53643e59a3cc113214fac49",
            "991df3140e5c42899b0411026fcb58d4",
            "c6c7c3d1033a42fb92ef8c984caa3918",
            "b852c220b9494bb7852080252bd3e492",
            "f0dce92fefd74f57886f5ae0607f5814",
            "e210e3f60e4f4c41b9bc8ba6a162d156",
            "beaa5f7bf8074a489dd1ad09c75d0179",
            "eec399e7c108475c9c571e20af2f7a60",
            "988d1d28b9b045a5914a37735145bd7c",
            "c522457a6f3c43bc8605aa1b3cc2b049",
            "017fa63c97fb49038e6df3259dfdaaed",
            "5196e73604124ac68f838b94b8bd5dd7",
            "6a9a5ac619874fd88e2b183ec92719b8",
            "325272d398fe4371b5c6a7a0d1830ed3",
            "788458453af64c3e901ae4d293a0e3e1",
            "aab8fbe5aaa342b1b10fd2a9aae43dbd"
          ]
        },
        "outputId": "1d66999b-1b24-421c-b596-575a3d9da828"
      },
      "source": [
        "tokenizer = BertTokenizer.from_pretrained('bert-base-uncased')"
      ],
      "execution_count": 5,
      "outputs": [
        {
          "output_type": "display_data",
          "data": {
            "application/vnd.jupyter.widget-view+json": {
              "model_id": "14c606cc497e4b28b7d6152cc0d99660",
              "version_minor": 0,
              "version_major": 2
            },
            "text/plain": [
              "HBox(children=(FloatProgress(value=0.0, description='Downloading', max=231508.0, style=ProgressStyle(descripti…"
            ]
          },
          "metadata": {
            "tags": []
          }
        },
        {
          "output_type": "stream",
          "text": [
            "\n"
          ],
          "name": "stdout"
        },
        {
          "output_type": "display_data",
          "data": {
            "application/vnd.jupyter.widget-view+json": {
              "model_id": "f833aebdc53643e59a3cc113214fac49",
              "version_minor": 0,
              "version_major": 2
            },
            "text/plain": [
              "HBox(children=(FloatProgress(value=0.0, description='Downloading', max=28.0, style=ProgressStyle(description_w…"
            ]
          },
          "metadata": {
            "tags": []
          }
        },
        {
          "output_type": "stream",
          "text": [
            "\n"
          ],
          "name": "stdout"
        },
        {
          "output_type": "display_data",
          "data": {
            "application/vnd.jupyter.widget-view+json": {
              "model_id": "988d1d28b9b045a5914a37735145bd7c",
              "version_minor": 0,
              "version_major": 2
            },
            "text/plain": [
              "HBox(children=(FloatProgress(value=0.0, description='Downloading', max=466062.0, style=ProgressStyle(descripti…"
            ]
          },
          "metadata": {
            "tags": []
          }
        },
        {
          "output_type": "stream",
          "text": [
            "\n"
          ],
          "name": "stdout"
        }
      ]
    },
    {
      "cell_type": "code",
      "metadata": {
        "colab": {
          "base_uri": "https://localhost:8080/"
        },
        "id": "0-33Ym9_K3tr",
        "outputId": "18e51da2-ed17-431f-8b4b-7ad51c2213f9"
      },
      "source": [
        "sentence = 'I love Paris'\n",
        "\n",
        "tokens = tokenizer.tokenize(sentence)\n",
        "\n",
        "tokens = ['[CLS]'] + tokens + ['[SEP]'] + ['[PAD]'] + ['[PAD]']\n",
        "print(tokens)\n",
        "\n",
        "attention_mask = [1 if i!= '[PAD]' else 0 for i in tokens]\n",
        "\n",
        "print(attention_mask)\n",
        "\n",
        "token_ids = tokenizer.convert_tokens_to_ids(tokens)\n",
        "token_ids = torch.tensor(token_ids).unsqueeze(0)\n",
        "attention_mask = torch.tensor(attention_mask).unsqueeze(0)"
      ],
      "execution_count": 6,
      "outputs": [
        {
          "output_type": "stream",
          "text": [
            "['[CLS]', 'i', 'love', 'paris', '[SEP]', '[PAD]', '[PAD]']\n",
            "[1, 1, 1, 1, 1, 0, 0]\n"
          ],
          "name": "stdout"
        }
      ]
    },
    {
      "cell_type": "code",
      "metadata": {
        "id": "2lATilW_btWS"
      },
      "source": [
        "model = BertModel.from_pretrained('bert-base-uncased')\n",
        "\n",
        "hidden_rep, cls_head = model(token_ids, attention_mask = attention_mask)"
      ],
      "execution_count": null,
      "outputs": []
    },
    {
      "cell_type": "code",
      "metadata": {
        "colab": {
          "base_uri": "https://localhost:8080/"
        },
        "id": "e6aUHJ3Yc-Mu",
        "outputId": "3b19d443-748d-4801-b31d-81e367be26b5"
      },
      "source": [
        "print(hidden_rep.shape)"
      ],
      "execution_count": null,
      "outputs": [
        {
          "output_type": "stream",
          "text": [
            "torch.Size([1, 7, 768])\n"
          ],
          "name": "stdout"
        }
      ]
    },
    {
      "cell_type": "code",
      "metadata": {
        "colab": {
          "base_uri": "https://localhost:8080/"
        },
        "id": "uxiDJJ-qdPF3",
        "outputId": "9f633a05-ddf2-4e70-e84e-20d66c4de8ed"
      },
      "source": [
        "hidden_rep[0][6]"
      ],
      "execution_count": null,
      "outputs": [
        {
          "output_type": "execute_result",
          "data": {
            "text/plain": [
              "tensor([-1.6466e-02,  2.4592e-01,  4.5662e-01,  5.9891e-02, -2.1411e-01,\n",
              "         1.5792e-01, -6.1125e-02,  2.5318e-01,  2.1807e-01, -3.3167e-01,\n",
              "        -4.9547e-01,  1.7097e-01,  3.3358e-01,  4.2455e-01,  4.3687e-01,\n",
              "         1.3753e-01,  2.0652e-01,  6.2365e-01,  4.1029e-01, -1.6307e-01,\n",
              "         1.0362e-01,  1.1800e-01, -1.0860e-01, -4.9124e-01,  1.4104e-01,\n",
              "        -1.5236e-01, -3.9691e-01,  2.2120e-01,  1.6091e-01,  1.9049e-01,\n",
              "        -1.6647e-01,  9.6641e-02,  4.8744e-01,  3.4251e-01, -5.1575e-02,\n",
              "         4.0566e-02, -8.8529e-03, -1.4144e-01, -5.9591e-01,  5.5263e-02,\n",
              "         2.2857e-01, -1.8117e-01,  1.7344e-02, -3.6475e-01,  3.0355e-01,\n",
              "         5.4511e-02, -1.2556e-01,  1.7427e-01,  3.5992e-01, -4.1985e-01,\n",
              "         1.1104e-01, -1.9331e-01, -6.2492e-02,  1.2034e-01, -1.6641e-01,\n",
              "        -3.5850e-02, -3.5354e-01, -3.0566e-01, -1.9477e-01,  3.5075e-01,\n",
              "         4.2069e-01, -2.1980e-01,  9.0238e-02,  2.1399e-01, -1.9120e-01,\n",
              "        -6.9065e-02,  4.1813e-01, -3.4705e-03, -1.8489e-01, -2.8729e-01,\n",
              "         2.2755e-01,  2.6154e-02, -4.1052e-01, -4.5476e-01,  1.1473e-01,\n",
              "         2.4511e-01, -1.3620e-01,  1.5248e-01, -7.5371e-02,  2.5170e-02,\n",
              "         1.9122e-01, -5.8489e-02, -9.9032e-02,  2.8308e-01, -2.2494e-02,\n",
              "         4.8585e-01, -1.5876e-01,  6.8971e-02,  1.9333e-01, -2.8883e-01,\n",
              "        -3.4908e-01, -4.1850e-01,  7.7346e-02,  2.8167e-01,  1.9082e-01,\n",
              "        -2.6751e-01, -6.6892e-01,  2.7923e-01, -8.6098e-02, -2.5659e-01,\n",
              "        -3.0085e-01, -6.8492e-02, -6.7642e-02,  2.5791e-03, -4.2849e-01,\n",
              "        -1.3315e-01, -1.1683e-01, -2.8847e-01,  8.0617e-01,  1.4263e-01,\n",
              "        -2.4626e-01, -4.3388e-01,  2.4478e-01, -4.4610e-01, -3.3643e-01,\n",
              "        -7.8234e-02,  8.1879e-02,  3.1503e-01, -2.2732e-01,  3.5613e-01,\n",
              "        -5.0083e-02,  1.7377e-01,  3.4040e-02,  2.3773e-01, -6.0813e-03,\n",
              "         7.8523e-02,  4.9373e-02, -2.8680e-01, -2.7159e-01, -1.2599e-01,\n",
              "         1.1140e-01, -3.9679e-02, -8.8396e-02, -3.1574e-01,  1.9737e-01,\n",
              "        -1.4736e-01, -1.7323e-02, -3.0935e-01,  1.9459e-01, -3.3301e-01,\n",
              "        -1.0785e-01,  6.6660e-01,  1.0461e-01, -1.7788e-01,  1.0909e-01,\n",
              "         3.6548e-02, -1.2399e-01,  1.7576e-01, -2.5022e-02, -2.4183e-01,\n",
              "        -2.3402e-01,  4.0248e-01, -7.9694e-02, -5.7103e-01, -1.7417e-01,\n",
              "        -4.2057e-02, -6.6131e-02,  3.4368e-01, -1.4049e-01,  1.2514e-01,\n",
              "         2.5567e-01,  4.9182e-01,  1.8914e-01,  2.8855e-01, -3.3093e-01,\n",
              "         7.6712e-02,  2.1693e-01,  3.4569e-01, -3.0115e-01, -7.2124e-01,\n",
              "         6.3718e-02,  9.1979e-02,  4.4155e-01,  3.8018e-01, -9.9461e-02,\n",
              "         1.9479e-01,  6.8479e-01,  1.9535e-01, -3.8295e-01,  4.4517e-01,\n",
              "         3.6046e-02,  1.9360e-01, -3.0735e-01, -3.0864e-01, -1.0795e-02,\n",
              "         6.5390e-01,  4.4551e-01,  1.6733e-01,  3.3398e-01,  3.0741e-01,\n",
              "        -3.4810e-01, -4.0430e-03, -7.0559e-02,  2.7648e-01,  7.0612e-02,\n",
              "        -5.0932e-01,  2.4760e-01,  6.1164e-02,  4.9883e-01,  2.6945e-02,\n",
              "         2.9888e-01, -2.7007e-01,  6.0139e-01,  5.1886e-01, -1.9558e-02,\n",
              "        -5.0205e-02,  5.2441e-01, -2.0879e-01,  5.0318e-02, -1.2127e-01,\n",
              "        -4.5539e-01,  4.3300e-01,  2.3879e-01,  1.0846e-01, -5.7390e-02,\n",
              "        -2.0259e-01, -4.7471e-02, -9.8436e-02,  1.7555e-01,  2.7784e-01,\n",
              "         9.2844e-02,  9.2905e-02, -1.0395e-01, -2.0749e-01, -4.9481e-01,\n",
              "        -1.2062e-01,  1.2977e-01, -3.8313e-01,  1.4533e-01, -1.5951e-01,\n",
              "        -8.7179e-01, -1.3832e-01, -3.0626e-01,  6.4654e-02, -4.6202e-02,\n",
              "         7.9392e-01, -1.7585e-02, -6.0564e-01, -2.8530e-01,  2.7263e-01,\n",
              "         2.8476e-01, -5.1690e-01,  5.3873e-01,  3.4422e-01, -2.4862e-01,\n",
              "         2.9090e-01,  2.4234e-01, -4.3786e-01, -3.1368e-01, -1.0974e-01,\n",
              "        -1.3955e-01,  1.6382e-01, -2.9120e-01, -7.0473e-02, -5.3243e-01,\n",
              "        -1.3097e-02,  1.0223e-01,  2.1362e-01,  1.7007e-01,  2.4550e-01,\n",
              "        -5.0469e-03, -1.7173e-01,  5.7652e-01, -3.9638e-01,  1.0901e-01,\n",
              "         2.0519e-01, -7.7965e-01, -4.1595e-01, -8.6860e-02, -6.0667e-03,\n",
              "        -3.8052e-01,  2.3369e-01,  8.5020e-02,  5.4324e-01,  6.8830e-02,\n",
              "         2.9907e-01, -7.2134e-02,  3.4675e-01,  4.1700e-01, -1.5628e-01,\n",
              "        -3.2517e-03,  3.0166e-01, -2.7821e-01, -2.0276e-01,  4.7747e-01,\n",
              "        -1.1700e-01, -1.5779e-01, -6.8352e-01, -2.1032e-01,  4.2148e-02,\n",
              "         2.5568e-02,  9.1601e-02, -4.7517e-02, -1.5521e-01,  1.8128e-01,\n",
              "        -2.2640e-01,  2.6073e-01,  4.8016e-01, -1.4231e-01,  2.0389e-01,\n",
              "        -2.1854e-01,  2.9980e-01,  1.7048e-01,  5.6767e-02,  8.9088e-01,\n",
              "         2.0443e-01,  8.8066e-02,  2.9139e-01, -6.5457e+00, -2.1150e-01,\n",
              "         3.4926e-01, -1.7171e-01, -9.8456e-02,  8.7600e-02,  8.9366e-02,\n",
              "         3.1840e-01,  3.2959e-03, -3.2840e-01,  3.0404e-01,  2.9472e-01,\n",
              "         1.0397e-01, -1.4450e-01, -2.8084e-01, -2.9310e-01, -1.0296e-01,\n",
              "        -5.8429e-01, -1.5432e-01,  4.0422e-01, -5.3162e-01,  3.0763e-01,\n",
              "         1.0121e-01, -1.8116e-01, -1.6011e-01,  3.2789e-01,  2.0112e-01,\n",
              "         2.1354e-01, -4.9500e-01, -3.0129e-02, -4.1961e-01,  4.1446e-02,\n",
              "         3.5183e-01, -9.3744e-02, -1.3622e-01, -2.2515e-01,  1.5931e-01,\n",
              "        -5.4021e-01,  3.4212e-01,  3.9361e-02,  1.0673e-01, -3.4623e-01,\n",
              "        -4.9448e-02, -1.7474e-01, -2.5667e-01, -1.8415e-01, -9.8488e-02,\n",
              "        -2.9383e-02,  2.0113e-01,  4.1369e-01,  3.0817e-01,  7.0913e-02,\n",
              "         6.5286e-02, -2.0257e-02, -2.7255e-01,  4.6628e-01,  4.7161e-01,\n",
              "        -6.9665e-02,  2.1949e-02, -5.7601e-02,  6.6058e-02,  6.2659e-02,\n",
              "        -2.3857e-01,  2.1814e-01,  3.5357e-02,  5.8278e-02,  2.9945e-02,\n",
              "        -5.8357e-01, -4.5828e-01,  3.7643e-01, -2.3360e-01, -4.7988e-01,\n",
              "         2.3332e-02, -7.8055e-01, -6.1342e-01,  1.0708e-01, -2.0565e-01,\n",
              "        -5.1696e-01,  1.8102e-01, -1.1572e-01,  1.1512e-01,  8.2796e-02,\n",
              "         3.3040e-01,  8.2574e-02,  6.7707e-02, -1.3315e-01,  1.0304e-01,\n",
              "        -2.6982e-01, -1.5107e-01,  1.6085e-01,  1.3398e-01, -1.4511e-01,\n",
              "         3.8105e-01, -2.3087e-01,  4.9326e-01,  2.1123e-01,  6.5451e-01,\n",
              "        -8.8757e-02, -2.5123e-02,  1.6481e-01,  1.6618e-02,  1.6155e-01,\n",
              "         1.2796e-01,  1.5288e-01,  3.8793e-01,  1.1771e-01, -6.1634e-01,\n",
              "         4.0403e-01,  1.5335e-01, -1.1473e-02,  2.5661e-01, -2.8391e-01,\n",
              "         6.2990e-02,  1.5809e-01, -3.6982e-01, -5.3951e-01,  6.1494e-02,\n",
              "         5.7606e-02,  2.1143e-01, -2.5724e-02, -5.5239e-01,  2.8430e-01,\n",
              "        -1.0718e-01, -3.9040e-02, -5.1545e-01,  2.2876e-01, -3.5795e-01,\n",
              "        -6.4688e-01,  1.7101e-02,  3.2657e-01,  5.3937e-03,  3.2398e-01,\n",
              "        -5.0740e-02, -1.4482e-01, -2.7553e-01, -8.2193e-02, -1.5124e-01,\n",
              "        -1.7127e-01, -2.1929e-02, -5.0266e-02, -4.1089e-01, -1.9441e-01,\n",
              "        -2.4887e-01,  1.3576e-01,  2.0656e-01, -2.5807e-02, -1.7600e-01,\n",
              "         2.4834e-01, -1.4568e-01,  3.6888e-01,  2.5822e-01, -4.1735e-01,\n",
              "         7.6000e-01,  5.2001e-01, -2.3818e-01, -1.4678e-01, -1.7426e-01,\n",
              "        -4.5894e-02, -7.6009e-03,  5.0911e-02,  1.7709e-01, -4.7735e-01,\n",
              "         6.3527e-02,  5.8213e-01,  2.9788e-01,  4.1178e-01,  2.4711e-01,\n",
              "        -1.5703e-01, -4.9483e-01,  3.6515e-02,  4.5765e-02, -1.2877e-01,\n",
              "         1.5144e-01, -1.1621e-01, -5.4098e-01,  3.7376e-01, -3.7087e-01,\n",
              "        -3.1266e-02, -1.5100e-01, -5.2973e-02, -1.2856e-01,  8.3716e-02,\n",
              "         3.3637e-01, -1.0594e-01,  2.9834e-01,  2.5883e-01, -3.1137e-01,\n",
              "        -2.8799e-01,  3.6161e-01,  4.6633e-01,  9.2914e-02,  2.2915e-01,\n",
              "        -1.0327e-01, -2.6945e-01, -2.9287e-01, -5.8664e-01,  4.7593e-01,\n",
              "         8.6430e-02,  3.0539e-01,  2.6307e-01, -4.4625e-01, -2.0051e-01,\n",
              "        -2.0090e-01,  2.4297e-01,  1.2225e-01, -4.4064e-02,  2.2124e-01,\n",
              "         4.2334e-01,  3.1320e-02, -4.1109e-02,  2.1834e-01, -5.3061e-02,\n",
              "         2.7730e-01,  2.6581e-02, -1.4278e-02,  3.0254e-01,  1.7931e-01,\n",
              "        -1.3096e-01, -4.3337e-01, -1.6157e-02, -4.1017e-02, -3.6018e-01,\n",
              "         4.7034e-02, -2.5289e-01,  1.0260e-01,  1.2963e-01, -5.6955e-01,\n",
              "         6.6366e-02, -2.8104e-01, -2.1048e-01,  3.8648e-01,  4.8530e-01,\n",
              "         3.0767e-02,  2.7130e-01,  6.0827e-02, -1.2122e-01, -1.3440e-01,\n",
              "        -2.7341e-01, -3.0239e-01,  4.2333e-01,  9.7237e-02, -4.0619e-01,\n",
              "        -2.7792e-01, -8.8646e-02, -5.3187e-02,  7.9903e-02, -1.7162e-01,\n",
              "        -1.2268e-01,  2.8197e-01, -9.7369e-02, -1.6442e-01, -5.2764e-02,\n",
              "         3.1752e-01, -3.4684e-01,  3.1971e-01, -2.9887e-01, -5.4606e-01,\n",
              "        -3.0123e-01, -4.1169e-01,  2.9146e-01, -5.2500e-01,  4.3650e-01,\n",
              "        -3.5901e-03,  3.6723e-02, -9.6789e-02,  3.1088e-01,  6.8181e-01,\n",
              "         2.9370e-01, -1.8875e-01,  3.8186e-01, -1.5504e-01,  3.3314e-02,\n",
              "         5.5678e-02, -1.8406e-02,  1.8339e-02,  7.0077e-02,  2.2217e-02,\n",
              "        -8.3910e-02,  1.1090e-01, -1.1315e-01, -1.5108e-01,  3.3784e-01,\n",
              "        -3.7145e-03, -4.0431e-01,  4.6173e-01,  2.0686e-01, -4.2773e-01,\n",
              "        -4.2132e-01, -4.2569e-01,  1.6715e-01,  1.8505e-01, -1.7975e-01,\n",
              "        -1.4204e-01,  5.4281e-01,  3.1563e-01,  3.5779e-01,  2.1506e-01,\n",
              "         3.2225e-01, -2.5134e-01, -1.0887e-01, -2.8617e-01,  4.9117e-02,\n",
              "         2.4497e-01, -2.0363e-01, -2.2986e-01,  2.7349e-02,  4.7633e-02,\n",
              "        -2.6425e-01, -2.5492e-01,  5.2249e-01, -2.7629e-01, -1.0952e-01,\n",
              "         2.5810e-01,  5.7250e-01,  4.0527e-03, -7.3524e-02,  2.1522e-01,\n",
              "        -4.6967e-01, -2.9065e-01, -7.2782e-02,  4.2715e-02, -1.2581e-01,\n",
              "         4.0172e-01,  1.1230e-01,  1.3825e-01, -9.6876e-03, -4.6233e-01,\n",
              "         4.6547e-01,  1.4662e-01,  5.0337e-01,  1.1014e-01, -7.0179e-03,\n",
              "         1.5411e-02,  2.2192e-01,  2.8378e-01,  1.9589e-01, -6.5082e-02,\n",
              "        -6.0979e-01, -8.3282e-02,  4.6460e-02,  1.7212e-01,  1.2824e-01,\n",
              "        -4.7122e-01,  4.1187e-02,  1.6475e-02, -2.1615e-01,  3.5251e-02,\n",
              "        -4.3360e-01,  1.9995e-03, -4.6285e-01, -2.3160e-01,  5.1615e-01,\n",
              "        -6.4793e-01, -5.9043e-01,  1.1951e-01,  4.1837e-01,  4.7932e-01,\n",
              "         9.3551e-02,  2.7140e-01, -2.1140e-01, -2.2113e-01, -4.1514e-03,\n",
              "         2.6477e-01,  2.4730e-01,  4.2487e-02,  3.1143e-02,  2.3213e-01,\n",
              "        -2.1252e-01, -4.2554e-01, -2.4083e-01, -5.0271e-01, -1.6767e-01,\n",
              "         1.3731e-01,  5.5782e-01, -1.8949e-01,  3.9800e-01, -2.5927e-01,\n",
              "        -1.8192e-01, -2.5708e-01, -2.5801e-01, -3.8944e-01, -8.0665e-02,\n",
              "        -9.1326e-02, -1.9729e-01,  2.0799e-01, -5.4966e-01,  2.0364e-01,\n",
              "        -2.1182e-01, -2.3314e-01, -3.5134e-01,  3.8985e-01, -3.6485e-01,\n",
              "        -1.9518e-01, -3.7533e-01,  4.4893e-01, -4.8665e-01, -5.2769e-01,\n",
              "         3.0405e-01,  3.5594e-02,  2.6489e-01,  6.2230e-01, -9.0247e-02,\n",
              "         1.3761e-01,  1.5101e-01, -2.5334e-01, -4.6756e-02,  2.5886e-01,\n",
              "        -2.3912e-02, -3.6211e-01, -1.3362e-02,  3.3000e-02,  4.8236e-01,\n",
              "        -1.3641e-01,  3.3241e-01, -4.1457e-02,  4.2938e-02,  4.6448e-01,\n",
              "        -7.3095e-02, -7.9207e-03, -1.7779e-01,  1.0133e-01,  2.8624e-03,\n",
              "         2.7306e-01,  1.8051e-01, -6.2026e-02,  1.0835e-01, -5.3201e-01,\n",
              "         6.0025e-02, -9.9158e-02,  2.0352e-01, -4.9036e-02,  2.4997e-01,\n",
              "         7.1207e-02,  2.9264e-01, -2.4668e-01, -1.2714e-01,  2.7350e-01,\n",
              "        -1.6745e-01,  4.4912e-02, -2.3503e-01,  2.8415e-01,  8.1295e-02,\n",
              "        -8.0804e-01, -2.5989e-01,  6.7604e-02,  4.5245e-01, -2.0217e-01,\n",
              "         9.3772e-02, -2.1860e-01, -6.3290e-02,  3.7565e-01, -3.2425e-01,\n",
              "         2.0073e-02, -3.8572e-01,  2.5578e-01, -2.4583e-01,  3.9456e-01,\n",
              "        -2.1794e-01,  1.8755e-01,  2.2787e-02], grad_fn=<SelectBackward>)"
            ]
          },
          "metadata": {
            "tags": []
          },
          "execution_count": 89
        }
      ]
    },
    {
      "cell_type": "code",
      "metadata": {
        "id": "Mpy_Btu_Lij7"
      },
      "source": [
        "token_ids = tokenizer.convert_tokens_to_ids(tokens)\n",
        "print(token_ids)\n",
        "\n",
        "token_ids = torch.tensor(token_ids).unsqueeze(0)\n",
        "attention_mask = torch.tensor(attention_mask).unsqueeze(0)"
      ],
      "execution_count": null,
      "outputs": []
    },
    {
      "cell_type": "code",
      "metadata": {
        "id": "ze_2g1UTLxtJ"
      },
      "source": [
        "last_hidden_state, pooler_output, hidden_states = model(token_ids, attention_mask = attention_mask)"
      ],
      "execution_count": null,
      "outputs": []
    },
    {
      "cell_type": "code",
      "metadata": {
        "colab": {
          "base_uri": "https://localhost:8080/"
        },
        "id": "O9qcqTUxL7Y9",
        "outputId": "9c5a1a87-c7d8-43d6-fecd-edef3aeb016e"
      },
      "source": [
        "print(last_hidden_state.shape)"
      ],
      "execution_count": null,
      "outputs": [
        {
          "output_type": "stream",
          "text": [
            "torch.Size([1, 7, 768])\n"
          ],
          "name": "stdout"
        }
      ]
    },
    {
      "cell_type": "code",
      "metadata": {
        "colab": {
          "base_uri": "https://localhost:8080/"
        },
        "id": "Qli9IabRQQ1c",
        "outputId": "69b4c937-7732-416e-c0a6-5b2d8a6cd9c7"
      },
      "source": [
        "print(len(hidden_states))"
      ],
      "execution_count": null,
      "outputs": [
        {
          "output_type": "stream",
          "text": [
            "13\n"
          ],
          "name": "stdout"
        }
      ]
    },
    {
      "cell_type": "code",
      "metadata": {
        "colab": {
          "base_uri": "https://localhost:8080/"
        },
        "id": "Se604eiLMJ7z",
        "outputId": "e81b21d4-3859-4bc9-d04e-727a2efb528f"
      },
      "source": [
        "hidden_states[12].shape"
      ],
      "execution_count": null,
      "outputs": [
        {
          "output_type": "execute_result",
          "data": {
            "text/plain": [
              "torch.Size([1, 7, 768])"
            ]
          },
          "metadata": {
            "tags": []
          },
          "execution_count": 80
        }
      ]
    },
    {
      "cell_type": "code",
      "metadata": {
        "colab": {
          "base_uri": "https://localhost:8080/"
        },
        "id": "PWleZx7JMWTq",
        "outputId": "03b21a13-9b4e-4a46-b381-c9479b6150c3"
      },
      "source": [
        "\n",
        "pooler_output.shape"
      ],
      "execution_count": null,
      "outputs": [
        {
          "output_type": "execute_result",
          "data": {
            "text/plain": [
              "torch.Size([1, 768])"
            ]
          },
          "metadata": {
            "tags": []
          },
          "execution_count": 77
        }
      ]
    },
    {
      "cell_type": "code",
      "metadata": {
        "colab": {
          "base_uri": "https://localhost:8080/"
        },
        "id": "i5EKrEGLM2mc",
        "outputId": "4caa6e59-ea0f-4ac7-c20c-c9722f2ff1f1"
      },
      "source": [
        "pooler_output"
      ],
      "execution_count": null,
      "outputs": [
        {
          "output_type": "execute_result",
          "data": {
            "text/plain": [
              "tensor([[-9.0660e-01, -3.4189e-01, -3.3729e-01,  7.7140e-01,  6.0975e-02,\n",
              "         -1.0525e-01,  9.0143e-01,  2.5822e-01, -2.7881e-01, -9.9997e-01,\n",
              "         -1.0322e-01,  7.4772e-01,  9.8521e-01,  5.9799e-02,  9.4447e-01,\n",
              "         -5.9859e-01, -2.0539e-01, -5.7386e-01,  3.7684e-01, -7.5183e-01,\n",
              "          6.6604e-01,  9.9584e-01,  4.2231e-01,  2.2824e-01,  4.9139e-01,\n",
              "          9.2378e-01, -6.6123e-01,  9.3111e-01,  9.6157e-01,  6.8816e-01,\n",
              "         -6.7706e-01,  1.2696e-01, -9.8735e-01, -1.3884e-01, -4.2742e-01,\n",
              "         -9.9151e-01,  3.1577e-01, -7.9245e-01,  1.1233e-01,  2.5441e-02,\n",
              "         -9.0001e-01,  2.9572e-01,  9.9972e-01,  2.9506e-02,  9.4610e-02,\n",
              "         -2.3375e-01, -1.0000e+00,  2.1042e-01, -8.8451e-01,  4.4717e-01,\n",
              "          2.8363e-01,  2.3094e-01,  1.6396e-01,  4.6484e-01,  4.1578e-01,\n",
              "          1.0880e-01, -6.9020e-02,  1.0251e-01, -1.8506e-01, -5.5142e-01,\n",
              "         -5.4772e-01,  3.2660e-01, -4.7119e-01, -9.0760e-01,  4.0407e-01,\n",
              "          8.4487e-03, -5.0541e-02, -2.2187e-01, -3.5096e-02, -1.5909e-01,\n",
              "          8.6302e-01,  2.0347e-01,  2.2685e-01, -8.1223e-01,  8.9116e-02,\n",
              "          1.9976e-01, -5.3915e-01,  1.0000e+00, -5.2943e-01, -9.8107e-01,\n",
              "          1.2214e-01,  1.7052e-01,  4.4200e-01,  2.9078e-01, -2.2429e-01,\n",
              "         -1.0000e+00,  4.5435e-01, -1.0752e-01, -9.8928e-01,  1.9557e-01,\n",
              "          3.7944e-01, -1.3400e-01, -3.7233e-01,  4.8776e-01, -2.7150e-01,\n",
              "         -2.9951e-01, -2.5372e-01, -3.0055e-01, -1.6436e-01, -2.0432e-01,\n",
              "          4.5898e-02, -1.5984e-01, -6.8892e-02, -2.8614e-01,  2.0454e-01,\n",
              "         -4.2329e-01, -6.0077e-01,  2.4896e-01, -2.7211e-01,  6.3257e-01,\n",
              "          2.8514e-01, -2.4841e-01,  3.5746e-01, -9.6110e-01,  6.6496e-01,\n",
              "         -2.5975e-01, -9.8228e-01, -5.0323e-01, -9.8950e-01,  7.1751e-01,\n",
              "          3.3975e-02, -1.6794e-01,  9.6757e-01,  3.7200e-01,  2.8462e-01,\n",
              "         -2.2425e-02, -3.7636e-01, -1.0000e+00, -5.5433e-01, -1.5097e-01,\n",
              "          1.1861e-01, -2.0500e-01, -9.7818e-01, -9.4408e-01,  6.0784e-01,\n",
              "          9.5020e-01,  9.3145e-02,  9.9944e-01, -3.1656e-01,  9.3937e-01,\n",
              "          1.0257e-02, -3.0524e-01,  1.3859e-01, -4.5599e-01,  4.7351e-01,\n",
              "          3.6347e-01, -7.3368e-01,  1.5255e-01, -4.4811e-02,  2.6415e-01,\n",
              "         -2.6249e-01, -2.5647e-01, -1.9468e-01, -9.3597e-01, -3.6595e-01,\n",
              "          9.4583e-01, -6.5554e-02, -4.0124e-01,  5.3403e-01, -2.8004e-01,\n",
              "         -3.8514e-01,  8.5284e-01,  3.8798e-01,  3.1723e-01, -9.4208e-02,\n",
              "          4.4104e-01, -1.2676e-01,  5.5534e-01, -8.1261e-01,  1.4222e-02,\n",
              "          4.3945e-01, -2.3209e-01, -1.5538e-01, -9.8027e-01, -3.1189e-01,\n",
              "          4.7667e-01,  9.8781e-01,  7.5918e-01,  2.3170e-01,  5.0506e-01,\n",
              "         -1.5959e-01,  5.4271e-01, -9.5258e-01,  9.7944e-01, -2.4452e-01,\n",
              "          2.3859e-01,  4.9278e-01,  1.4287e-01, -8.5605e-01, -3.0050e-01,\n",
              "          8.2882e-01, -5.1995e-01, -8.5260e-01,  8.5933e-02, -4.4540e-01,\n",
              "         -3.9270e-01, -1.5281e-01,  5.1311e-01, -2.6343e-01, -3.6877e-01,\n",
              "          2.9660e-02,  9.0136e-01,  9.7166e-01,  8.2276e-01, -3.7987e-01,\n",
              "          6.0987e-01, -9.1858e-01, -4.1369e-01,  8.5552e-02,  2.2591e-01,\n",
              "          1.2908e-01,  9.9388e-01, -5.4386e-02, -1.7653e-01, -9.3923e-01,\n",
              "         -9.8710e-01, -5.6532e-02, -9.0781e-01, -3.8273e-02, -6.4293e-01,\n",
              "          4.0239e-01,  4.5160e-01,  1.6601e-01,  4.0908e-01, -9.9176e-01,\n",
              "         -7.7417e-01,  3.3418e-01, -3.0262e-01,  4.0393e-01, -2.2568e-01,\n",
              "          3.4403e-01,  6.5064e-01, -5.2289e-01,  7.9253e-01,  8.5089e-01,\n",
              "         -9.9031e-02, -6.6476e-01,  8.4785e-01, -2.3960e-01,  8.9095e-01,\n",
              "         -6.0081e-01,  9.8772e-01,  5.2637e-01,  7.1539e-01, -9.4382e-01,\n",
              "         -2.6945e-02, -8.9317e-01, -2.5833e-01, -5.0681e-02, -4.4805e-01,\n",
              "          4.6222e-01,  4.8956e-01,  3.5595e-01,  7.6262e-01, -6.2524e-01,\n",
              "          9.9796e-01, -3.9808e-01, -9.5422e-01,  2.1079e-01, -2.4096e-01,\n",
              "         -9.8628e-01,  4.0970e-01,  2.0490e-01, -4.3229e-01, -3.5297e-01,\n",
              "         -4.6596e-01, -9.5645e-01,  9.1401e-01,  7.0786e-02,  9.9075e-01,\n",
              "          6.7400e-03, -9.3715e-01, -4.8485e-01, -9.1042e-01, -2.1888e-01,\n",
              "         -1.3952e-01,  3.0265e-01, -2.1077e-01, -9.6109e-01,  4.5869e-01,\n",
              "          4.8165e-01,  4.8832e-01, -1.0897e-01,  9.9831e-01,  9.9998e-01,\n",
              "          9.7482e-01,  8.9820e-01,  9.0949e-01, -9.8556e-01, -2.5522e-01,\n",
              "          9.9999e-01, -9.0774e-01, -1.0000e+00, -9.2744e-01, -5.5746e-01,\n",
              "          2.4192e-01, -1.0000e+00, -3.7209e-02,  5.3762e-02, -9.2917e-01,\n",
              "         -1.7546e-02,  9.8157e-01,  9.9313e-01, -1.0000e+00,  8.6012e-01,\n",
              "          9.4574e-01, -5.6222e-01,  7.5814e-01, -2.3953e-01,  9.7340e-01,\n",
              "          3.6503e-01,  2.8978e-01, -2.3095e-01,  3.4518e-01, -4.6773e-01,\n",
              "         -8.5951e-01,  4.7867e-02, -9.3611e-02,  9.0046e-01,  9.4787e-02,\n",
              "         -7.3987e-01, -9.4770e-01,  1.3531e-01, -1.3985e-01, -2.2744e-01,\n",
              "         -9.6028e-01, -7.6159e-02,  2.8726e-01,  7.1045e-01,  8.1054e-02,\n",
              "          2.3858e-01, -7.8597e-01,  1.9432e-01, -6.5189e-01,  4.5484e-01,\n",
              "          5.9485e-01, -9.5303e-01, -6.7571e-01, -1.6829e-01, -2.6858e-01,\n",
              "         -1.8851e-02, -9.3974e-01,  9.7244e-01, -4.1418e-01,  5.5397e-01,\n",
              "          1.0000e+00,  6.7240e-02, -9.0357e-01,  3.8333e-01,  1.7075e-01,\n",
              "          9.1031e-02,  1.0000e+00,  6.6256e-01, -9.7822e-01, -4.7003e-01,\n",
              "          4.8857e-01, -4.7954e-01, -4.4943e-01,  9.9902e-01, -2.4455e-01,\n",
              "          2.7924e-02,  2.6862e-01,  9.7364e-01, -9.9015e-01,  8.2752e-01,\n",
              "         -9.1195e-01, -9.6930e-01,  9.6406e-01,  9.3691e-01, -3.6014e-01,\n",
              "         -7.0250e-01,  1.0417e-01, -1.8180e-01,  2.3008e-01, -9.6799e-01,\n",
              "          6.9217e-01,  4.2966e-01, -1.0165e-01,  9.0773e-01, -8.7691e-01,\n",
              "         -4.3018e-01,  3.5562e-01, -2.2115e-01,  1.6860e-01,  4.9965e-01,\n",
              "          5.1945e-01, -1.8539e-01,  1.0172e-01, -2.1061e-01,  3.3855e-03,\n",
              "         -9.7327e-01,  1.3324e-01,  1.0000e+00, -7.5041e-02,  3.6616e-02,\n",
              "         -3.9262e-01, -6.5351e-03, -2.7287e-01,  3.9574e-01,  3.9382e-01,\n",
              "         -3.0707e-01, -8.4807e-01,  3.8420e-01, -9.5470e-01, -9.8489e-01,\n",
              "          7.6798e-01,  1.4348e-01, -2.8546e-01,  9.9994e-01,  4.1162e-01,\n",
              "          1.6070e-01,  1.2186e-01,  8.2578e-01, -5.7293e-02,  5.6674e-01,\n",
              "          1.8886e-01,  9.7533e-01, -1.4569e-01,  4.8805e-01,  8.5755e-01,\n",
              "         -4.0104e-01, -2.8342e-01, -6.4264e-01, -5.3019e-03, -9.0426e-01,\n",
              "          6.8657e-03, -9.5985e-01,  9.6273e-01,  5.4771e-01,  2.7272e-01,\n",
              "          1.1672e-01,  1.8696e-01,  1.0000e+00,  1.3563e-01,  5.7521e-01,\n",
              "         -5.4665e-01,  8.8256e-01, -9.7980e-01, -8.2186e-01, -3.9412e-01,\n",
              "          6.9253e-02, -2.4739e-01, -2.4468e-01,  2.2320e-01, -9.7092e-01,\n",
              "          1.6613e-01,  2.7089e-01, -9.8789e-01, -9.9264e-01,  1.4982e-01,\n",
              "          7.7813e-01,  7.5834e-02, -7.5816e-01, -6.9681e-01, -5.4449e-01,\n",
              "          4.2848e-01, -2.6814e-01, -9.4467e-01,  2.8672e-01, -1.7200e-01,\n",
              "          4.9967e-01, -1.7855e-01,  4.6067e-01,  1.0443e-01,  8.0958e-01,\n",
              "          3.0960e-01,  1.1103e-01,  2.0682e-02, -7.7644e-01,  7.9258e-01,\n",
              "         -8.3320e-01, -4.5220e-01, -9.7233e-02,  1.0000e+00, -4.7325e-01,\n",
              "          2.6074e-01,  7.4868e-01,  7.9047e-01, -1.2065e-01,  1.6631e-01,\n",
              "          4.3811e-01,  1.9812e-01, -1.2818e-01, -1.4429e-01, -7.9943e-01,\n",
              "         -3.4779e-01,  5.3907e-01, -2.8876e-01, -1.2784e-01,  7.8907e-01,\n",
              "          2.7644e-01,  1.2553e-01,  9.6568e-02, -8.6046e-04,  9.9958e-01,\n",
              "         -2.4824e-01, -1.9148e-01, -4.8891e-01,  3.5458e-02, -3.5075e-01,\n",
              "         -4.9195e-01,  1.0000e+00,  3.1492e-01,  1.3190e-01, -9.9190e-01,\n",
              "         -2.3020e-01, -9.1818e-01,  9.9990e-01,  8.1607e-01, -8.3672e-01,\n",
              "          5.7710e-01,  5.4205e-01, -6.0926e-02,  8.1453e-01, -1.8440e-01,\n",
              "         -1.1731e-01,  2.2679e-01,  4.9845e-02,  9.6623e-01, -4.2748e-01,\n",
              "         -9.6389e-01, -5.0603e-01,  3.6750e-01, -9.6186e-01,  9.8817e-01,\n",
              "         -4.9461e-01, -1.6667e-01, -2.8972e-01,  5.0912e-02,  7.1987e-01,\n",
              "          3.2723e-02, -9.8163e-01, -1.8460e-01,  2.4921e-02,  9.6903e-01,\n",
              "          1.4459e-01, -5.1089e-01, -9.1297e-01,  1.9776e-01,  3.1596e-01,\n",
              "         -3.4459e-01, -9.5039e-01,  9.7347e-01, -9.8541e-01,  5.6550e-01,\n",
              "          1.0000e+00,  1.6803e-01, -5.2763e-01,  1.7335e-01, -3.5292e-01,\n",
              "          2.4425e-01, -1.6082e-01,  5.5743e-01, -9.5780e-01, -2.7111e-01,\n",
              "         -1.5769e-01,  3.2735e-01, -1.9443e-01,  5.6069e-02,  7.1469e-01,\n",
              "          1.4012e-01, -4.5109e-01, -5.5167e-01, -5.8711e-02,  4.0066e-01,\n",
              "          8.0510e-01, -2.4921e-01, -1.1596e-01,  8.1007e-02, -6.8707e-02,\n",
              "         -9.5142e-01, -3.0857e-01, -3.3517e-01, -9.9849e-01,  5.8358e-01,\n",
              "         -1.0000e+00, -1.7751e-02, -3.8238e-01, -2.0135e-01,  8.2339e-01,\n",
              "          7.3314e-02,  2.2555e-01, -7.3748e-01, -1.5620e-01,  7.2231e-01,\n",
              "          7.8650e-01, -2.6355e-01, -2.3780e-01, -7.5355e-01,  2.1576e-01,\n",
              "          3.3273e-03,  3.2797e-01, -1.6445e-01,  7.0653e-01, -1.6586e-01,\n",
              "          1.0000e+00,  3.6853e-02, -5.5209e-01, -9.7956e-01,  2.1084e-01,\n",
              "         -2.2580e-01,  9.9999e-01, -9.0543e-01, -9.5194e-01,  3.5803e-01,\n",
              "         -5.4486e-01, -8.3170e-01,  2.0722e-01, -1.1187e-01, -7.1528e-01,\n",
              "         -6.5816e-01,  9.5457e-01,  8.6705e-01, -4.6680e-01,  4.5275e-01,\n",
              "         -2.8203e-01, -5.2516e-01,  2.4673e-02,  2.3666e-01,  9.8751e-01,\n",
              "          1.6960e-01,  9.1254e-01,  3.8521e-01, -5.2773e-02,  9.6522e-01,\n",
              "          2.1477e-01,  6.8869e-01,  1.3420e-01,  1.0000e+00,  2.5379e-01,\n",
              "         -9.1662e-01,  1.8445e-01, -9.8539e-01, -1.7379e-01, -9.5886e-01,\n",
              "          2.4864e-01,  1.0564e-01,  8.8982e-01, -1.9566e-01,  9.6709e-01,\n",
              "         -1.6387e-01,  6.2168e-02, -3.2527e-01,  2.9287e-01,  3.6544e-01,\n",
              "         -9.2183e-01, -9.8603e-01, -9.8862e-01,  5.1165e-01, -4.1985e-01,\n",
              "         -5.2828e-02,  2.2914e-01,  1.5558e-01,  3.7237e-01,  4.2995e-01,\n",
              "         -1.0000e+00,  9.4092e-01,  3.5116e-01,  2.6950e-01,  9.6724e-01,\n",
              "          5.0886e-01,  4.4842e-01,  1.9517e-01, -9.8747e-01, -9.7901e-01,\n",
              "         -3.3062e-01, -2.0128e-01,  7.6804e-01,  6.3693e-01,  8.5249e-01,\n",
              "          4.2277e-01, -4.5014e-01, -8.7409e-02,  2.3122e-01, -4.1254e-01,\n",
              "         -9.9309e-01,  3.7523e-01, -9.7383e-02, -9.7192e-01,  9.5663e-01,\n",
              "         -3.8314e-01, -9.1959e-02,  3.2168e-01, -2.1238e-01,  9.5619e-01,\n",
              "          8.0648e-01,  4.8650e-01,  1.0678e-01,  4.6444e-01,  9.2019e-01,\n",
              "          9.4756e-01,  9.8960e-01, -3.1468e-01,  7.9191e-01, -2.3371e-01,\n",
              "          4.0808e-01,  4.0834e-01, -9.2244e-01,  8.3447e-02,  1.1936e-01,\n",
              "         -1.6753e-01,  2.4999e-01, -1.7787e-01, -9.7539e-01,  4.0304e-01,\n",
              "         -2.3984e-01,  4.3153e-01, -4.0423e-01,  1.3859e-01, -3.7546e-01,\n",
              "         -1.1792e-01, -6.6992e-01, -5.7544e-01,  5.6841e-01,  2.7722e-01,\n",
              "          9.1280e-01,  5.2105e-01, -2.5549e-02, -7.2245e-01, -2.0173e-01,\n",
              "         -3.1763e-02, -9.1190e-01,  9.3950e-01, -5.4791e-02,  2.3775e-01,\n",
              "         -9.2643e-02, -5.8986e-02,  5.5153e-01, -1.7753e-01, -3.7412e-01,\n",
              "         -3.0714e-01, -7.3179e-01,  8.9369e-01, -1.9860e-01, -4.5436e-01,\n",
              "         -5.1354e-01,  7.0488e-01,  2.6542e-01,  9.9715e-01, -1.5817e-01,\n",
              "         -5.1730e-01, -2.4476e-01, -2.4036e-01,  2.6017e-01, -2.8945e-01,\n",
              "         -1.0000e+00,  4.2029e-01, -1.4138e-01,  2.0229e-01, -2.8328e-01,\n",
              "          1.8165e-01, -3.3790e-01, -9.8112e-01, -1.1746e-01,  4.8850e-02,\n",
              "          9.2831e-02, -4.8529e-01, -6.1237e-01,  5.2537e-01, -2.1332e-01,\n",
              "          7.9100e-01,  8.9052e-01,  2.9390e-02,  5.8748e-01,  5.7159e-01,\n",
              "          8.0725e-02, -6.6481e-01,  9.1761e-01]], grad_fn=<TanhBackward>)"
            ]
          },
          "metadata": {
            "tags": []
          },
          "execution_count": 79
        }
      ]
    },
    {
      "cell_type": "code",
      "metadata": {
        "colab": {
          "base_uri": "https://localhost:8080/"
        },
        "id": "KhhIi1x4Ydfw",
        "outputId": "dc5fc5e0-c4e5-48a6-88b7-fc4d14b2122a"
      },
      "source": [
        "!pip install nlp\n",
        "!pip install transformers"
      ],
      "execution_count": null,
      "outputs": [
        {
          "output_type": "stream",
          "text": [
            "Requirement already satisfied: nlp in /usr/local/lib/python3.7/dist-packages (0.4.0)\n",
            "Requirement already satisfied: pyarrow>=0.16.0 in /usr/local/lib/python3.7/dist-packages (from nlp) (3.0.0)\n",
            "Requirement already satisfied: filelock in /usr/local/lib/python3.7/dist-packages (from nlp) (3.0.12)\n",
            "Requirement already satisfied: xxhash in /usr/local/lib/python3.7/dist-packages (from nlp) (2.0.2)\n",
            "Requirement already satisfied: pandas in /usr/local/lib/python3.7/dist-packages (from nlp) (1.1.5)\n",
            "Requirement already satisfied: dill in /usr/local/lib/python3.7/dist-packages (from nlp) (0.3.4)\n",
            "Requirement already satisfied: numpy in /usr/local/lib/python3.7/dist-packages (from nlp) (1.19.5)\n",
            "Requirement already satisfied: tqdm>=4.27 in /usr/local/lib/python3.7/dist-packages (from nlp) (4.41.1)\n",
            "Requirement already satisfied: requests>=2.19.0 in /usr/local/lib/python3.7/dist-packages (from nlp) (2.23.0)\n",
            "Requirement already satisfied: pytz>=2017.2 in /usr/local/lib/python3.7/dist-packages (from pandas->nlp) (2018.9)\n",
            "Requirement already satisfied: python-dateutil>=2.7.3 in /usr/local/lib/python3.7/dist-packages (from pandas->nlp) (2.8.1)\n",
            "Requirement already satisfied: idna<3,>=2.5 in /usr/local/lib/python3.7/dist-packages (from requests>=2.19.0->nlp) (2.10)\n",
            "Requirement already satisfied: urllib3!=1.25.0,!=1.25.1,<1.26,>=1.21.1 in /usr/local/lib/python3.7/dist-packages (from requests>=2.19.0->nlp) (1.24.3)\n",
            "Requirement already satisfied: certifi>=2017.4.17 in /usr/local/lib/python3.7/dist-packages (from requests>=2.19.0->nlp) (2021.5.30)\n",
            "Requirement already satisfied: chardet<4,>=3.0.2 in /usr/local/lib/python3.7/dist-packages (from requests>=2.19.0->nlp) (3.0.4)\n",
            "Requirement already satisfied: six>=1.5 in /usr/local/lib/python3.7/dist-packages (from python-dateutil>=2.7.3->pandas->nlp) (1.15.0)\n",
            "Collecting transformers\n",
            "\u001b[?25l  Downloading https://files.pythonhosted.org/packages/b5/d5/c6c23ad75491467a9a84e526ef2364e523d45e2b0fae28a7cbe8689e7e84/transformers-4.8.1-py3-none-any.whl (2.5MB)\n",
            "\u001b[K     |████████████████████████████████| 2.5MB 9.0MB/s \n",
            "\u001b[?25hRequirement already satisfied: importlib-metadata; python_version < \"3.8\" in /usr/local/lib/python3.7/dist-packages (from transformers) (4.5.0)\n",
            "Requirement already satisfied: numpy>=1.17 in /usr/local/lib/python3.7/dist-packages (from transformers) (1.19.5)\n",
            "Requirement already satisfied: packaging in /usr/local/lib/python3.7/dist-packages (from transformers) (20.9)\n",
            "Requirement already satisfied: regex!=2019.12.17 in /usr/local/lib/python3.7/dist-packages (from transformers) (2019.12.20)\n",
            "Requirement already satisfied: pyyaml in /usr/local/lib/python3.7/dist-packages (from transformers) (3.13)\n",
            "Collecting tokenizers<0.11,>=0.10.1\n",
            "\u001b[?25l  Downloading https://files.pythonhosted.org/packages/d4/e2/df3543e8ffdab68f5acc73f613de9c2b155ac47f162e725dcac87c521c11/tokenizers-0.10.3-cp37-cp37m-manylinux_2_5_x86_64.manylinux1_x86_64.manylinux_2_12_x86_64.manylinux2010_x86_64.whl (3.3MB)\n",
            "\u001b[K     |████████████████████████████████| 3.3MB 39.3MB/s \n",
            "\u001b[?25hCollecting sacremoses\n",
            "\u001b[?25l  Downloading https://files.pythonhosted.org/packages/75/ee/67241dc87f266093c533a2d4d3d69438e57d7a90abb216fa076e7d475d4a/sacremoses-0.0.45-py3-none-any.whl (895kB)\n",
            "\u001b[K     |████████████████████████████████| 901kB 47.1MB/s \n",
            "\u001b[?25hRequirement already satisfied: requests in /usr/local/lib/python3.7/dist-packages (from transformers) (2.23.0)\n",
            "Requirement already satisfied: tqdm>=4.27 in /usr/local/lib/python3.7/dist-packages (from transformers) (4.41.1)\n",
            "Collecting huggingface-hub==0.0.12\n",
            "  Downloading https://files.pythonhosted.org/packages/2f/ee/97e253668fda9b17e968b3f97b2f8e53aa0127e8807d24a547687423fe0b/huggingface_hub-0.0.12-py3-none-any.whl\n",
            "Requirement already satisfied: filelock in /usr/local/lib/python3.7/dist-packages (from transformers) (3.0.12)\n",
            "Requirement already satisfied: zipp>=0.5 in /usr/local/lib/python3.7/dist-packages (from importlib-metadata; python_version < \"3.8\"->transformers) (3.4.1)\n",
            "Requirement already satisfied: typing-extensions>=3.6.4; python_version < \"3.8\" in /usr/local/lib/python3.7/dist-packages (from importlib-metadata; python_version < \"3.8\"->transformers) (3.7.4.3)\n",
            "Requirement already satisfied: pyparsing>=2.0.2 in /usr/local/lib/python3.7/dist-packages (from packaging->transformers) (2.4.7)\n",
            "Requirement already satisfied: click in /usr/local/lib/python3.7/dist-packages (from sacremoses->transformers) (7.1.2)\n",
            "Requirement already satisfied: joblib in /usr/local/lib/python3.7/dist-packages (from sacremoses->transformers) (1.0.1)\n",
            "Requirement already satisfied: six in /usr/local/lib/python3.7/dist-packages (from sacremoses->transformers) (1.15.0)\n",
            "Requirement already satisfied: idna<3,>=2.5 in /usr/local/lib/python3.7/dist-packages (from requests->transformers) (2.10)\n",
            "Requirement already satisfied: certifi>=2017.4.17 in /usr/local/lib/python3.7/dist-packages (from requests->transformers) (2021.5.30)\n",
            "Requirement already satisfied: chardet<4,>=3.0.2 in /usr/local/lib/python3.7/dist-packages (from requests->transformers) (3.0.4)\n",
            "Requirement already satisfied: urllib3!=1.25.0,!=1.25.1,<1.26,>=1.21.1 in /usr/local/lib/python3.7/dist-packages (from requests->transformers) (1.24.3)\n",
            "Installing collected packages: tokenizers, sacremoses, huggingface-hub, transformers\n",
            "Successfully installed huggingface-hub-0.0.12 sacremoses-0.0.45 tokenizers-0.10.3 transformers-4.8.1\n"
          ],
          "name": "stdout"
        }
      ]
    },
    {
      "cell_type": "code",
      "metadata": {
        "id": "ecdYs7eqfW1b"
      },
      "source": [
        "from transformers import BertForSequenceClassification, BertTokenizerFast, Trainer, TrainingArguments\n",
        "from nlp import load_dataset\n",
        "import torch\n",
        "import numpy as np"
      ],
      "execution_count": null,
      "outputs": []
    },
    {
      "cell_type": "code",
      "metadata": {
        "colab": {
          "base_uri": "https://localhost:8080/",
          "height": 36
        },
        "id": "JPpDFuUDihKx",
        "outputId": "a6d552f3-a984-4ee1-dc2a-239eac64c206"
      },
      "source": [
        "torch.__version__"
      ],
      "execution_count": null,
      "outputs": [
        {
          "output_type": "execute_result",
          "data": {
            "application/vnd.google.colaboratory.intrinsic+json": {
              "type": "string"
            },
            "text/plain": [
              "'1.9.0+cu102'"
            ]
          },
          "metadata": {
            "tags": []
          },
          "execution_count": 6
        }
      ]
    },
    {
      "cell_type": "code",
      "metadata": {
        "colab": {
          "base_uri": "https://localhost:8080/"
        },
        "id": "IPMAuOM_fasz",
        "outputId": "80767863-2ee7-4150-9a11-929a5fbe73c0"
      },
      "source": [
        "!gdown https://drive.google.com/uc?id=11_M4ootuT7I1G0RlihcC0cA3Elqotlc-\n",
        "dataset = load_dataset('csv', data_files='./imdbs.csv', split='train')"
      ],
      "execution_count": null,
      "outputs": [
        {
          "output_type": "stream",
          "text": [
            "Downloading...\n",
            "From: https://drive.google.com/uc?id=11_M4ootuT7I1G0RlihcC0cA3Elqotlc-\n",
            "To: /content/imdbs.csv\n",
            "\r  0% 0.00/132k [00:00<?, ?B/s]\r100% 132k/132k [00:00<00:00, 47.8MB/s]\n"
          ],
          "name": "stdout"
        },
        {
          "output_type": "stream",
          "text": [
            "Using custom data configuration default\n"
          ],
          "name": "stderr"
        }
      ]
    },
    {
      "cell_type": "code",
      "metadata": {
        "colab": {
          "base_uri": "https://localhost:8080/"
        },
        "id": "yIZ9NgJHnT2y",
        "outputId": "e97d4b29-b26c-4cc0-f2f6-58fc36960cb7"
      },
      "source": [
        "type(dataset)"
      ],
      "execution_count": null,
      "outputs": [
        {
          "output_type": "execute_result",
          "data": {
            "text/plain": [
              "nlp.arrow_dataset.Dataset"
            ]
          },
          "metadata": {
            "tags": []
          },
          "execution_count": 40
        }
      ]
    },
    {
      "cell_type": "code",
      "metadata": {
        "colab": {
          "base_uri": "https://localhost:8080/",
          "height": 118,
          "referenced_widgets": [
            "cca3fe6a74b74aedb5f55f293c64c2f8",
            "171f43c6b38840cc9d695d40ba0364d7",
            "88766ff10e9446cebd1b47c9fe15f4f7",
            "9681245740914890b7f8048e4dfa9509",
            "ec32f9bb5c13448d9b6071b29e67b87e",
            "9818a81d70e64df8bcb3112af55aacc8",
            "80fedfc0c1544bf287a355dff072d363",
            "5b1c17166be4407297ecb903c3826c9a",
            "c94fbb9c07bb489e96178620d3d207c2",
            "ea3335603fa043a5ad9f8e069a3486ec",
            "ab3fa4fafe81499a89616217b7a23050",
            "05dd3a568d5b41c8942811e2112bf0ba",
            "d2524794a2b74ba7ab44982b760900ae",
            "6a7ccc78ae4941b1ba557f4476150b97",
            "228e929a8f004f60a2ebff1a2d5eb8d4",
            "11361abae845405c8618dca419a6b5de"
          ]
        },
        "id": "ZS2_-zf7fnBM",
        "outputId": "b6bb6dde-9bcc-49f4-9cac-ae12ace701c9"
      },
      "source": [
        "dataset = dataset.train_test_split(test_size=0.3)"
      ],
      "execution_count": null,
      "outputs": [
        {
          "output_type": "display_data",
          "data": {
            "application/vnd.jupyter.widget-view+json": {
              "model_id": "cca3fe6a74b74aedb5f55f293c64c2f8",
              "version_minor": 0,
              "version_major": 2
            },
            "text/plain": [
              "HBox(children=(FloatProgress(value=0.0, max=1.0), HTML(value='')))"
            ]
          },
          "metadata": {
            "tags": []
          }
        },
        {
          "output_type": "stream",
          "text": [
            "\n"
          ],
          "name": "stdout"
        },
        {
          "output_type": "display_data",
          "data": {
            "application/vnd.jupyter.widget-view+json": {
              "model_id": "c94fbb9c07bb489e96178620d3d207c2",
              "version_minor": 0,
              "version_major": 2
            },
            "text/plain": [
              "HBox(children=(FloatProgress(value=0.0, max=1.0), HTML(value='')))"
            ]
          },
          "metadata": {
            "tags": []
          }
        },
        {
          "output_type": "stream",
          "text": [
            "\n"
          ],
          "name": "stdout"
        }
      ]
    },
    {
      "cell_type": "code",
      "metadata": {
        "colab": {
          "base_uri": "https://localhost:8080/"
        },
        "id": "lO_ZjZLEfr1z",
        "outputId": "cd9a7232-62a7-482e-dd36-a44b409b25c7"
      },
      "source": [
        "type(dataset)"
      ],
      "execution_count": null,
      "outputs": [
        {
          "output_type": "execute_result",
          "data": {
            "text/plain": [
              "nlp.dataset_dict.DatasetDict"
            ]
          },
          "metadata": {
            "tags": []
          },
          "execution_count": 38
        }
      ]
    },
    {
      "cell_type": "code",
      "metadata": {
        "id": "K811Bz-2fy-z"
      },
      "source": [
        "train_set = dataset['train']\n",
        "test_set = dataset['test']"
      ],
      "execution_count": null,
      "outputs": []
    },
    {
      "cell_type": "code",
      "metadata": {
        "colab": {
          "base_uri": "https://localhost:8080/",
          "height": 232,
          "referenced_widgets": [
            "9ff9a323bbea4ce8addb5d7710c27919",
            "2e59534ea190445f8a369402a71079c0",
            "5ce8688004344ad4ac12f81a628279f9",
            "c9756153192a4bb8979f73ff04d0a488",
            "40577e8921804d53956181cc37dbc70d",
            "3503f7b6da9e4c0883eb4488852f3691",
            "e2a54736a5d744d89939ee225d4f7432",
            "fda6ca6291bf48e9b56353e8f215ea41",
            "b5567c0bbfa346c1a8a6c3c13591e634",
            "c309ff2f54aa42ca8a4d07c38b711b6a",
            "c05749853d4a41b28338a8cff6797dcd",
            "79f117a00e8345c6b67b27cafcb9fcd2",
            "878d517cd4554887a3ec301cdbc29b05",
            "9fa0d7b786764c7bb0049f826839ec91",
            "1e3a0ba3ff6f40e089c5e011b389541c",
            "270ff84b89244e68b15c4ff90f2c69b2"
          ]
        },
        "id": "-c6a83OBf2nM",
        "outputId": "538b8fe2-990b-43a8-ecbc-158932127eba"
      },
      "source": [
        "model = BertForSequenceClassification.from_pretrained('bert-base-uncased')"
      ],
      "execution_count": null,
      "outputs": [
        {
          "output_type": "display_data",
          "data": {
            "application/vnd.jupyter.widget-view+json": {
              "model_id": "9ff9a323bbea4ce8addb5d7710c27919",
              "version_minor": 0,
              "version_major": 2
            },
            "text/plain": [
              "HBox(children=(FloatProgress(value=0.0, description='Downloading', max=570.0, style=ProgressStyle(description_…"
            ]
          },
          "metadata": {
            "tags": []
          }
        },
        {
          "output_type": "stream",
          "text": [
            "\n"
          ],
          "name": "stdout"
        },
        {
          "output_type": "display_data",
          "data": {
            "application/vnd.jupyter.widget-view+json": {
              "model_id": "b5567c0bbfa346c1a8a6c3c13591e634",
              "version_minor": 0,
              "version_major": 2
            },
            "text/plain": [
              "HBox(children=(FloatProgress(value=0.0, description='Downloading', max=440473133.0, style=ProgressStyle(descri…"
            ]
          },
          "metadata": {
            "tags": []
          }
        },
        {
          "output_type": "stream",
          "text": [
            "\n"
          ],
          "name": "stdout"
        },
        {
          "output_type": "stream",
          "text": [
            "Some weights of the model checkpoint at bert-base-uncased were not used when initializing BertForSequenceClassification: ['cls.seq_relationship.bias', 'cls.predictions.transform.dense.bias', 'cls.predictions.transform.LayerNorm.weight', 'cls.predictions.transform.LayerNorm.bias', 'cls.predictions.transform.dense.weight', 'cls.predictions.decoder.weight', 'cls.seq_relationship.weight', 'cls.predictions.bias']\n",
            "- This IS expected if you are initializing BertForSequenceClassification from the checkpoint of a model trained on another task or with another architecture (e.g. initializing a BertForSequenceClassification model from a BertForPreTraining model).\n",
            "- This IS NOT expected if you are initializing BertForSequenceClassification from the checkpoint of a model that you expect to be exactly identical (initializing a BertForSequenceClassification model from a BertForSequenceClassification model).\n",
            "Some weights of BertForSequenceClassification were not initialized from the model checkpoint at bert-base-uncased and are newly initialized: ['classifier.bias', 'classifier.weight']\n",
            "You should probably TRAIN this model on a down-stream task to be able to use it for predictions and inference.\n"
          ],
          "name": "stderr"
        }
      ]
    },
    {
      "cell_type": "code",
      "metadata": {
        "colab": {
          "base_uri": "https://localhost:8080/",
          "height": 169,
          "referenced_widgets": [
            "30c130e589654135805e62cce088c82b",
            "4fb61c8c5e7e4d089d3387a83d5036ba",
            "7118f4d9f1574c92a522ce5d360626ce",
            "66d3478d09c64798a03b2d131a87b9d7",
            "60dd61cf7b194bd3a87009b058a5aa03",
            "f283f451ed5d42458b0eef64ce95400b",
            "0185055f0ed24968aec6cabff5a058c3",
            "8949528c61634415ba782b693bb7c143",
            "63f55c6d80594fc093909064ba4a68f7",
            "7386c88220724d469537fd69090e9c5a",
            "9294ae6bdb1a421ea0da012e79e9aaea",
            "a7ed8e55c8cf43539a10b08462e408a1",
            "86abc4767a2243a292e9c2fe2a53e7bc",
            "52dc07f1638a471ab048d20182bd4e0e",
            "0da92bc4be3f4004810a87b94bc9d822",
            "a022777326a3401caacaa73b08ad3cca",
            "d6dc16e2948a42f2b566360e663d132d",
            "0a5cb4c0f3664974babdc867d09137c9",
            "9ffb97567c6d4ef3838a17ab0e149984",
            "8053c747b48a4146ae600aa14b091571",
            "1b6726fd92224828988854eb775cef6f",
            "193808968c414bc89e338f7a11d2aa8a",
            "ae555d32b6ab4bf1961e6549ac9707a6",
            "40f359a7befd43a6b9a2fe8d33c6f754"
          ]
        },
        "id": "MdMsjpVCf6fU",
        "outputId": "e49d4927-c68a-4fec-9663-db21c8970a0f"
      },
      "source": [
        "tokenizer = BertTokenizerFast.from_pretrained('bert-base-uncased')"
      ],
      "execution_count": null,
      "outputs": [
        {
          "output_type": "display_data",
          "data": {
            "application/vnd.jupyter.widget-view+json": {
              "model_id": "30c130e589654135805e62cce088c82b",
              "version_minor": 0,
              "version_major": 2
            },
            "text/plain": [
              "HBox(children=(FloatProgress(value=0.0, description='Downloading', max=231508.0, style=ProgressStyle(descripti…"
            ]
          },
          "metadata": {
            "tags": []
          }
        },
        {
          "output_type": "stream",
          "text": [
            "\n"
          ],
          "name": "stdout"
        },
        {
          "output_type": "display_data",
          "data": {
            "application/vnd.jupyter.widget-view+json": {
              "model_id": "63f55c6d80594fc093909064ba4a68f7",
              "version_minor": 0,
              "version_major": 2
            },
            "text/plain": [
              "HBox(children=(FloatProgress(value=0.0, description='Downloading', max=466062.0, style=ProgressStyle(descripti…"
            ]
          },
          "metadata": {
            "tags": []
          }
        },
        {
          "output_type": "stream",
          "text": [
            "\n"
          ],
          "name": "stdout"
        },
        {
          "output_type": "display_data",
          "data": {
            "application/vnd.jupyter.widget-view+json": {
              "model_id": "d6dc16e2948a42f2b566360e663d132d",
              "version_minor": 0,
              "version_major": 2
            },
            "text/plain": [
              "HBox(children=(FloatProgress(value=0.0, description='Downloading', max=28.0, style=ProgressStyle(description_w…"
            ]
          },
          "metadata": {
            "tags": []
          }
        },
        {
          "output_type": "stream",
          "text": [
            "\n"
          ],
          "name": "stdout"
        }
      ]
    },
    {
      "cell_type": "code",
      "metadata": {
        "id": "ZmWX9CxSgHOa"
      },
      "source": [
        "def preprocess(data):\n",
        "    return tokenizer(data['text'], padding=True, truncation=True)"
      ],
      "execution_count": null,
      "outputs": []
    },
    {
      "cell_type": "code",
      "metadata": {
        "colab": {
          "base_uri": "https://localhost:8080/",
          "height": 118,
          "referenced_widgets": [
            "0d466d6221364bc0a001943c772b46ab",
            "b21d63188fec4923aa268a3100b41e5b",
            "64a6bb554c264515b22ee4766b8fde06",
            "5a61b36763394ae99b8972b4a0f3eb83",
            "b629fe6541bd43698829bbf36ed1e2de",
            "81aa853c0588463298d8fd5eafd6e2c2",
            "76f15478a86242a6ac6e662d76a59fae",
            "53c2ef6970db478191e955d1b79eefde",
            "5fc18c376d684752b2cbad3935266c61",
            "35d8041400ab43a99e19a043bc05f439",
            "f30bfc014d8b41d1811c4d27e849d5bb",
            "01fff9c68c70477392260e99315d529c",
            "4ba4638f75f0419fb54255904af750b8",
            "a4e3f625c57f43439cc66dcfa29e0592",
            "ca5056b1dfff47af84e6ede1357b0cae",
            "c8833e9df8484fef8c33c098106a8b52"
          ]
        },
        "id": "Xnaz--Rfg7i7",
        "outputId": "6247c58e-923a-424d-c2ec-59947984c4fe"
      },
      "source": [
        "train_set = train_set.map(preprocess, batched=True, batch_size=len(train_set))\n",
        "test_set = test_set.map(preprocess, batched=True, batch_size=len(test_set))"
      ],
      "execution_count": null,
      "outputs": [
        {
          "output_type": "display_data",
          "data": {
            "application/vnd.jupyter.widget-view+json": {
              "model_id": "0d466d6221364bc0a001943c772b46ab",
              "version_minor": 0,
              "version_major": 2
            },
            "text/plain": [
              "HBox(children=(FloatProgress(value=0.0, max=1.0), HTML(value='')))"
            ]
          },
          "metadata": {
            "tags": []
          }
        },
        {
          "output_type": "stream",
          "text": [
            "\n"
          ],
          "name": "stdout"
        },
        {
          "output_type": "display_data",
          "data": {
            "application/vnd.jupyter.widget-view+json": {
              "model_id": "5fc18c376d684752b2cbad3935266c61",
              "version_minor": 0,
              "version_major": 2
            },
            "text/plain": [
              "HBox(children=(FloatProgress(value=0.0, max=1.0), HTML(value='')))"
            ]
          },
          "metadata": {
            "tags": []
          }
        },
        {
          "output_type": "stream",
          "text": [
            "\n"
          ],
          "name": "stdout"
        }
      ]
    },
    {
      "cell_type": "code",
      "metadata": {
        "id": "L0NqpDQIg_UU"
      },
      "source": [
        "train_set.set_format('torch', columns=['input_ids', 'attention_mask', 'label'])\n",
        "test_set.set_format('torch', columns=['input_ids', 'attention_mask', 'label'])"
      ],
      "execution_count": null,
      "outputs": []
    },
    {
      "cell_type": "code",
      "metadata": {
        "id": "euP9MVQ_i8uQ"
      },
      "source": [
        "batch_size = 8\n",
        "epochs = 4\n",
        "warmup_steps = 500\n",
        "weight_decay = 0.01"
      ],
      "execution_count": null,
      "outputs": []
    },
    {
      "cell_type": "code",
      "metadata": {
        "colab": {
          "base_uri": "https://localhost:8080/"
        },
        "id": "LwNewUZYjBWh",
        "outputId": "5754ace4-a014-4732-8a3b-437ba17fa232"
      },
      "source": [
        "training_args = TrainingArguments(\n",
        "    output_dir='./results',\n",
        "    num_train_epochs=epochs,\n",
        "    per_device_train_batch_size=batch_size,\n",
        "    per_device_eval_batch_size=batch_size,\n",
        "    warmup_steps=warmup_steps,\n",
        "    weight_decay=weight_decay,\n",
        "    logging_dir='./logs'\n",
        ")"
      ],
      "execution_count": null,
      "outputs": [
        {
          "output_type": "stream",
          "text": [
            "PyTorch: setting up devices\n",
            "The default value for the training argument `--report_to` will change in v5 (from all installed integrations to none). In v5, you will need to use `--report_to all` to get the same behavior as now. You should start updating your code and make this info disappear :-).\n"
          ],
          "name": "stderr"
        }
      ]
    },
    {
      "cell_type": "code",
      "metadata": {
        "id": "coSu9_G5hJX7"
      },
      "source": [
        "trainer = Trainer(\n",
        "    model=model,\n",
        "    args=training_args,\n",
        "    train_dataset=train_set,\n",
        "    eval_dataset=test_set\n",
        ")"
      ],
      "execution_count": null,
      "outputs": []
    },
    {
      "cell_type": "code",
      "metadata": {
        "colab": {
          "base_uri": "https://localhost:8080/",
          "height": 338
        },
        "id": "NocCTcEmhUmS",
        "outputId": "145762f5-22c5-4a54-a8e7-fa76614711f4"
      },
      "source": [
        "trainer.train()"
      ],
      "execution_count": null,
      "outputs": [
        {
          "output_type": "stream",
          "text": [
            "***** Running training *****\n",
            "  Num examples = 70\n",
            "  Num Epochs = 4\n",
            "  Instantaneous batch size per device = 8\n",
            "  Total train batch size (w. parallel, distributed & accumulation) = 8\n",
            "  Gradient Accumulation steps = 1\n",
            "  Total optimization steps = 36\n"
          ],
          "name": "stderr"
        },
        {
          "output_type": "display_data",
          "data": {
            "text/html": [
              "\n",
              "    <div>\n",
              "      \n",
              "      <progress value='36' max='36' style='width:300px; height:20px; vertical-align: middle;'></progress>\n",
              "      [36/36 00:26, Epoch 4/4]\n",
              "    </div>\n",
              "    <table border=\"1\" class=\"dataframe\">\n",
              "  <thead>\n",
              "    <tr style=\"text-align: left;\">\n",
              "      <th>Step</th>\n",
              "      <th>Training Loss</th>\n",
              "    </tr>\n",
              "  </thead>\n",
              "  <tbody>\n",
              "  </tbody>\n",
              "</table><p>"
            ],
            "text/plain": [
              "<IPython.core.display.HTML object>"
            ]
          },
          "metadata": {
            "tags": []
          }
        },
        {
          "output_type": "stream",
          "text": [
            "\n",
            "\n",
            "Training completed. Do not forget to share your model on huggingface.co/models =)\n",
            "\n",
            "\n"
          ],
          "name": "stderr"
        },
        {
          "output_type": "execute_result",
          "data": {
            "text/plain": [
              "TrainOutput(global_step=36, training_loss=0.630040168762207, metrics={'train_runtime': 27.7478, 'train_samples_per_second': 10.091, 'train_steps_per_second': 1.297, 'total_flos': 94173566484480.0, 'train_loss': 0.630040168762207, 'epoch': 4.0})"
            ]
          },
          "metadata": {
            "tags": []
          },
          "execution_count": 35
        }
      ]
    },
    {
      "cell_type": "code",
      "metadata": {
        "colab": {
          "base_uri": "https://localhost:8080/",
          "height": 187
        },
        "id": "6YF5ZsDxhWk0",
        "outputId": "f6897ee2-ce91-4828-cf77-1fb1eefdbe0d"
      },
      "source": [
        "trainer.evaluate()"
      ],
      "execution_count": null,
      "outputs": [
        {
          "output_type": "stream",
          "text": [
            "***** Running Evaluation *****\n",
            "  Num examples = 30\n",
            "  Batch size = 8\n"
          ],
          "name": "stderr"
        },
        {
          "output_type": "display_data",
          "data": {
            "text/html": [
              "\n",
              "    <div>\n",
              "      \n",
              "      <progress value='8' max='4' style='width:300px; height:20px; vertical-align: middle;'></progress>\n",
              "      [4/4 01:30]\n",
              "    </div>\n",
              "    "
            ],
            "text/plain": [
              "<IPython.core.display.HTML object>"
            ]
          },
          "metadata": {
            "tags": []
          }
        },
        {
          "output_type": "execute_result",
          "data": {
            "text/plain": [
              "{'epoch': 4.0,\n",
              " 'eval_loss': 0.658623993396759,\n",
              " 'eval_runtime': 1.0231,\n",
              " 'eval_samples_per_second': 29.322,\n",
              " 'eval_steps_per_second': 3.91}"
            ]
          },
          "metadata": {
            "tags": []
          },
          "execution_count": 37
        }
      ]
    },
    {
      "cell_type": "markdown",
      "metadata": {
        "id": "gqkBUFrA07PB"
      },
      "source": [
        "## question and answers"
      ]
    },
    {
      "cell_type": "code",
      "metadata": {
        "id": "n2ouv8tDjxHE"
      },
      "source": [
        "from transformers import BertForQuestionAnswering, BertTokenizer\n"
      ],
      "execution_count": 9,
      "outputs": []
    },
    {
      "cell_type": "code",
      "metadata": {
        "colab": {
          "base_uri": "https://localhost:8080/",
          "height": 118,
          "referenced_widgets": [
            "91404840dc924c5abc496d6a98931462",
            "084e77f62b284f2e8a4ba9adac72eab5",
            "337f675776f9496aa682bfdd79cfc968",
            "73cf2ee04e274d07a36ef42d91855e2f",
            "c5f867c4e74049c2b255f309376c685c",
            "3e0e7eaea00545ce88ca899600716c0d",
            "32f73d5c78ac4c4499afba17369819a6",
            "a24c881b5baa475cb8091edef25addef",
            "4ebca7f46c6548d78c2fbd0d90a7ba92",
            "491064e45bda4f0b9ab452b0792ed982",
            "727b291bb5c145f5bef1100893ced218",
            "ba8153a75dda41feb3b1bba564acc943",
            "36f2b2a5091e409f96d84018eba02c32",
            "d96218e2f6ae44f2893347cc1a6230a6",
            "8071cb79d2c14c379a98fd7805d9b8ab",
            "a1d613954fc548f39b0595a2eef1a457"
          ]
        },
        "id": "F92aogIw1Yl_",
        "outputId": "4aa02fb8-edb6-4498-894d-782582f5977b"
      },
      "source": [
        "model = BertForQuestionAnswering.from_pretrained('bert-large-uncased-whole-word-masking-finetuned-squad')"
      ],
      "execution_count": 11,
      "outputs": [
        {
          "output_type": "display_data",
          "data": {
            "application/vnd.jupyter.widget-view+json": {
              "model_id": "91404840dc924c5abc496d6a98931462",
              "version_minor": 0,
              "version_major": 2
            },
            "text/plain": [
              "HBox(children=(FloatProgress(value=0.0, description='Downloading', max=443.0, style=ProgressStyle(description_…"
            ]
          },
          "metadata": {
            "tags": []
          }
        },
        {
          "output_type": "stream",
          "text": [
            "\n"
          ],
          "name": "stdout"
        },
        {
          "output_type": "display_data",
          "data": {
            "application/vnd.jupyter.widget-view+json": {
              "model_id": "4ebca7f46c6548d78c2fbd0d90a7ba92",
              "version_minor": 0,
              "version_major": 2
            },
            "text/plain": [
              "HBox(children=(FloatProgress(value=0.0, description='Downloading', max=1340675298.0, style=ProgressStyle(descr…"
            ]
          },
          "metadata": {
            "tags": []
          }
        },
        {
          "output_type": "stream",
          "text": [
            "\n"
          ],
          "name": "stdout"
        }
      ]
    },
    {
      "cell_type": "code",
      "metadata": {
        "id": "6tnVuD7_19IN"
      },
      "source": [
        "tokenizer = BertTokenizer.from_pretrained('bert-large-uncased-whole-word-masking-finetuned-squad')"
      ],
      "execution_count": 69,
      "outputs": []
    },
    {
      "cell_type": "code",
      "metadata": {
        "id": "svn3LZva2GFt"
      },
      "source": [
        "question = \"What is the immune system?\"\n",
        "paragraph = \"The immune system is a system of many biological structures and processes within an organism that protects against disease. To function properly, an immune system must detect a wide variety of agents, known as pathogens, from viruses to parasitic worms, and distinguish them from the organism's own healthy tissue.\""
      ],
      "execution_count": 70,
      "outputs": []
    },
    {
      "cell_type": "code",
      "metadata": {
        "colab": {
          "base_uri": "https://localhost:8080/"
        },
        "id": "d9647cyNIRk7",
        "outputId": "5e97fa7c-095c-4c46-f24d-1e9ed0e08211"
      },
      "source": [
        "input_ids = tokenizer.encode(question, paragraph)\n",
        "\n",
        "print(\"The input has a total of {:} tokens.\".format(len(input_ids)))"
      ],
      "execution_count": 71,
      "outputs": [
        {
          "output_type": "stream",
          "text": [
            "The input has a total of 67 tokens.\n"
          ],
          "name": "stdout"
        }
      ]
    },
    {
      "cell_type": "code",
      "metadata": {
        "colab": {
          "base_uri": "https://localhost:8080/"
        },
        "id": "8fNXqQmzKlu2",
        "outputId": "067aec82-598d-4ce2-8663-7dc59e2d5c20"
      },
      "source": [
        "tokens = tokenizer.convert_ids_to_tokens(input_ids)\n",
        "\n",
        "print(len(tokens))"
      ],
      "execution_count": 72,
      "outputs": [
        {
          "output_type": "stream",
          "text": [
            "67\n"
          ],
          "name": "stdout"
        }
      ]
    },
    {
      "cell_type": "code",
      "metadata": {
        "colab": {
          "base_uri": "https://localhost:8080/"
        },
        "id": "vKWC_N48IpFy",
        "outputId": "a75c1c54-e3c4-4cdb-f0a1-d1e40c7cc814"
      },
      "source": [
        "\n",
        "for token, id in zip(tokens, input_ids):\n",
        "\n",
        "    if id == tokenizer.sep_token_id:\n",
        "        print('')\n",
        "\n",
        "    print('{:<12} {:>6,}'.format(token, id))\n",
        "\n",
        "    #if id == tokenizer.sep_token_id:\n",
        "    #    print('')"
      ],
      "execution_count": 86,
      "outputs": [
        {
          "output_type": "stream",
          "text": [
            "[CLS]           101\n",
            "what          2,054\n",
            "is            2,003\n",
            "the           1,996\n",
            "immune       11,311\n",
            "system        2,291\n",
            "?             1,029\n",
            "\n",
            "[SEP]           102\n",
            "the           1,996\n",
            "immune       11,311\n",
            "system        2,291\n",
            "is            2,003\n",
            "a             1,037\n",
            "system        2,291\n",
            "of            1,997\n",
            "many          2,116\n",
            "biological    6,897\n",
            "structures    5,090\n",
            "and           1,998\n",
            "processes     6,194\n",
            "within        2,306\n",
            "an            2,019\n",
            "organism     15,923\n",
            "that          2,008\n",
            "protects     18,227\n",
            "against       2,114\n",
            "disease       4,295\n",
            ".             1,012\n",
            "to            2,000\n",
            "function      3,853\n",
            "properly      7,919\n",
            ",             1,010\n",
            "an            2,019\n",
            "immune       11,311\n",
            "system        2,291\n",
            "must          2,442\n",
            "detect       11,487\n",
            "a             1,037\n",
            "wide          2,898\n",
            "variety       3,528\n",
            "of            1,997\n",
            "agents        6,074\n",
            ",             1,010\n",
            "known         2,124\n",
            "as            2,004\n",
            "pathogen     26,835\n",
            "##s           2,015\n",
            ",             1,010\n",
            "from          2,013\n",
            "viruses      18,191\n",
            "to            2,000\n",
            "parasitic    26,045\n",
            "worms        16,253\n",
            ",             1,010\n",
            "and           1,998\n",
            "distinguish  10,782\n",
            "them          2,068\n",
            "from          2,013\n",
            "the           1,996\n",
            "organism     15,923\n",
            "'             1,005\n",
            "s             1,055\n",
            "own           2,219\n",
            "healthy       7,965\n",
            "tissue        8,153\n",
            ".             1,012\n",
            "\n",
            "[SEP]           102\n"
          ],
          "name": "stdout"
        }
      ]
    },
    {
      "cell_type": "code",
      "metadata": {
        "colab": {
          "base_uri": "https://localhost:8080/"
        },
        "id": "FMf3nB5qNphE",
        "outputId": "fd3a7472-cacb-4510-966e-fb860fb8f46e"
      },
      "source": [
        "input_ids.index(tokenizer.sep_token_id)"
      ],
      "execution_count": 80,
      "outputs": [
        {
          "output_type": "execute_result",
          "data": {
            "text/plain": [
              "7"
            ]
          },
          "metadata": {
            "tags": []
          },
          "execution_count": 80
        }
      ]
    },
    {
      "cell_type": "code",
      "metadata": {
        "colab": {
          "base_uri": "https://localhost:8080/"
        },
        "id": "AFuF_TyX2Kca",
        "outputId": "1cd17e03-f200-4ecf-970e-83db41bc8807"
      },
      "source": [
        "sep_index =  input_ids.index(tokenizer.sep_token_id)\n",
        "num_seg_a = sep_index + 1\n",
        "print(num_seg_a)\n",
        "num_seg_b = len(input_ids) - num_seg_a\n",
        "print(num_seg_b)\n",
        "\n",
        "segment_ids = [0]*num_seg_a + [1]*num_seg_b\n",
        "\n",
        "print(len(segment_ids))\n",
        "print(len(input_ids))\n",
        "\n"
      ],
      "execution_count": 82,
      "outputs": [
        {
          "output_type": "stream",
          "text": [
            "8\n",
            "59\n",
            "67\n",
            "67\n"
          ],
          "name": "stdout"
        }
      ]
    },
    {
      "cell_type": "markdown",
      "metadata": {
        "id": "RXxpdj9i8mSk"
      },
      "source": [
        ""
      ]
    },
    {
      "cell_type": "code",
      "metadata": {
        "id": "eq5fd5NL2d6e"
      },
      "source": [
        "output = model(torch.tensor([input_ids]), token_type_ids = torch.tensor([segment_ids]))"
      ],
      "execution_count": 83,
      "outputs": []
    },
    {
      "cell_type": "code",
      "metadata": {
        "id": "AropEMkn2kr3"
      },
      "source": [
        "start_index = torch.argmax(output.start_logits)\n",
        "end_index = torch.argmax(output.end_logits)"
      ],
      "execution_count": 84,
      "outputs": []
    },
    {
      "cell_type": "code",
      "metadata": {
        "colab": {
          "base_uri": "https://localhost:8080/"
        },
        "id": "mOk_RtdV2mMS",
        "outputId": "7a175c04-8ceb-4a46-927b-24841b1e0b7d"
      },
      "source": [
        "print(' '.join(tokens[start_index:end_index+1]))"
      ],
      "execution_count": 85,
      "outputs": [
        {
          "output_type": "stream",
          "text": [
            "a system of many biological structures and processes within an organism that protects against disease\n"
          ],
          "name": "stdout"
        }
      ]
    },
    {
      "cell_type": "code",
      "metadata": {
        "id": "GXnykPFH2o38"
      },
      "source": [
        ""
      ],
      "execution_count": null,
      "outputs": []
    }
  ]
}